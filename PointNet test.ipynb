{
 "cells": [
  {
   "cell_type": "code",
   "execution_count": null,
   "metadata": {},
   "outputs": [],
   "source": [
    "import numpy as np\n",
    "import matplotlib.pyplot as plt\n",
    "from mpl_toolkits.mplot3d import Axes3D\n",
    "points = np.loadtxt('191.pts')\n",
    "labels = np.loadtxt('191.seg', dtype=int)\n",
    "def plot_point_cloud_with_segmentation(points, labels, title=\"Point Cloud Segmentation\"):\n",
    "    fig = plt.figure(figsize=(10,10))\n",
    "    ax = fig.add_subplot(111, projection='3d')\n",
    "    scatter = ax.scatter(points[:,0], points[:,1], points[:,2], c=labels, cmap='jet', s=5, alpha=0.8)\n",
    "    cbar = fig.colorbar(scatter, ax=ax, shrink=0.5)\n",
    "    cbar.set_label(\"Segmentation Label\")\n",
    "    ax.set_xlabel(\"X\")\n",
    "    ax.set_ylabel(\"Y\")\n",
    "    ax.set_zlabel(\"Z\")\n",
    "    ax.set_title(title)\n",
    "    plt.show()\n",
    "plot_point_cloud_with_segmentation(points, labels)"
   ]
  }
 ],
 "metadata": {
  "kernelspec": {
   "display_name": "my312",
   "language": "python",
   "name": "python3"
  },
  "language_info": {
   "name": "python",
   "version": "3.12.9"
  }
 },
 "nbformat": 4,
 "nbformat_minor": 2
}
