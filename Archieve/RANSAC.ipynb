{
 "cells": [
  {
   "cell_type": "code",
   "execution_count": 52,
   "metadata": {},
   "outputs": [],
   "source": [
    "import laspy\n",
    "import numpy as np\n",
    "from sklearn.preprocessing import StandardScaler, MinMaxScaler\n",
    "import open3d as o3d\n",
    "\n",
    "\n",
    "# Load LAS file\n",
    "las = laspy.read(\"/Users/hdong/Projects/RoofSegmentation/outputs/P5123C2_9_g_h_b2_n_c6.las\")\n",
    "points = np.vstack((las.x, las.y, las.z)).transpose()\n",
    "\n",
    "# pcd = o3d.geometry.PointCloud()\n",
    "# pcd.points = o3d.utility.Vector3dVector(points)\n",
    "\n",
    "# # Normalize the point cloud\n",
    "# # scaler = StandardScaler()\n",
    "# # points_normalized = scaler.fit_transform(points)\n",
    "\n",
    "# pcd_downsampled = pcd.voxel_down_sample(voxel_size=0.5)  # Adjust voxel size as needed\n",
    "# points = np.asarray(pcd_downsampled.points)"
   ]
  },
  {
   "cell_type": "code",
   "execution_count": 53,
   "metadata": {},
   "outputs": [],
   "source": [
    "from sklearn.linear_model import RANSACRegressor\n",
    "\n",
    "def ransac_plane_segmentation(points, min_samples=3, residual_threshold=0.1, max_trials=10000):\n",
    "    best_inliers = []\n",
    "    remaining_points = points.copy()\n",
    "    \n",
    "    while len(remaining_points) > min_samples:\n",
    "        # Fit plane using RANSAC\n",
    "        ransac = RANSACRegressor(min_samples=min_samples, residual_threshold=residual_threshold, max_trials=max_trials)\n",
    "        ransac.fit(remaining_points[:, :2], remaining_points[:, 2])\n",
    "        \n",
    "        # Get inliers\n",
    "        inlier_mask = ransac.inlier_mask_\n",
    "        inliers = remaining_points[inlier_mask]\n",
    "        \n",
    "        # Check if we found a significant plane\n",
    "        if len(inliers) > min_samples:\n",
    "            best_inliers.append(inliers)\n",
    "            remaining_points = remaining_points[~inlier_mask]\n",
    "        else:\n",
    "            break\n",
    "    \n",
    "    return best_inliers, remaining_points\n",
    "\n",
    "# Segment planes\n",
    "segmented_planes, outliers = ransac_plane_segmentation(points)\n"
   ]
  },
  {
   "cell_type": "code",
   "execution_count": 46,
   "metadata": {},
   "outputs": [],
   "source": [
    "from sklearn.cluster import DBSCAN\n",
    "\n",
    "def refine_and_classify_planes(segmented_planes, eps=0.5, min_samples=10):\n",
    "    refined_planes = []\n",
    "    for plane in segmented_planes:\n",
    "        # Use DBSCAN to cluster points within each plane\n",
    "        dbscan = DBSCAN(eps=eps, min_samples=min_samples)\n",
    "        labels = dbscan.fit_predict(plane)\n",
    "        \n",
    "        # Separate clusters\n",
    "        unique_labels = np.unique(labels)\n",
    "        for label in unique_labels:\n",
    "            if label != -1:  # Ignore noise points\n",
    "                refined_planes.append(plane[labels == label])\n",
    "    \n",
    "    return refined_planes\n",
    "\n",
    "# Refine and classify planes\n",
    "roof_planes = refine_and_classify_planes(segmented_planes)\n"
   ]
  },
  {
   "cell_type": "code",
   "execution_count": 56,
   "metadata": {},
   "outputs": [
    {
     "ename": "",
     "evalue": "",
     "output_type": "error",
     "traceback": [
      "\u001b[1;31mThe Kernel crashed while executing code in the current cell or a previous cell. \n",
      "\u001b[1;31mPlease review the code in the cell(s) to identify a possible cause of the failure. \n",
      "\u001b[1;31mClick <a href='https://aka.ms/vscodeJupyterKernelCrash'>here</a> for more info. \n",
      "\u001b[1;31mView Jupyter <a href='command:jupyter.viewOutput'>log</a> for further details."
     ]
    }
   ],
   "source": [
    "import open3d as o3d\n",
    "\n",
    "def visualize_segmented_planes(planes):\n",
    "    # colors = [[1, 0, 0], [0, 1, 0], [0, 0, 1], [1, 1, 0], [1, 0, 1], [0, 1, 1]]\n",
    "    pcd = o3d.geometry.PointCloud()\n",
    "    \n",
    "    for i, plane in enumerate(planes):\n",
    "        plane_pcd = o3d.geometry.PointCloud()\n",
    "        plane_pcd.points = o3d.utility.Vector3dVector(plane)\n",
    "        # plane_pcd.paint_uniform_color(colors[i % len(colors)])\n",
    "        plane_pcd.paint_uniform_color(np.random.rand(3))\n",
    "        pcd += plane_pcd\n",
    "    \n",
    "    o3d.visualization.draw_geometries([pcd])\n",
    "\n",
    "# Visualize segmented roof planes\n",
    "visualize_segmented_planes(segmented_planes)\n"
   ]
  },
  {
   "cell_type": "code",
   "execution_count": 6,
   "metadata": {},
   "outputs": [],
   "source": [
    "def save_segmented_planes_with_labels_to_las(planes, output_file=\"segmented_planes_with_labels.las\"):\n",
    "    # Combine all planes into a single array and assign labels\n",
    "    all_points = []\n",
    "    labels = []\n",
    "    for label, plane in enumerate(planes):\n",
    "        all_points.append(plane)\n",
    "        labels.extend([label] * len(plane))\n",
    "\n",
    "    all_points = np.vstack(all_points)\n",
    "    labels = np.array(labels)\n",
    "\n",
    "    # Create a new LAS file\n",
    "    header = laspy.LasHeader(point_format=3, version=\"1.2\")\n",
    "    las = laspy.LasData(header)\n",
    "\n",
    "    # Assign x, y, z coordinates\n",
    "    las.x = all_points[:, 0]\n",
    "    las.y = all_points[:, 1]\n",
    "    las.z = all_points[:, 2]\n",
    "\n",
    "    # Add labels as a new dimension (classification field)\n",
    "    las.classification = labels\n",
    "\n",
    "    # Save to file\n",
    "    las.write(output_file)\n",
    "    print(f\"Segmented planes with labels saved to {output_file}\")\n"
   ]
  },
  {
   "cell_type": "code",
   "execution_count": 55,
   "metadata": {},
   "outputs": [
    {
     "name": "stdout",
     "output_type": "stream",
     "text": [
      "Segmented planes with labels saved to /Users/hdong/Projects/RoofSegmentation/outputs/P5123C2_9_b_2.classified_roofs_2.las\n"
     ]
    }
   ],
   "source": [
    "save_segmented_planes_with_labels_to_las(segmented_planes, \"/Users/hdong/Projects/RoofSegmentation/outputs/P5123C2_9_b_2.classified_roofs_2.las\")"
   ]
  },
  {
   "cell_type": "code",
   "execution_count": null,
   "metadata": {},
   "outputs": [],
   "source": [
    "# Assign labels to the LAS file points\n",
    "labels = np.zeros(len(points))  # Initialize labels as 0\n",
    "current_label = 1\n",
    "\n",
    "for inliers in plane_inliers:\n",
    "    indices = np.asarray(inliers)\n",
    "    labels[indices] = current_label\n",
    "    current_label += 1\n",
    "\n",
    "# Save the LAS file with labels\n",
    "\n",
    "las.add_extra_dim(laspy.ExtraBytesParams(\n",
    "    name=\"classification\",\n",
    "    type=np.uint8\n",
    "))\n",
    "# las.add_extra_dim(name=\"classification\", data_type=laspy.ExtraBytesParams.DATA_TYPE_UINT8)\n",
    "las.classification = labels.astype(np.uint8)\n",
    "\n",
    "las.write(\"/Users/hdong/Projects/RoofSegmentation/outputs/P5123C2_9_b_2.classified_roofs.las\")"
   ]
  }
 ],
 "metadata": {
  "kernelspec": {
   "display_name": "my312",
   "language": "python",
   "name": "python3"
  },
  "language_info": {
   "codemirror_mode": {
    "name": "ipython",
    "version": 3
   },
   "file_extension": ".py",
   "mimetype": "text/x-python",
   "name": "python",
   "nbconvert_exporter": "python",
   "pygments_lexer": "ipython3",
   "version": "3.12.2"
  }
 },
 "nbformat": 4,
 "nbformat_minor": 2
}
