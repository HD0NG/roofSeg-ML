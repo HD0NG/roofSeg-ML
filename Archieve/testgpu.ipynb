{
 "cells": [
  {
   "cell_type": "code",
   "execution_count": 1,
   "metadata": {},
   "outputs": [
    {
     "name": "stdout",
     "output_type": "stream",
     "text": [
      "CUDA GPU is available.\n"
     ]
    }
   ],
   "source": [
    "import torch\n",
    "import time\n",
    "import torch.nn as nn\n",
    "import torch.optim as optim\n",
    "\n",
    "if torch.cuda.is_available():\n",
    "    device = torch.device(\"cuda\")\n",
    "    print(\"CUDA GPU is available.\")\n",
    "elif torch.backends.mps.is_available():\n",
    "    device = torch.device(\"mps\")\n",
    "    print(\"Apple MPS is available.\")\n",
    "else:\n",
    "    device = torch.device(\"cpu\")\n",
    "    print(\"No GPU available, using CPU.\")\n",
    "\n"
   ]
  },
  {
   "cell_type": "code",
   "execution_count": 2,
   "metadata": {},
   "outputs": [
    {
     "name": "stdout",
     "output_type": "stream",
     "text": [
      "Warming up...\n",
      "Running benchmark for 100 iterations...\n",
      "Completed 10 iterations\n",
      "Completed 20 iterations\n",
      "Completed 30 iterations\n",
      "Completed 40 iterations\n",
      "Completed 50 iterations\n",
      "Completed 60 iterations\n",
      "Completed 70 iterations\n",
      "Completed 80 iterations\n",
      "Completed 90 iterations\n",
      "Completed 100 iterations\n",
      "\n",
      "Device: cuda\n",
      "Total time: 12.1696 seconds\n",
      "Average time per iteration: 0.1217 seconds\n",
      "Iterations per second: 8.22\n"
     ]
    }
   ],
   "source": [
    "# Define a more complex model\n",
    "class ComplexModel(nn.Module):\n",
    "    def __init__(self):\n",
    "        super(ComplexModel, self).__init__()\n",
    "        self.layer1 = nn.Linear(2000, 4000)\n",
    "        self.layer2 = nn.ReLU()\n",
    "        self.layer3 = nn.Linear(4000, 2000)\n",
    "        self.layer4 = nn.ReLU()\n",
    "        self.layer5 = nn.Linear(2000, 1000)\n",
    "        self.layer6 = nn.ReLU()\n",
    "        self.layer7 = nn.Linear(1000, 500)\n",
    "        self.layer8 = nn.ReLU()\n",
    "        self.layer9 = nn.Linear(500, 100)\n",
    "\n",
    "    def forward(self, x):\n",
    "        x = self.layer1(x)\n",
    "        x = self.layer2(x)\n",
    "        x = self.layer3(x)\n",
    "        x = self.layer4(x)\n",
    "        x = self.layer5(x)\n",
    "        x = self.layer6(x)\n",
    "        x = self.layer7(x)\n",
    "        x = self.layer8(x)\n",
    "        x = self.layer9(x)\n",
    "        return x\n",
    "\n",
    "# Initialize model, loss function, and optimizer\n",
    "model = ComplexModel().to(device)\n",
    "criterion = nn.MSELoss()\n",
    "optimizer = optim.Adam(model.parameters(), lr=0.0005)\n",
    "\n",
    "# Generate larger random data\n",
    "input_data = torch.randn(10000, 2000).to(device)\n",
    "target = torch.randn(10000, 100).to(device)\n",
    "\n",
    "# Warm-up\n",
    "print(\"Warming up...\")\n",
    "for _ in range(20):\n",
    "    output = model(input_data)\n",
    "    loss = criterion(output, target)\n",
    "    optimizer.zero_grad()\n",
    "    loss.backward()\n",
    "    optimizer.step()\n",
    "\n",
    "# Benchmark\n",
    "num_iterations = 100\n",
    "print(f\"Running benchmark for {num_iterations} iterations...\")\n",
    "start_time = time.time()\n",
    "\n",
    "for i in range(num_iterations):\n",
    "    output = model(input_data)\n",
    "    loss = criterion(output, target)\n",
    "    optimizer.zero_grad()\n",
    "    loss.backward()\n",
    "    optimizer.step()\n",
    "    if (i + 1) % 10 == 0:\n",
    "        print(f\"Completed {i + 1} iterations\")\n",
    "\n",
    "end_time = time.time()\n",
    "\n",
    "# Calculate and print results\n",
    "total_time = end_time - start_time\n",
    "avg_time_per_iteration = total_time / num_iterations\n",
    "print(f\"\\nDevice: {device}\")\n",
    "print(f\"Total time: {total_time:.4f} seconds\")\n",
    "print(f\"Average time per iteration: {avg_time_per_iteration:.4f} seconds\")\n",
    "print(f\"Iterations per second: {1 / avg_time_per_iteration:.2f}\")\n"
   ]
  }
 ],
 "metadata": {
  "kernelspec": {
   "display_name": "my312",
   "language": "python",
   "name": "python3"
  },
  "language_info": {
   "codemirror_mode": {
    "name": "ipython",
    "version": 3
   },
   "file_extension": ".py",
   "mimetype": "text/x-python",
   "name": "python",
   "nbconvert_exporter": "python",
   "pygments_lexer": "ipython3",
   "version": "3.12.2"
  }
 },
 "nbformat": 4,
 "nbformat_minor": 2
}
