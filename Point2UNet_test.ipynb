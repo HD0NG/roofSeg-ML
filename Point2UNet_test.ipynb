{
 "cells": [
  {
   "cell_type": "code",
   "execution_count": 19,
   "metadata": {},
   "outputs": [],
   "source": [
    "from PointNet2FPUNet import *\n",
    "import numpy as np\n",
    "from sklearn.cluster import MeanShift, estimate_bandwidth\n",
    "import plotly.express as px\n",
    "import pandas as pd\n",
    "from sklearn.decomposition import PCA\n",
    "from sklearn.manifold import TSNE\n",
    "import matplotlib.pyplot as plt\n",
    "import pickle\n",
    "from sklearn.cluster import AgglomerativeClustering"
   ]
  },
  {
   "cell_type": "code",
   "execution_count": null,
   "metadata": {},
   "outputs": [],
   "source": [
    "def inference_on_point_cloud(model, point_cloud, device='cuda', clustering='meanshift'):\n",
    "    \"\"\"\n",
    "    Args:\n",
    "        model: trained PointNet++ U-Net model\n",
    "        point_cloud: (N, 3) numpy array of point cloud\n",
    "        clustering: 'meanshift' or 'dbscan'\n",
    "    Returns:\n",
    "        predicted_labels: (N,) instance labels\n",
    "        embeddings: (N, D) per-point feature embeddings\n",
    "    \"\"\"\n",
    "    model.eval()\n",
    "    point_cloud_tensor = torch.tensor(point_cloud, dtype=torch.float32).unsqueeze(0).to(device)  # (1, N, 3)\n",
    "\n",
    "    with torch.no_grad():\n",
    "        pe = add_positional_encoding(point_cloud_tensor)  # (1, N, 6)\n",
    "        embeddings, skip = model.encoder(point_cloud_tensor, return_skips=True)  # (1, N, D)\n",
    "        embeddings = embeddings.squeeze(0).cpu().numpy()  # → (N, D)\n",
    "\n",
    "    # Clustering\n",
    "    if clustering == 'meanshift':\n",
    "        bandwidth = estimate_bandwidth(embeddings, quantile=0.01, n_samples=500)\n",
    "        clustering = MeanShift(bandwidth=bandwidth, bin_seeding=True).fit(embeddings)\n",
    "    elif clustering == 'dbscan':\n",
    "        from sklearn.cluster import DBSCAN\n",
    "        clustering = DBSCAN(eps=0.3, min_samples=5).fit(embeddings)\n",
    "    elif clustering == 'agglomerative':\n",
    "        clustering = AgglomerativeClustering(n_clusters=None, distance_threshold=1.0).fit(embeddings)\n",
    "    else:\n",
    "        raise ValueError(\"Clustering method must be 'meanshift', 'dbscan', or 'agglomerative'.\")\n",
    "\n",
    "    predicted_labels = clustering.labels_  # shape: (N,)\n",
    "    return predicted_labels, embeddings\n"
   ]
  },
  {
   "cell_type": "code",
   "execution_count": 21,
   "metadata": {},
   "outputs": [],
   "source": [
    "def filter_clusters(labels, min_cluster_size=20):\n",
    "    \"\"\"\n",
    "    Removes small clusters by relabeling them as -1 (noise).\n",
    "    \"\"\"\n",
    "    labels = np.array(labels)\n",
    "    final_labels = labels.copy()\n",
    "    for cluster_id in np.unique(labels):\n",
    "        if cluster_id == -1:\n",
    "            continue\n",
    "        mask = labels == cluster_id\n",
    "        if np.sum(mask) < min_cluster_size:\n",
    "            final_labels[mask] = -1\n",
    "    return final_labels\n"
   ]
  },
  {
   "cell_type": "code",
   "execution_count": 23,
   "metadata": {},
   "outputs": [],
   "source": [
    "def load_clean_point_cloud(file_path, max_points=512):\n",
    "    \"\"\"\n",
    "    Reads a point cloud file, removes non-numeric lines, and ensures exactly 128 points.\n",
    "    \n",
    "    Args:\n",
    "        file_path (str): Path to the .txt file containing point cloud data.\n",
    "        max_points (int): Fixed number of points per cloud (default: 128).\n",
    "    \n",
    "    Returns:\n",
    "        numpy array: (128, 3) shape point cloud with valid XYZ values.\n",
    "    \"\"\"\n",
    "    valid_points = []\n",
    "\n",
    "    with open(file_path, \"r\") as file:\n",
    "        for line in file:\n",
    "            try:\n",
    "                # Convert to float, handling both spaces & commas as delimiters\n",
    "                values = np.array(line.strip().replace(',', ' ').split(), dtype=np.float64)\n",
    "                if len(values) == 3:  # Ensure it's an (X, Y, Z) point\n",
    "                    valid_points.append(values)\n",
    "            except ValueError:\n",
    "                continue  # Skip invalid lines\n",
    "\n",
    "    valid_points = np.array(valid_points)\n",
    "\n",
    "    num_points = valid_points.shape[0]\n",
    "\n",
    "    if num_points > max_points:\n",
    "        # Subsample to 128 points randomly\n",
    "        indices = np.random.choice(num_points, max_points, replace=False)\n",
    "        valid_points = valid_points[indices]\n",
    "    elif num_points < max_points:\n",
    "        # Pad with zeros to reach 128 points\n",
    "        pad_size = max_points - num_points\n",
    "        pad_points = np.zeros((pad_size, 3), dtype=np.float64)\n",
    "        valid_points = np.vstack((valid_points, pad_points))\n",
    "\n",
    "    return valid_points"
   ]
  },
  {
   "cell_type": "code",
   "execution_count": 24,
   "metadata": {},
   "outputs": [],
   "source": [
    "def visualize_embeddings(embeddings, labels=None, method='pca'):\n",
    "    \"\"\"\n",
    "    Visualize 2D projection of embeddings via PCA or t-SNE.\n",
    "    \"\"\"\n",
    "    if method == 'pca':\n",
    "        reducer = PCA(n_components=2)\n",
    "    elif method == 'tsne':\n",
    "        reducer = TSNE(n_components=2, perplexity=30)\n",
    "    else:\n",
    "        raise ValueError(\"Method must be 'pca' or 'tsne'.\")\n",
    "\n",
    "    projected = reducer.fit_transform(embeddings)\n",
    "\n",
    "    plt.figure(figsize=(8, 6))\n",
    "    if labels is not None:\n",
    "        plt.scatter(projected[:, 0], projected[:, 1], c=labels, cmap='Spectral', s=3)\n",
    "    else:\n",
    "        plt.scatter(projected[:, 0], projected[:, 1], s=3)\n",
    "    plt.title(f'Embedding Projection ({method.upper()})')\n",
    "    plt.axis('off')\n",
    "    plt.tight_layout()\n",
    "    plt.show()"
   ]
  },
  {
   "cell_type": "code",
   "execution_count": 25,
   "metadata": {},
   "outputs": [],
   "source": [
    "def visualize_clusters_plotly(points, labels, title=\"3D Instance Segmentation\"):\n",
    "    \"\"\"\n",
    "    Plot point cloud with instance labels using Plotly.\n",
    "    Args:\n",
    "        points: (N, 3)\n",
    "        labels: (N,) array of ints\n",
    "    \"\"\"\n",
    "    df = pd.DataFrame(points, columns=['x', 'y', 'z'])\n",
    "    df['label'] = labels.astype(str)\n",
    "\n",
    "    fig = px.scatter_3d(df, x='x', y='y', z='z', color='label',\n",
    "                        title=title,\n",
    "                        size_max=1, opacity=0.8)\n",
    "    fig.update_traces(marker=dict(size=2))\n",
    "    fig.update_layout(scene=dict(xaxis_visible=False, yaxis_visible=False, zaxis_visible=False))\n",
    "    fig.show()\n"
   ]
  },
  {
   "cell_type": "code",
   "execution_count": 26,
   "metadata": {},
   "outputs": [],
   "source": [
    "def plot_loss_from_pkl(pkl_path):\n",
    "    with open(pkl_path, 'rb') as f:\n",
    "        loss_history = pickle.load(f)\n",
    "\n",
    "    plt.figure(figsize=(8, 5))\n",
    "    plt.plot(loss_history, marker='o', linewidth=2)\n",
    "    plt.title(\"Training Loss Over Epochs\")\n",
    "    plt.xlabel(\"Epoch\")\n",
    "    plt.ylabel(\"Loss\")\n",
    "    plt.grid(True)\n",
    "    plt.tight_layout()\n",
    "    plt.show()"
   ]
  },
  {
   "cell_type": "code",
   "execution_count": 8,
   "metadata": {},
   "outputs": [
    {
     "data": {
      "image/png": "[encoded data removed]",
      "text/plain": [
       "<Figure size 800x500 with 1 Axes>"
      ]
     },
     "metadata": {},
     "output_type": "display_data"
    }
   ],
   "source": [
    "plot_loss_from_pkl(\"model/loss_history_pointnetpp_unet.pkl\")"
   ]
  },
  {
   "cell_type": "code",
   "execution_count": 27,
   "metadata": {},
   "outputs": [
    {
     "name": "stdout",
     "output_type": "stream",
     "text": [
      "✅ Model loaded successfully!\n"
     ]
    }
   ],
   "source": [
    "# Initialize model\n",
    "device = torch.device(\"cuda\" if torch.cuda.is_available() else \"mps\")\n",
    "model = PointNetPPUNet(emb_dim=128, output_dim=64).to(device)\n",
    "\n",
    "# Load trained weights\n",
    "model.load_state_dict(torch.load(\"model/pointnetpp_unet.pth\", map_location=device))\n",
    "model.eval()  # Set model to evaluation mode\n",
    "print(\"✅ Model loaded successfully!\")"
   ]
  },
  {
   "cell_type": "code",
   "execution_count": 39,
   "metadata": {},
   "outputs": [
    {
     "name": "stdout",
     "output_type": "stream",
     "text": [
      "New predicted labels: [0]\n"
     ]
    },
    {
     "data": {
      "image/png": "[encoded data removed]",
      "text/plain": [
       "<Figure size 800x600 with 1 Axes>"
      ]
     },
     "metadata": {},
     "output_type": "display_data"
    },
    {
     "data": {
      "application/vnd.plotly.v1+json": {
       "config": {
        "plotlyServerURL": "https://plot.ly"
       },
       "data": [
        {
         "hovertemplate": "label=0<br>x=%{x}<br>y=%{y}<br>z=%{z}<extra></extra>",
         "legendgroup": "0",
         "marker": {
          "color": "#636efa",
          "opacity": 0.8,
          "size": 2,
          "symbol": "circle"
         },
         "mode": "markers",
         "name": "0",
         "scene": "scene",
         "showlegend": true,
         "type": "scatter3d",
         "x": {
          "bdata": "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",
          "dtype": "f8"
         },
         "y": {
          "bdata": "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",
          "dtype": "f8"
         },
         "z": {
          "bdata": "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",
          "dtype": "f8"
         }
        }
       ],
       "layout": {
        "legend": {
         "title": {
          "text": "label"
         },
         "tracegroupgap": 0
        },
        "scene": {
         "domain": {
          "x": [
           0,
           1
          ],
          "y": [
           0,
           1
          ]
         },
         "xaxis": {
          "title": {
           "text": "x"
          },
          "visible": false
         },
         "yaxis": {
          "title": {
           "text": "y"
          },
          "visible": false
         },
         "zaxis": {
          "title": {
           "text": "z"
          },
          "visible": false
         }
        },
        "template": {
         "data": {
          "bar": [
           {
            "error_x": {
             "color": "#2a3f5f"
            },
            "error_y": {
             "color": "#2a3f5f"
            },
            "marker": {
             "line": {
              "color": "#E5ECF6",
              "width": 0.5
             },
             "pattern": {
              "fillmode": "overlay",
              "size": 10,
              "solidity": 0.2
             }
            },
            "type": "bar"
           }
          ],
          "barpolar": [
           {
            "marker": {
             "line": {
              "color": "#E5ECF6",
              "width": 0.5
             },
             "pattern": {
              "fillmode": "overlay",
              "size": 10,
              "solidity": 0.2
             }
            },
            "type": "barpolar"
           }
          ],
          "carpet": [
           {
            "aaxis": {
             "endlinecolor": "#2a3f5f",
             "gridcolor": "white",
             "linecolor": "white",
             "minorgridcolor": "white",
             "startlinecolor": "#2a3f5f"
            },
            "baxis": {
             "endlinecolor": "#2a3f5f",
             "gridcolor": "white",
             "linecolor": "white",
             "minorgridcolor": "white",
             "startlinecolor": "#2a3f5f"
            },
            "type": "carpet"
           }
          ],
          "choropleth": [
           {
            "colorbar": {
             "outlinewidth": 0,
             "ticks": ""
            },
            "type": "choropleth"
           }
          ],
          "contour": [
           {
            "colorbar": {
             "outlinewidth": 0,
             "ticks": ""
            },
            "colorscale": [
             [
              0,
              "#0d0887"
             ],
             [
              0.1111111111111111,
              "#46039f"
             ],
             [
              0.2222222222222222,
              "#7201a8"
             ],
             [
              0.3333333333333333,
              "#9c179e"
             ],
             [
              0.4444444444444444,
              "#bd3786"
             ],
             [
              0.5555555555555556,
              "#d8576b"
             ],
             [
              0.6666666666666666,
              "#ed7953"
             ],
             [
              0.7777777777777778,
              "#fb9f3a"
             ],
             [
              0.8888888888888888,
              "#fdca26"
             ],
             [
              1,
              "#f0f921"
             ]
            ],
            "type": "contour"
           }
          ],
          "contourcarpet": [
           {
            "colorbar": {
             "outlinewidth": 0,
             "ticks": ""
            },
            "type": "contourcarpet"
           }
          ],
          "heatmap": [
           {
            "colorbar": {
             "outlinewidth": 0,
             "ticks": ""
            },
            "colorscale": [
             [
              0,
              "#0d0887"
             ],
             [
              0.1111111111111111,
              "#46039f"
             ],
             [
              0.2222222222222222,
              "#7201a8"
             ],
             [
              0.3333333333333333,
              "#9c179e"
             ],
             [
              0.4444444444444444,
              "#bd3786"
             ],
             [
              0.5555555555555556,
              "#d8576b"
             ],
             [
              0.6666666666666666,
              "#ed7953"
             ],
             [
              0.7777777777777778,
              "#fb9f3a"
             ],
             [
              0.8888888888888888,
              "#fdca26"
             ],
             [
              1,
              "#f0f921"
             ]
            ],
            "type": "heatmap"
           }
          ],
          "histogram": [
           {
            "marker": {
             "pattern": {
              "fillmode": "overlay",
              "size": 10,
              "solidity": 0.2
             }
            },
            "type": "histogram"
           }
          ],
          "histogram2d": [
           {
            "colorbar": {
             "outlinewidth": 0,
             "ticks": ""
            },
            "colorscale": [
             [
              0,
              "#0d0887"
             ],
             [
              0.1111111111111111,
              "#46039f"
             ],
             [
              0.2222222222222222,
              "#7201a8"
             ],
             [
              0.3333333333333333,
              "#9c179e"
             ],
             [
              0.4444444444444444,
              "#bd3786"
             ],
             [
              0.5555555555555556,
              "#d8576b"
             ],
             [
              0.6666666666666666,
              "#ed7953"
             ],
             [
              0.7777777777777778,
              "#fb9f3a"
             ],
             [
              0.8888888888888888,
              "#fdca26"
             ],
             [
              1,
              "#f0f921"
             ]
            ],
            "type": "histogram2d"
           }
          ],
          "histogram2dcontour": [
           {
            "colorbar": {
             "outlinewidth": 0,
             "ticks": ""
            },
            "colorscale": [
             [
              0,
              "#0d0887"
             ],
             [
              0.1111111111111111,
              "#46039f"
             ],
             [
              0.2222222222222222,
              "#7201a8"
             ],
             [
              0.3333333333333333,
              "#9c179e"
             ],
             [
              0.4444444444444444,
              "#bd3786"
             ],
             [
              0.5555555555555556,
              "#d8576b"
             ],
             [
              0.6666666666666666,
              "#ed7953"
             ],
             [
              0.7777777777777778,
              "#fb9f3a"
             ],
             [
              0.8888888888888888,
              "#fdca26"
             ],
             [
              1,
              "#f0f921"
             ]
            ],
            "type": "histogram2dcontour"
           }
          ],
          "mesh3d": [
           {
            "colorbar": {
             "outlinewidth": 0,
             "ticks": ""
            },
            "type": "mesh3d"
           }
          ],
          "parcoords": [
           {
            "line": {
             "colorbar": {
              "outlinewidth": 0,
              "ticks": ""
             }
            },
            "type": "parcoords"
           }
          ],
          "pie": [
           {
            "automargin": true,
            "type": "pie"
           }
          ],
          "scatter": [
           {
            "fillpattern": {
             "fillmode": "overlay",
             "size": 10,
             "solidity": 0.2
            },
            "type": "scatter"
           }
          ],
          "scatter3d": [
           {
            "line": {
             "colorbar": {
              "outlinewidth": 0,
              "ticks": ""
             }
            },
            "marker": {
             "colorbar": {
              "outlinewidth": 0,
              "ticks": ""
             }
            },
            "type": "scatter3d"
           }
          ],
          "scattercarpet": [
           {
            "marker": {
             "colorbar": {
              "outlinewidth": 0,
              "ticks": ""
             }
            },
            "type": "scattercarpet"
           }
          ],
          "scattergeo": [
           {
            "marker": {
             "colorbar": {
              "outlinewidth": 0,
              "ticks": ""
             }
            },
            "type": "scattergeo"
           }
          ],
          "scattergl": [
           {
            "marker": {
             "colorbar": {
              "outlinewidth": 0,
              "ticks": ""
             }
            },
            "type": "scattergl"
           }
          ],
          "scattermap": [
           {
            "marker": {
             "colorbar": {
              "outlinewidth": 0,
              "ticks": ""
             }
            },
            "type": "scattermap"
           }
          ],
          "scattermapbox": [
           {
            "marker": {
             "colorbar": {
              "outlinewidth": 0,
              "ticks": ""
             }
            },
            "type": "scattermapbox"
           }
          ],
          "scatterpolar": [
           {
            "marker": {
             "colorbar": {
              "outlinewidth": 0,
              "ticks": ""
             }
            },
            "type": "scatterpolar"
           }
          ],
          "scatterpolargl": [
           {
            "marker": {
             "colorbar": {
              "outlinewidth": 0,
              "ticks": ""
             }
            },
            "type": "scatterpolargl"
           }
          ],
          "scatterternary": [
           {
            "marker": {
             "colorbar": {
              "outlinewidth": 0,
              "ticks": ""
             }
            },
            "type": "scatterternary"
           }
          ],
          "surface": [
           {
            "colorbar": {
             "outlinewidth": 0,
             "ticks": ""
            },
            "colorscale": [
             [
              0,
              "#0d0887"
             ],
             [
              0.1111111111111111,
              "#46039f"
             ],
             [
              0.2222222222222222,
              "#7201a8"
             ],
             [
              0.3333333333333333,
              "#9c179e"
             ],
             [
              0.4444444444444444,
              "#bd3786"
             ],
             [
              0.5555555555555556,
              "#d8576b"
             ],
             [
              0.6666666666666666,
              "#ed7953"
             ],
             [
              0.7777777777777778,
              "#fb9f3a"
             ],
             [
              0.8888888888888888,
              "#fdca26"
             ],
             [
              1,
              "#f0f921"
             ]
            ],
            "type": "surface"
           }
          ],
          "table": [
           {
            "cells": {
             "fill": {
              "color": "#EBF0F8"
             },
             "line": {
              "color": "white"
             }
            },
            "header": {
             "fill": {
              "color": "#C8D4E3"
             },
             "line": {
              "color": "white"
             }
            },
            "type": "table"
           }
          ]
         },
         "layout": {
          "annotationdefaults": {
           "arrowcolor": "#2a3f5f",
           "arrowhead": 0,
           "arrowwidth": 1
          },
          "autotypenumbers": "strict",
          "coloraxis": {
           "colorbar": {
            "outlinewidth": 0,
            "ticks": ""
           }
          },
          "colorscale": {
           "diverging": [
            [
             0,
             "#8e0152"
            ],
            [
             0.1,
             "#c51b7d"
            ],
            [
             0.2,
             "#de77ae"
            ],
            [
             0.3,
             "#f1b6da"
            ],
            [
             0.4,
             "#fde0ef"
            ],
            [
             0.5,
             "#f7f7f7"
            ],
            [
             0.6,
             "#e6f5d0"
            ],
            [
             0.7,
             "#b8e186"
            ],
            [
             0.8,
             "#7fbc41"
            ],
            [
             0.9,
             "#4d9221"
            ],
            [
             1,
             "#276419"
            ]
           ],
           "sequential": [
            [
             0,
             "#0d0887"
            ],
            [
             0.1111111111111111,
             "#46039f"
            ],
            [
             0.2222222222222222,
             "#7201a8"
            ],
            [
             0.3333333333333333,
             "#9c179e"
            ],
            [
             0.4444444444444444,
             "#bd3786"
            ],
            [
             0.5555555555555556,
             "#d8576b"
            ],
            [
             0.6666666666666666,
             "#ed7953"
            ],
            [
             0.7777777777777778,
             "#fb9f3a"
            ],
            [
             0.8888888888888888,
             "#fdca26"
            ],
            [
             1,
             "#f0f921"
            ]
           ],
           "sequentialminus": [
            [
             0,
             "#0d0887"
            ],
            [
             0.1111111111111111,
             "#46039f"
            ],
            [
             0.2222222222222222,
             "#7201a8"
            ],
            [
             0.3333333333333333,
             "#9c179e"
            ],
            [
             0.4444444444444444,
             "#bd3786"
            ],
            [
             0.5555555555555556,
             "#d8576b"
            ],
            [
             0.6666666666666666,
             "#ed7953"
            ],
            [
             0.7777777777777778,
             "#fb9f3a"
            ],
            [
             0.8888888888888888,
             "#fdca26"
            ],
            [
             1,
             "#f0f921"
            ]
           ]
          },
          "colorway": [
           "#636efa",
           "#EF553B",
           "#00cc96",
           "#ab63fa",
           "#FFA15A",
           "#19d3f3",
           "#FF6692",
           "#B6E880",
           "#FF97FF",
           "#FECB52"
          ],
          "font": {
           "color": "#2a3f5f"
          },
          "geo": {
           "bgcolor": "white",
           "lakecolor": "white",
           "landcolor": "#E5ECF6",
           "showlakes": true,
           "showland": true,
           "subunitcolor": "white"
          },
          "hoverlabel": {
           "align": "left"
          },
          "hovermode": "closest",
          "mapbox": {
           "style": "light"
          },
          "paper_bgcolor": "white",
          "plot_bgcolor": "#E5ECF6",
          "polar": {
           "angularaxis": {
            "gridcolor": "white",
            "linecolor": "white",
            "ticks": ""
           },
           "bgcolor": "#E5ECF6",
           "radialaxis": {
            "gridcolor": "white",
            "linecolor": "white",
            "ticks": ""
           }
          },
          "scene": {
           "xaxis": {
            "backgroundcolor": "#E5ECF6",
            "gridcolor": "white",
            "gridwidth": 2,
            "linecolor": "white",
            "showbackground": true,
            "ticks": "",
            "zerolinecolor": "white"
           },
           "yaxis": {
            "backgroundcolor": "#E5ECF6",
            "gridcolor": "white",
            "gridwidth": 2,
            "linecolor": "white",
            "showbackground": true,
            "ticks": "",
            "zerolinecolor": "white"
           },
           "zaxis": {
            "backgroundcolor": "#E5ECF6",
            "gridcolor": "white",
            "gridwidth": 2,
            "linecolor": "white",
            "showbackground": true,
            "ticks": "",
            "zerolinecolor": "white"
           }
          },
          "shapedefaults": {
           "line": {
            "color": "#2a3f5f"
           }
          },
          "ternary": {
           "aaxis": {
            "gridcolor": "white",
            "linecolor": "white",
            "ticks": ""
           },
           "baxis": {
            "gridcolor": "white",
            "linecolor": "white",
            "ticks": ""
           },
           "bgcolor": "#E5ECF6",
           "caxis": {
            "gridcolor": "white",
            "linecolor": "white",
            "ticks": ""
           }
          },
          "title": {
           "x": 0.05
          },
          "xaxis": {
           "automargin": true,
           "gridcolor": "white",
           "linecolor": "white",
           "ticks": "",
           "title": {
            "standoff": 15
           },
           "zerolinecolor": "white",
           "zerolinewidth": 2
          },
          "yaxis": {
           "automargin": true,
           "gridcolor": "white",
           "linecolor": "white",
           "ticks": "",
           "title": {
            "standoff": 15
           },
           "zerolinecolor": "white",
           "zerolinewidth": 2
          }
         }
        },
        "title": {
         "text": "3D Instance Segmentation"
        }
       }
      }
     },
     "metadata": {},
     "output_type": "display_data"
    }
   ],
   "source": [
    "# Load a test point cloud\n",
    "test_point_cloud = load_clean_point_cloud(\"data/roofNTNU/train_test_split/points_test/10453615-2.txt\")  # Assuming XYZ format\n",
    "\n",
    "# Run real-time inference & visualization\n",
    "labels, embeddings = inference_on_point_cloud(model, test_point_cloud, device=device, clustering='meanshift')\n",
    "\n",
    "# labels = filter_clusters(labels)\n",
    "\n",
    "print(\"New predicted labels:\", np.unique(labels))\n",
    "visualize_embeddings(embeddings, labels, method='tsne')\n",
    "visualize_clusters_plotly(test_point_cloud, labels)"
   ]
  },
  {
   "cell_type": "code",
   "execution_count": 17,
   "metadata": {},
   "outputs": [
    {
     "name": "stdout",
     "output_type": "stream",
     "text": [
      "Predicted label counts: (array([-1]), array([512]))\n",
      "Embedding variance: 0.35818487\n"
     ]
    }
   ],
   "source": [
    "print(\"Predicted label counts:\", np.unique(labels, return_counts=True))\n",
    "print(\"Embedding variance:\", np.var(embeddings, axis=0).mean())"
   ]
  }
 ],
 "metadata": {
  "kernelspec": {
   "display_name": "my312",
   "language": "python",
   "name": "python3"
  },
  "language_info": {
   "codemirror_mode": {
    "name": "ipython",
    "version": 3
   },
   "file_extension": ".py",
   "mimetype": "text/x-python",
   "name": "python",
   "nbconvert_exporter": "python",
   "pygments_lexer": "ipython3",
   "version": "3.12.9"
  }
 },
 "nbformat": 4,
 "nbformat_minor": 2
}
