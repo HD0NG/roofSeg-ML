{
 "cells": [
  {
   "cell_type": "code",
   "execution_count": null,
   "metadata": {},
   "outputs": [],
   "source": [
    "# Convert .pts and .seg to .txt\n",
    "import os\n",
    "\n",
    "def convert_files_to_txt(folder, old_ext, new_ext=\".txt\"):\n",
    "    \"\"\"\n",
    "    Converts all files in the given folder from one extension to another.\n",
    "    \"\"\"\n",
    "    for filename in os.listdir(folder):\n",
    "        if filename.endswith(old_ext):\n",
    "            old_path = os.path.join(folder, filename)\n",
    "            new_filename = filename.replace(old_ext, new_ext)\n",
    "            new_path = os.path.join(folder, new_filename)\n",
    "\n",
    "            # Read the file as text and write to new file\n",
    "            with open(old_path, \"r\") as f:\n",
    "                content = f.readlines()\n",
    "            with open(new_path, \"w\") as f:\n",
    "                f.writelines(content)\n",
    "\n",
    "            print(f\"Converted: {old_path} -> {new_path}\")\n",
    "\n",
    "# Define the folders\n",
    "points_folder = \"data/points\"\n",
    "labels_folder = \"data/labels\"\n",
    "\n",
    "# Convert .pts to .txt\n",
    "convert_files_to_txt(points_folder, \".pts\")\n",
    "\n",
    "# Convert .seg to .txt\n",
    "convert_files_to_txt(labels_folder, \".seg\")"
   ]
  },
  {
   "cell_type": "code",
   "execution_count": null,
   "metadata": {},
   "outputs": [],
   "source": [
    "def find_max_pointcloud_length(folder, extension=\".txt\"):\n",
    "    \"\"\"\n",
    "    Finds the maximum number of points in all point cloud files.\n",
    "    \"\"\"\n",
    "    max_length = 0\n",
    "    for filename in os.listdir(folder):\n",
    "        if filename.endswith(extension):\n",
    "            file_path = os.path.join(folder, filename)\n",
    "            with open(file_path, \"r\") as f:\n",
    "                num_lines = sum(1 for _ in f)  # Count lines (points)\n",
    "            max_length = max(max_length, num_lines)\n",
    "            print(f\"{filename}: {num_lines} points\")\n",
    "\n",
    "    print(f\"Maximum point cloud length: {max_length}\")\n",
    "    return max_length\n",
    "\n",
    "# Find max length in point cloud files\n",
    "max_points = find_max_pointcloud_length(points_folder)"
   ]
  },
  {
   "cell_type": "code",
   "execution_count": null,
   "metadata": {},
   "outputs": [],
   "source": [
    "import os\n",
    "import random\n",
    "import shutil\n",
    "\n",
    "def count_files_in_folder(folder, extension=\".txt\"):\n",
    "    \"\"\"\n",
    "    Counts the number of files in the given folder with the given extension.\n",
    "    \"\"\"\n",
    "    num_files = 0\n",
    "    for filename in os.listdir(folder):\n",
    "        if filename.endswith(extension):\n",
    "            num_files += 1\n",
    "    print(f\"Number of {extension} files in {folder}: {num_files}\")\n",
    "    return num_files\n",
    "\n",
    "def pick_random_related_files(points_folder, labels_folder, sample_points_folder, sample_labels_folder, num_files=100, extension=\".txt\"):\n",
    "    \"\"\"\n",
    "    Picks random related files from the points and labels folders and copies them to the sample folders.\n",
    "    \"\"\"\n",
    "    if not os.path.exists(sample_points_folder):\n",
    "        os.makedirs(sample_points_folder)\n",
    "    if not os.path.exists(sample_labels_folder):\n",
    "        os.makedirs(sample_labels_folder)\n",
    "    \n",
    "    points_files = [f for f in os.listdir(points_folder) if f.endswith(extension)]\n",
    "    labels_files = [f for f in os.listdir(labels_folder) if f.endswith(extension)]\n",
    "    \n",
    "    # Find common files in both folders\n",
    "    common_files = list(set(points_files) & set(labels_files))\n",
    "    \n",
    "    selected_files = random.sample(common_files, min(num_files, len(common_files)))\n",
    "    \n",
    "    for file in selected_files:\n",
    "        shutil.copy(os.path.join(points_folder, file), os.path.join(sample_points_folder, file))\n",
    "        shutil.copy(os.path.join(labels_folder, file), os.path.join(sample_labels_folder, file))\n",
    "    \n",
    "    print(f\"Copied {len(selected_files)} related files to {sample_points_folder} and {sample_labels_folder}\")\n",
    "\n",
    "# Define source and destination folders\n",
    "points_folder = \"data/points\"\n",
    "labels_folder = \"data/labels\"\n",
    "sample_points_folder = \"data/sample_points_50\"\n",
    "sample_labels_folder = \"data/sample_labels_50\"\n",
    "\n",
    "# Count files in the folders\n",
    "num_points_files = count_files_in_folder(points_folder)\n",
    "num_labels_files = count_files_in_folder(labels_folder)\n",
    "\n",
    "# Pick random 100 related files from both folders\n",
    "pick_random_related_files(points_folder, labels_folder, sample_points_folder, sample_labels_folder, num_files=50, extension=\".txt\")"
   ]
  },
  {
   "cell_type": "code",
   "execution_count": 2,
   "metadata": {},
   "outputs": [
    {
     "data": {
      "application/vnd.plotly.v1+json": {
       "config": {
        "plotlyServerURL": "https://plot.ly"
       },
       "data": [
        {
         "marker": {
          "color": "red",
          "opacity": 0.8,
          "size": 2
         },
         "mode": "markers",
         "name": "Label 0",
         "type": "scatter3d",
         "x": {
          "bdata": "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",
          "dtype": "f8"
         },
         "y": {
          "bdata": "FfidR/O86D/TtPJ8J0fnP58II+C89uU/rvpcbdie5D8cgsxKJQvjPyt0BthAs+E/ppJR4+5E4D9R21+FUo/dP26/05+J39o/gSohEqhN2D91H70s9oLnP1xqGbY2/uU/KL5JGcyt5D++7Jb680bjP79H9VmuyeE/SP0bk72A4D+GN8481yTeP3x0ZFMzSNs/SjzJxVG22D+5PEyIoejVP2zW+Z79C9M/i7ptuTRc0D9RPcOn11jLPzy379SPn8U/Dj/PsRYiwD+ZDm7NCYW1P3uxWzEcvqI/WWwp2FcBdr9rKMyGD7aovz4uwBhmCbi/QBZahxOgwb8FTnJSpf/Gv/zh+NS79My/7Rk1DgER6D/vdJNtu5PmP/5mzfrWO+U/UfcQsnjc4z/1o2MRM1/iPwSWnZ5OB+E/oNObA8ht3z8rxmsWSWTcP8/m8oSMpdk/Pud1R9zX1j+ynbXIoA/RPwtEWx6X3cw/BDeu82cGxz/Vvo3Q7ojBPycO6wq6Urg/p7BVrHxZqD/3atf6lpZ6Pz8p0guvGqO/Z70GO1Oztb9sHXXAIlfAvzrOszPNmMW/QttgXvxvy7/7TKnAunbQvxKJOVJ3NdO/YO+LOxsS1r9CCxgh5MHYv6ljt1q5Ytu/PGM0mGkw3r/EZMPAhobgvzyvnId3z+G/wZBRfMk9479GcgZxG6zkv18O1DcM9eW/XbN12FFy57+6Nto7f0HmPwzHHfMg4uQ/h+Vo/s5z4z+X16KL6hviP1WU98AepuA/1oWJRI1+3j9U/zKv9ZLbP3Hjpsks49g/aSA94IgG1j/WIMCi2DjTPwN+WmUoa9A/UT3Dp9dYyz9/jIQ0LRfGP1AUZBG0mcA/N6vk3HU4tj8dPntuzIulP48RvjSEChs/lbcSqfxfpr/sZzD6jaK2v67yCSDAzsC/0PEDmyBqxr/U/rDFT0HMv0ybZMhw0NC/L7fwrTmA07+xPUdD0WvWvw0dwNSNKtm/l2aAU8ny3r+2BHPIPODgv6cSOTshOOK/szABhH+X47+kPsf2Y+/kvw4QehU8Vua/T1Ml4AfM579AYetS7CPpv8VCoEc+kuq/GZWEVpmG5T/l6LS5LjbkP761C8Xcx+I/OdRW0IpZ4T8FKIczIAngP7BwldWDU90/LOo+QOxn2j9LzrJaI7jXP0ELSXF/29Q/N0jfh9v+0T8IIIj089nOP/SZtCGsIMk//QUun5Urwz+cGxv4OFy7P88Eo6VS068/YaHd9SvtkD8S5RekJyCZv7V26S78QrG/1oKQ1Iu1vL8jADoNP9jDv0X/M4ifc8m/7ET/AgAPz78Hovw+MFXSv2GBddDsE9W/leu8vWsd2L/GI1hLTa/av9DmwTTxi92/7dQVj0o04L+aRNLXqJPhv8/woXQT5OK/VNJWaWVS5L9E4BzcSarlv1586qI68+a/q91dtmTI6b/EeSt9VRHrv1BlJx2n2uQ/REdf1Eh74z8dFLbf9gziP1WU98AepuA/QtBPSGir3j9vLeoKuN3bP3Hjpsks49g/CIsHkFdC1j94i4pSp3TTP3xBRxEcetA/N0t2V6aUyz8vPsksd73FPw4/z7EWIsA/mQ5uzQmFtT9RIhUPLxSlP1lsKdhXAXa/0/D/x9TGp7/TdeOpXN62vwu668+OCsG/0PEDmyBqxr93N88VgQXMvz4iPiBY7tC/tfMDAkZx078DWlbr6U3WvxqW5nymDNm/Zfw4Zkrp279+OMn3Bqjev2bPjXBVwuC/Vt1T4zka4r9i+xssmHnjv2Cgvczd9uS/Ua6DP8JO5r/Wjzg0FL3nvwjhqXHEiuq/+e5v5Kji6781VSVHLdPkP7CMRgKqoOM/K6uRDVgy4j8tBvBsErXgPxhbHqQq9t4/AR+OEm433D99mDd91kvZP518q5cNnNY/vGAfskTs0z+ynbXIoA/RP698eW7Iocw/972HS08kxz8AKgHJOC/BP7xVDpywJ7c/Megha7dIqT80rnUEwRxzP/Mq82tMkqO/ry5D27U7tb+7azDI2LDAv32jSJNqEMa/kSkcZrLJy7/T13ccfcHQv3/T/1VSYtO/YO+LOxsS1r8aluZ8pgzZv/uxcmJvvNu/283+Rzhs3r/sC6HEYbPgv5p7XQ3AEuK/H10SAhKB47+JLsUg6ufkv1Gugz/CTua/hVpT3Cyf57+D//R8chzpv/tJzkNjZeq/ZRuBYjvM678Siz2rmSvtvyurkQ1YMuI/YivT7n/L4D/xs0CgT8neP+bw1rar7Ns/E05xefse2T+RxxrkYzPWPwDInaazZdM/l2/+bN7E0D95IAu3QwzMP2WaN+T7UsY/UBRkEbSZwD83q+TcdTi2Px0+e27Mi6U/1kR/wS2VZb+fDGYncj6ov9N146lc3ra//kDFJ3Yowb+y/7ZK76XGv8eFih03X8y/PiI+IFju0L+net1ZLY/Tvzd6WpfdXNa/GpbmfKYM2b/uOEy6Vtrbv344yfcGqN6/7AuhxGGz4L9x7VW5syHiv0frGVYecuO/zMzOSnDg5L/Y6paTzj/mv4VaU9wsn+e/7ysG+wQG6b+4q8QZ3WzqvyJ9dzi10+u/pl4sLQdC7b+VfEQsMJnjPyYkDTfi28G/BU5yUqX/xr+6DGR1Hn3Mv1hQ9XsaOdG/O2yBYePo07/zEtyibuPWv3eZMjgGz9m/WLW+Hc9+3L+0lDeviz3fv96rUMwXDeG/+EcekwhW4r99KdOHWsTjvwILiHysMuW/NrdXGReD5r9c6gAOafHnv7k9rq6ubum/jztySxm/6r8UHSdAay3sv1Vg0go3o+2/vPIIRxbu0j9UmmkNQU3QP1E9w6fXWMs/STAWfaiBxT+KRtKk8lS/P8zyB25sDbU/E+kn8Fatoz9ZWGLULXt9v2sozIYPtqi/WCANaZfNt7+n6PPEW43UvzbocAIMW9e/um7Hl6NG2r+ailN9bPbcv32m32I1pt+/ZQYZpmxB4b+ZsuhC15Hiv4rArrW76eO/5hNcVgFn5b8AsCkd8q/mv/C974/WB+i/MgGbWqJ96b8jD2HNhtXqv+uOH+xePOy/LdLKtiqy7b/aQYf/iBHvv6aVt2Iewe2/PMQEREZa7L+B2yFTzxjrv5DNW+DqwOm/K3dsV3Av779i9604mMjtv0lb4HGnf+y/WE0a/8In67+QzVvg6sDpv+Ndn5eMYei/412fl4xh6L+usc/6IRHnvwFCE7LDseW/zZVDFVlh5L+mlbdiHsHtv/gl+xnAYey/xHkrfVUR678koUpiWNfpv5+/lW0Gaei/axPG0JsY578O2e7fJNflv4n3OevSaOS/3Id9onQJ47+o260FCrnhv5p7XQ3AEuK/qW2Xmtu64L9wv6JP7sXev4+jFmolFty/O/uPeV3Z7L9ze9FahXLrv4JtC+igGuq/adE9IbDR6L/k74gsXmPnv7BDuY/zEua/D2vYdPbY5L9i+xssmHnjv1bdU+M5GuK/gN+PRs/J4L8go5On1ePevwhnAxYZJdy/XGt73EOE2b9DL+tKh8XWv90uz/MUluy/IkbsAp5U67/umRxmMwTqvxicWMnIs+i/DH6QgGpU57/z4cK5eQvmv3uX6fKIwuS/i4kjgKRq4788r5yHd8/hv8Rkw8CGhuC/LeoN8FBO3r/7sXJib7zbvxqW5nymDNm/sT1HQ9Fr1r9XXs6xFK3Tv7flKsxL/dC/ruhaMDmQ57+HtbE75yHmvw9r2HT22OS/R+sZVh5y47/dGWc3Rgviv2bPjXBVwuC/6YKP++HU3r8IZwMWGSXcv8e1QeAesdm/bdbITmLy1r/rT3K5ygbUvyNinS/EodG/kgVJPA/Gzb99f3VpxwzIv7WH8e85aey/xHkrfVUR67/Ta2UKcbnpvzOThO9zf+i/rrHP+iER57++owmIPbnlvx3LKG1Af+S/Lb1i+lsn479K7ckGeYHrv4JtC+igGuq/4pQqzaPg6L8WeIWfJbDqvyVqvyxBWOm/XOoADmnx57+vekTFCpLmv1JAbdSTUOW/pdCwizXx47+0wuoYUZniv4AWG3zmSOG/D5iDauv/37/8Q1z3QL7avw2vqWlfLNi/ss8w2KJt1b/DOn5KwdvSv1ri3hDsOtC//wXM/l74yr+alZXjm9TFv3mWm2g7OcC/Z70GO1Oztb9T03gImtemv7GeF++tleS/VWRA/jZU47/dGWc3Rgviv+wLocRhs+C/fjjJ9wao3r8V4Cm+MQfcv5JZ0yiaG9m/KgE078R61r87bIFh4+jTv+GMCNAmKtG/TDC03HFOzb99f3VpxwzIv9Y5qu5mccK/CBLX9nhfur8wzL9vwVOwv+rL2CnHhJO/ifUq7wFnmD8SrOphFZ2wP7BDuY/zEua/Y7H7QjlMxr/+QMUndijBv+xnMPqNora/3UVTRkqlqb9UgH7jbDeGvwmU1HHhzqE/3I8BQCjzsj9f/zHWS7K9P8SF7L1tksQ/2LKpN6o60j9LodYUk3fgv9vN/kc4bN6/+7FyYm+82799f3VpxwzIv/sc8v3SJMO/jbwAtrNOu7/PaDZ/LQexv6pX8uHX7Zu/+diptGbckT+HdmIIBY6sPycO6wq6Urg/JQ1J2KTiwT8EN67zZwbHP1wuvmYSSMw/vxbccLnx0D+hMmhWgqHTP2kgPeCIBtY/ceOmySzj2D/Mwh9b6aHbP4Y3zjzXJN4/XGt73EOE2b/Ma/6ek7bWv+tPcrnKBtS/CDTm0wFX0b9ZqdqEijDNv5dxwrn40Me/uEddnjWtwr/NLT1WFte6vwJN0B+Qj7C/l3I9ZndSlr8Ng1CxUZmVPxsDgkW1W68/6vEB6cyouj+tt3KX39HCP3xosQqKE8g/ThnwfTRVzT+JKIQkY1rRPzQkDF44+9M/TWCc7/S51j+0uDspylrZP+bw1rar7Ns/1oWJRI1+3j/6a/G8q1ngvxK8VpSOA96/TM6BCoie27/JRyt18LLYvxDTfJMCMNa/ID7KBSGe07/GXlF0ZN/Qv7oMZHUefcy/N6rgCSqVx7+QZBWPyfnBv4NnrTc+cLm/iSfGAXBRrr9SWf7rFreQv1KcjyuyNJs/0jquwbIUsT9Vqt5X1tO7P/0FLp+VK8M/YnZkulhPyD92/DeNoAjOP5XdFNgMw9E/jzUxT5Ix1z85MbmIZ9LZPzg/kr5hRtw/mOlzeO4Q479/Taax/cfhv/pr8byrWeC/m/hp6Jr03b8yoMquxVPbv6GgTXEVhti/6CufjycD1r9/0/9VUmLTv5y3c3CJstC/ar6obWgjzL8Sx5j6veHGv+ROeNdEZMG/dX0fBYWUqr8km8lnDJyAv3FcCLOm36A/JAE+4Ip7sj9Chb58jyfnv3oFAF63wOW/pAc8wUxw5L9/Taax/cfhv0ELSXF/29Q/+n/3Um1e1z/cm4M4Ng7aP+de7SHa6tw/Om9JgUmYyT+sWKZEJZ7OP17vvIu2K9I/QQtJcX/b1D+qY+iqVHzXP7ImUpT4WNo/517tIdrq3D+cGxv4OFy7P50+TO/G78I/jOHXsqL1xz+Q7oTd0czNPwPscNBWadE/FkCYQwGr1j8G1UrR4jzZP/Vp/V7Ezts/+I343GxEcr8T6SfwVq2jP+bkVL6d0bQ/cFSFVMGQvz/taDTN2UXFP7KgTJhrpco/gFGLCxbnzz8pAWU/YJTSP1w5AM1BJtU/PFWMsgrW1z8fcRiY04XaPw4GyyW1F90/0HjcGV6n2D9HhgwH3bDbPwD7uujKM94/GA8/TgTpwr+NvAC2s067v0q+DMDyF7C/EuUXpCcgmb+SEHZzocuSPxsDgkW1W68/rLgUyvRBuT8lDUnYpOLBP93LOvsdYMc/vPWfFuGDzD9HU+/ExeLQPyhve6qOktM/CIsHkFdC1j8a1EUl7bjMv0gjB7JCd8e/dnLIPpg1wr+DZ603PnC5vyXUk+OX6qy/rUNkWriPj781152qJxOdP3HXJNEeyLE/b5wrqAeYuz/9BS6flSvDP6RL+Rn2xsg/dvw3jaAIzj8cGigsGbTRP3j5oL3VctQ/4VFA96oT1z85MbmIZ9LZP1JtSRokkdw/3NZLEbIk1L8w28PX3IPRvz+3jTRZbM2/GFsepCr23j/c0AoVK5fgP7LOzrGV5+E/5nqeTgA44z/XiGTB5I/kP0j9G5O9gOA/sFW7zJIh4z+hY4E/d3nkP5JxR7Jb0eU/C+L3+xEU3z86ncuac9rgP0RHX9RIe+M/NVUlRy3T5D9Bc+2PizLmP/fHNjvWYuA/v0f1Wa7J4T/Z48IgnxLjP8rxiJODauQ/TtM9iNXY5T9PSXbwgI3eP8HACD+xj+A/ss7OsZXn4T8Bi6Akej/jPws1NF5P4OU/4qgwY2Xl3z9iYl4kl0rhP22AJm31qeI/oiz2CWD64z94KrqmykrlP6zWiUM1m+Y/1POfr7t83z+YaYwgvB3hP/WjYxEzX+I/5bEphBe34z/HzbVp4GbmPz8YjzDRr+c//EL60DM45z+tTMKr4E/fP0c0p8jU/+A/OEJtO7lX4j8cuVeAPIrjP4aKCp8U8eQ/ujbaO39B5j9mLYOf2troP3IydThq/uk//BJDDkzm6b/6gFl5euTqv3cxjhn6d+i/COGpccSK6r9JW+Bxp3/sv1AcmqrwTOe/JvyowRJa6L/hy7UCu1/pv6oU6et7R+q/PMQEREZa7L9+0CTZ+lDtv/YBKPAcXu6/OA5IhdFU779spa9lbRrmv66xz/ohEee/rR/mZVAP6L/vKwb7BAbpv8ULFRInE+q/xHkrfVUR67/D50Hogw/sv91lWiksFe2/mDVnatQa7r/mE1xWAWflv6LjaJepbOa/5O+ILF5j57/jXZ+XjGHov54trNg0Z+m/I9jVl29W6r/4JfsZwGHsv99wV6MA3eq/tlBmuiLq6785i8ld1Mvjvw9r2HT22OS/yzrltZ7e5b/kuP32RuTmv6CICjjv6ee/uQYjeZfv6L/ch32idAnjv7JnjLmWFuS/9HOsTksN5b/z4cK5eQvmv66xz/ohEee/M8oPJYv+6L/umRxmMwTqvwgYNafbCeu/f02msf3H4b9+u7wcLMbivwNm5ttmteO/e5fp8ojC5L9Sd/gJq8/lv1DlDnXZzea/DLUbtoHT578lMzT3Kdnov1P/AV9aed+/Zs+NcFXC4L/D66/bg8Dhv367vBwsxuK/OYvJXdTL479TCeKefNHkv3oFAF63wOW/DUcFS1PV5r/GI1hLTa/av0s8mHW2nNy/+Pu1o/q23r8+CvvmMVLgv/nZByjaV+G/z7kWP/xk4r8RxjbUsFvjvxA0TT/fWeS/ywNagIdf5b8tvWL6Wyfjvxoo0BF4Dti/P4cHwgw03L8FQzDsdSHev+A9OmHpDuC/WG89eAsc4b+ae10NwBLivywlBxloftS/KgE078R61r+hoE1xFYbYv631oO+KZNq/3vHRcdtv3L/t1BWPSjTgv6ikItDyOeG/wiI7EZs/4r8l9IbElaPQv5mToEbmrtK/wBarIB7Y1L/Ma/6ek7bWv8lHK3Xwsti/xiNYS02v2r/E/4Qhqqvcv/j7taP6tt6/t83nkiVh4L+BjCKU9uPNv7flKsxL/dC/6+FbTpwI07/2Nq/MEefUv/MS3KJu49a/8O4Iecvf2L/tyjVPKNzav+ymYiWF2Ny/bQZPwa4qyL+6DGR1Hn3Mv5AC47zfSdC/FBsj50g30r99QRbBgGDUv7E9R0PRa9a/ADaDwUZK2L8xMrRDl1Xav0iDE5fb57m/C7rrz44Kwb8FckV8SAPFvwIqnygC/Mi//OH41Lv0zL8yba1sroXQv/go1pYXc9K/tGEabXRv1L+xPUdD0WvWv4knxgFwUa6/uYOWWSsat79tgg0SPIO/vzB5YLVXusO/SCMHskJ3x7+RKRxmssnLv35oT2pT4M+/c7BYN3r70b/rT3K5ygbUv6pX8uHX7Zu/vQtgotLZrb9xElq5yJG3v6Bmp7KeC7+/MHlgtVe6w7+XccK5+NDHv6KiQg7Lq8u/nFqcuoSkz79hod31K+2QP61DZFq4j4+/ayjMhg+2qL93WgAND5mzvxFnKnXuPby/afmhln9Twr+NHG87g/LFv23ie5cLJ8q/EqzqYRWdsD89eG4SRFehP0+FeRDWRWc/JsrMH4i7nr/7RE3BqkCvv1ggDWmXzbe/U5DAwQq/v7+Axxu9DRTEv1AUZBG0mcA/hjklesN9uT+XVhQhUIyxP66V9dF+RqI/92rX+paWej+qHORiYg+av70LYKLS2a2/Dlp9Sr9mtr/H5ZYC0M++v1AUZBG0mcA/+o77uoiOuD/sLPsR5NiwP66V9dF+RqI/Q4++oBLdnL+9C2Ci0tmtv7mDllkrGre/xIXsvW2SxD95RN7g5g/KP3ITXowUNcY/hdQqiHMewj8hxkS3c0u8P+bkVL6d0bQ/YaHd9SvtkD98Xq/eV/SJv8mbrElf6KW/2USTzHs80T/GSvOUVmLOP19SkZC1S8o/chNejBQ1xj+F1CqIcx7CP1Wq3lfW07s/R0jerjEetD+nsFWsfFmoP2Gh3fUr7ZA/N7b18gn90j/mvbl0lB7RP3b8N42gCM4/eUTe4OYPyj9/jIQ0LRfGPxiUIjCMAMI/IcZEt3NLvD8MZEQOz5W0PzCg+/5gbdc/rYe71Pd/1T+JKIQkY1rRPwggiPTz2c4/DmguSDrhyj/BYRmUyo7GP15pt48peMI/i390kB0s2j+Oo0e6wC/YPwiLB5BXQtY/akQQCiwK1D9taOMzzw3SP+hPowlmINA/hpkxX1zuyz98aLEKihPIPxVwTwbp/MM/EJi0uoYZ3D/cm4M4Ng7aP2b8abblAtg/71xQNJX31T80JAxeOPvTPzdI34fb/tE/sy+fXXIR0D/JDGOcdJzeP1JtSRokkdw/LOo+QOxn2j+o0f4Vg3rYP6r10T8mftY//jW0EeJj1D+IlpqPkVjSPwN+WmUoa9A/Ht0qqt+N4T/BwAg/sY/gP4Wl5KcFI98/iMm30agm3T8QKp5PWBvbP4wRXiXvLdk/jzUxT5Ix1z9psiZ1WgjVP+Z6nk4AOOM/bkmbN94q4j/pnnF4ozvhP+owWw11PeA/n2WFmJlv3j8cTUVuMILcP7ImUpT4WNo/+O0Nvptc2D8yMuWTMm/WPzUemhEWVOQ/8xF6fGFd4z/1o2MRM1/iP/Y1TaYEYeE/O2ZAZVxb4D/01xPK8szcP8Db4keiwdo/PcOiHTnU2D+6/04GaMLlP/8vQsW/vOQ/KVAzrp2v4z9tgCZt9aniPyt0BthAs+E/oNObA8ht3z+j924ta3HdP7OUaP8mV9s/07TyfCdH5z+RqNLnclDmP3gquqbKSuU/vFqtZSJF5D96To3QbU7jP31yYPoQUuE/Y/RHuWhM4D9C0E9IaKveP7ZiaPfB+Og/dFZIYg0C6D8XOib33gPnP+OmLApD7+U/ySgUyZrp5D8OWQeI8uPjP/Ta7kZK3uI/9WzY2xvg4T+zYLhGZ+ngPy6Uaw7kBeo/7IdLeS8P6T9ZRkaMk/rnPxc6JvfeA+c/XGoZtjb+5T9ejuzf2QHkPxyCzEolC+M/HRS23/YM4j/7eYUGS7fnP2rKaa6ApOU/a1xTQ1Km5D+VfEQsMJnjP9b2eiwTjuU/uHQ55MXt6b9Ltj7RYQLrv4M2gLKJm+m/yC/oO8oW6L+G7Dxx/qDmv75sflImOuW/FOabClSu678WQfppDjHqv/2LVvNOrOi/hiPIphUg579E4BzcSarlv7JnjLmWFuS/6ufNmr6v4r+MMHXRRPfsvy/dxzD/eeu/7pkcZjME6r93MY4Z+nfov66xz/ohEee/sAwuWtyT5b9vyYKPEB7kvy2G18REqOK/qKQi0PI54b9T/wFfWnnfv9F4q8nCjdy/us+XQ4Bw6L/yT9kkqAnnv7AMLlrck+W/YTKnYa/4479jjQXBaXviv0rYYUqq9uC/6YKP++HU3r8/hwfCDDTcv4XgrICBOdm/ENN8kwIw1r9xIHP7yu/sv0rtyQZ5geu/ddYvuj/16b8t0sq2KrLtvxQdJ0BrLey/qkt0IZPG6r+RltCq00Hpv9aPODQUvee/lEyNaUhH5r97l+nyiMLkv8GQUXzJPeO/EyGVM2ve4b+BqAQRuErgv0mqruDkmt2/aY4i+xvr2r/ygPINneHXv3D6m3gF9tS/Zjcyj2EZ0r/hUwRExR/Ov20GT8GuKsi/BH4pFY1R1L/6ur8r6XTRv1mp2oSKMM2/6FslAnQ7x79Nj4AvLILBv+xnMPqNora//X9G6sFwpb9TBXSrfCDvvx8774jJjO2/3vdDvv0W7L9ZFo/Jq6jqv8ed/qb4FOm/QrxJsqam57+92pS9VDjmvytiBJuhpOS/wZBRfMk94788r5yHd8/hv6o2DGXEO+C/31/o3Alu3b/UnH7zZZHavzbocAIMW9e/Rm6YfRv77r8EK+2yT4Xtv43CXmYW+eu/WRaPyauo6r8KPAjRfg3pv67oWjA5kOe/RBeoEWEp5r+xnhfvrZXkvy29YvpbJ+O/crbKg5yi4b8VYx3jViXgv7W4CtkuQd2/rfWg74pk2r+vq12u/2nXv6fo88RbjdS/I2KdL8Sh0b9MMLTccU7Nvzeq4Akqlce/M50z3/q9wb+TBKcJ+lW3v9Pw/8fUxqe/khdsR1SkUD+nsFWsfFmoP0EAOFvrFrg/mlk6lHce7L/S2Xt1n7fqv8ed/qb4FOm/1o84NBS957+UTI1pSEfmv0ZyBnEbrOS/VWRA/jZU479/Taax/cfhv+3UFY9KNOC/Saqu4OSa3b92B0mjNM3av9lSO7Lalte/z4/RyDa61L+dJYrbt7DRv+9o0iyjEs2/6FslAnQ7x79Nj4AvLILBv9N146lc3ra/U9N4CJrXpr8YkS80AJhfP7EFqSryN6o/Jw7rCrpSuD+F1CqIcx7CP8+2bBJAbcg/NSVuhEWB57+wQ7mP8xLmv9osH0O6huS/mOlzeO4Q47+aRNLXqJPhv8UtOItvB+C/B9UZgUcj3b8YBP3n1Arav2BdoqZJENe/iro8aZlC1L8INObTAVfRv8eFih03X8y/pYaQotbDxr+u8gkgwM7Av2e9BjtTs7W/SX4liiT5pL/3atf6lpZ6Pzs9deksJ6s/xqphGiYGuT9r4t03QlrCP7HEH8IOqcg/xkrzlFZizj9e77yLtivSP1w5AM1BJtU/9gWW4xwP5L8thtfERKjiv6ikItDyOeG/LFgkW39M37/ReKvJwo3cv6yHioRcZtm/A1pW6+lN1r8vt/CtOYDTv6swmhiilNC/DH/ypnfayr8V62skYeXEv0I7bUOV4L2/tXbpLvxCsb/+dX8mskGXv4n1Ku8BZ5g/V+XXgO0Dsj+mcG52rjq9P6qTn208zsQ/oScm8FLDyj/b1nxhTT7QP9YgwKLYONM/MjLlkzJv1j99mDd91kvZPzg/kr5hRtw/4D06YekO4L8H1RmBRyPdv7pux5ejRtq/lX2mUj0f178T90+9pTPUv2fJGyQzG9G/x4WKHTdfzL/Q8QObIGrGv8jkVnDxksC/ySCQK+f/tL8/KdILrxqjv3OaIPmr5oI/u1r8qGcWrD+GOSV6w325P6RL+Rn2xsg/08MZPW9Ezj/ev1Zi2RHYP4vtivtLKts/hjfOPNck3j9I/RuTvYDgP0aivTMD/uE/Zfw4Zkrp279RhD7J/KPYv25osuMz9NW/wzp+SsHb0r8vGpRinYbPv3pboj8kCcq/c071FPUxxL9R2GYVUca7v8dgsyBIuK+/3jzg2UKxjb89eG4SRFehPy1WkV4AWrQ/T2I4BJDMvz8VTHzcRfnFPzdLdlemlMs/EDPrGNLT0D9qRBAKLArUP7eqYvPP5tY/OTG5iGfS2T9eItrNzfncP2nlQ7dx1t8/OdRW0IpZ4T+Irt3It/TiPzUemhEWVOQ/knFHslvR5T/7TKnAunbQv1zNra4tNMu/BXJFfEgDxb9CO21DleC9vzohE+42MrK/EuUXpCcgmb+J9SrvAWeYP7hIYXGBULE/+0ZVZ0KHvD/Ehey9bZLEP3lE3uDmD8o/OmyysX4C0D83tvXyCf3SPz95X9yt2dU/wf+1cUXF2D9vLeoKuN3bP+Q6Gvg2594/s2C4Rmfp4D+Jd1KToHXiPzbnDtz+1OM/eCq6pspK5T/hFEN1ce3mPyNY7j89Y+g/dnLIPpg1wr/+vIN4A4G4vxt/QGUiDKu/E2CPwwMPbb+PWwIuB3umP7xVDpywJ7c/NYZvgL3EwT8foc9au9fHP0GgydUbc80/ld0U2AzD0T8ZZGttpK7UP6pj6KpUfNc/wNviR6LB2j9R21+FUo/dP6aSUePuROA/9WzY2xvg4T8OInxS22TjP/8vQsW/vOQ/kajS53JQ5j8tfCjVvWnZPyvGaxZJZNw/rUzCq+BP3z+YaYwgvB3hP1NwJJd7ouI/aspproCk5T/vqx6j0hLnP61DZFq4j4+/ZkY2KJ3xnj/cjwFAKPOyP3BUhVTBkL8/PLfv1I+fxT9ExJz/vnbLPyolOGkDmNA/rquO/pqD0z+q9dE/Jn7WP3Xk0ftNn7c/GJQiMIwAwj8sGvYC1LnHP2mDEeWHJs4/5yvQ38Ic0j9OhG8ZmL3UPzxVjLIK1tc/9/vm85XQ2j9EYjndOa3dP/fHNjvWYuA/9WzY2xvg4T83sIOm51XjP8koFMma6eQ/4t23P1pu5j+sWKZEJZ7OP9iyqTeqOtI/abImdVoI1T9m/Gm25QLYP2FGrfdw/do/bAkX4RTa3T+0KS0RUGrgP3pOjdBtTuM/UGUnHafa5D+RqNLnclDmPz7ndUfc19Y/E7yH5Ckd2j/nXu0h2urcP2nlQ7dx1t8/N3n4cNDW4j/K8YiTg2rkP7r/TgZowuU/LD17oik04T9TcCSXe6LiP5Szz2FHGOQ/adE9IbDR6L8j2NWXb1bqvzmLyV3Uy+O/5hNcVgFn5b+sVnGbZ47ov4JtC+igGuq/FOabClSu679XkevzK3vev4Dfj0bPyeC/E1ggaYJd4r9hMqdhr/jjv2DXSAL1deW/hiPIphUg57+EyGlHW53ov1rfA5SUKeq/In13OLXT679UOvuHcanVv0ILGCHkwdi/nBw9Ej7427/BDV5XpB/fv5sNR6KRFOG/wVnGRrK+4r85wlST60rkv+ZK54sY5uW/XbN12FFy57/vKwb7BAbpv8VCoEc+kuq/V7swavEl7L+9MDefwYDKv1ri3hDsOtC/pMQgm7iJ1r8mS3cwUHXZv+jwpWYQ09+/ja32qUdu4b8fJofM+gHjvytiBJuhpOS/h7WxO+ch5r8ZLkJemrXnv99wV6MA3eq/SVvgcad/7L9HAIIS7fztv5yfMDdjFuC/V6bIrSKb4b998kdSQ0Xjv4kuxSDq5+S/DhB6FTxW5r80XPm5XADov8R5K31VEeu/VvK7nwil7L8sCVbsQTHuv0q+DMDyF7C/EWcqde49vL8V62skYeXEv/KMpVZGFsu/Mm2tbK6F0L9XXs6xFK3Tv8xr/p6Ttta/QXkujBLA2b8H1RmBRyPdv9yPAUAo87I/ifUq7wFnmD+qHORiYg+av7/LPK1xIbO/oGansp4Lv7+alZXjm9TFv5EpHGayycu/xl5RdGTf0L+KujxpmULUv4gEgKokPde/ksfpk8gZ2r9WI9WI/Xzdv2aYAjs+Q+C/f02msf3H4b8fXRICEoHjv9ljqnjRBeW/ouNol6ls5r+Fkd4RRB7ovxcKbzT3sem/qYL/VqpF679xIHP7yu/sv9sK/Mlxku6/a+LdN0Jawj8nDusKulK4P2XMuwsa0ag/JhA7lq82XL8bf0BlIgyrv2F1YOcMrLm/7qPLVbpCw78nDec3bq/Jvy8alGKdhs+/cx5voqj50r/oK5+PJwPWvw0dwNSNKtm/qtHNxedg3L82gMzj/wPmv0K8SbKmpue/jztySxm/6r9kUgyYUkvsv1P/AV9aed+/PHgRUmBQ4b+LUphKjeviv9osH0O6huS/5r25dJQe0T8ZWSkHddDLPy8+ySx3vcU/66lblYahvj8984owvD+yPz7y6C7Hd5c/qhzkYmIPmr+ZTE1dQF2zvyUR0XHZ+r+/jRxvO4Pyxb93N88VgQXMv+4FL3g/DNG/iro8aZlC1L+vq12u/2nXvzEytEOXVdq/0ObBNPGL3b8+CvvmMVLgv4zkgd9e7eG/274I2IuI47/yGE7vkIrmv/5Uy703Lei/q91dtmTI6b+0uDspylrZPwiLB5BXQtY/DUHETsxH0z+zL59dchHQPxx9/DAY1Mk/P9vC/jKjwz8YcfE4/my6PxGuLsc/fa0/QiuIezYIgT/Jm6xJX+ilv3ESWrnIkbe/g+vu5rAXwr+v2+MgTKLIvxewcvtJtc6/FBsj50g30r+yzzDYom3Vv1GEPsn8o9i/dHVfDmPL278go5On1ePev96rUMwXDeG/mbLoQteR4r98YF69cUPkv5UVAjQxyOW/mNSWvvfw37+aRNLXqJPhv5kyAeuknuA/KKKY7KVg3j+zlGj/JlfbP2b8abblAtg/RcEFMPTg0T/xUQ7OZRnNP/e9h0tPJMc/sNtFwYLVwD/m5FS+ndG0P3FcCLOm36A/rc1HXM3Si7/PaDZ/LQexv9aCkNSLtby/c071FPUxxL8Z+BhPkLzKvwrGz2jTWNC/L7fwrTmA079SqBHzn6fWv07yVDQrotm/+x+JzZ263L+vw9E3wR/kP9msN+uHk+I/H6afdMgO4T+SHgtQHgXfP+bw1rar7Ns/PcOiHTnU2D8/eV/crdnVP/PgYJNshdI/S/UcVJFRzz+X0tJx3eTIP8epv+cQlsI/4JyualfKuD8x6CFrt0ipP5IXbEdUpFA/qWG5peccqr+DZ603PnC5vwiWGKbrBsO/OIYN4IaRyb+P4XUSbMLPv0l3kZ7NzNK/DR3A1I0q2b+3SvRtAEPcvy9d4NjMhuk/4IJZ4J/r5z8KbL+TZl/mP7yROJs5xOQ/sFW7zJIh4z/bPiGAWZXhP8KJfQmaEOA/XiLazc353D/cm4M4Ng7aP+7KZp/D9dY/G/ZUAnaw0z8drBHB6rXQPw5oLkg64co/xIXsvW2SxD/7RlVnQoe8P88Eo6VS068/BejpcQyCiD8dujmOOTyhv2e9BjtTs7W/oXnjd6fswL/84fjUu/TMv6qesIPQktG/wBarIB7Y1L8HmE1PqRbpP+7iqdjpkec/M9wRYioN5j+GU39p/XHkPw/r8BzE5eI/igk8KHJ34T/vIVcLfsffPxxNRW4wgtw/z+byhIyl2T+q9dE/Jn7WPw1BxE7MR9M/A35aZShr0D9sy7c4zi3KPz/bwv4yo8M/b5wrqAeYuz9P5xvmF+SuP0IriHs2CIE/v0ZZy+kJpL+5g5ZZKxq3v5BkFY/J+cG/bQZPwa4qyL+d5E+2GfPnP+Ldtz9abuY/ePMucbPL5D+wVbvMkiHjPyt0BthAs+E/mft1tY0f4D+IybfRqCbdPxO8h+QpHdo/7spmn8P11j+SuUGuab/TPx2sEcHqtdA/Ae8HoCH/yj9ovgoOn1bEP6ZwbnauOr0/y10GcPc+jD+rnLLO/kygv8kgkCvn/7S/graYWleo5z+EEfe5ESvmP/KYZpdel+Q/HILMSiUL4z/bPiGAWZXhP+KoMGNl5d8/517tIdrq3D9wUb00W+HZPxZAmEMBq9Y/oTJoVoKh0z8DflplKGvQP7KgTJhrpco/dTcxtrc4xD/7RlVnQoe8PxsDgkW1W68/07TyfCdH5z8mLGCE+qvlP5Szz2FHGOQ/lg4uwQGb4j8Elp2eTgfhP4Wl5KcFI98/by3qCrjd2z9KPMnFUbbYP0zyhYTGu9U/AFqHO4Vn0j+50czsPYDOP3xosQqKE8g/GMwPjLAF5j/XiGTB5I/kP2Ag1nSrA+M/9jVNpgRh4T9p5UO3cdbfP723Dx7/vdw/pz8VgbF42T8lub7rGY3WP4YEsfq/VtM/DMcd8yDi5D/Lg3IoVWzjPzkL4gWi2OE/6jBbDXU94D/XF3PZXoDdP0IF1yRdNOU/bO482COo4z8dFxxfJonvv1WXXUBOIu6/Ommm5IvX7b8fO++IyYztv+uOH+xePOy/crJckJzx678U5psKVK7rv/q35K6RY+u/gdshU88Y67/fcFejAN3qv8VCoEc+kuq/Z3bfwfVO6r/UNNrUWTrpv7kGI3mX7+i/QSpgHdWk6L+BpJYduJnqv2d238H1Tuq/CaoePK0L6r+r3V22ZMjpvzIBm1qifem/1f1On0K76L93MY4Z+nfov/5Uy703Lei/4yYUYnXi579CvEmypqbnvyeOklbkW+e/axPG0JsY579Q5Q512c3mv7xIqyiDNue/oRr0zMDr5r8AsCkd8q/mv+WBcsEvZea/bKWvZW0a5r8O2e7fJNflv/SqN4RijOW/lt52/hlJ5b/ZY6p40QXlv8sDWoCHX+W/bTeZ+j4c5b9TCeKefNHkv/U8IRk0juS/fGBevXFD5L8elJ03KQDkvwNm5ttmteO/R+sZVh5y478tvWL6Wyfjv2L7GyyYeeO/BC9bpk82479ItI4gB/Pivy2G18REqOK/z7kWP/xk4r9x7VW5syHiv/gQk13x1uG/3uLbAS+M4b8GqG6LUvzhv+t5ty+QseG/ja32qUdu4b8v4TUk/yrhv9EUdZ625+C/WDiyQvSc4L/6a/G8q1ngv+A9OmHpDuC/RobbtkGX37+3zeeSJWHgv1kBJw3dHeC/9mnMDim137/BDV5XpB/fv0gYxUsTmd6/jH9DQIIS3r9WI9WI/Xzdv5qKU31s9ty/3vHRcdtv3L9WI9WI/Xzdv5qKU31s9ty/qtHNxedg3L90dV8OY8vbv7jc3QLSRNu/xiNYS02v2r8Ki9Y/vCjav5JZ0yiaG9m/GAT959QK2r8mS3cwUHXZv+N14tCy/di/rhl0GS5o2L/ygPINneHXv//HbFYYTNe/Qy/rSofF1r+Jlmk/9j7Wv8395zNluNW/VDr7h3Gp1b9hgXXQ7BPVv6fo88RbjdS/cIyFDdf3078vt/CtOYDTvzz+ava06tK/B6L8PjBV0r9LCXszn87Rv1hQ9XsaOdG/B6L8PjBV0r9LCXszn87Rv1hQ9XsaOdG/nLdzcImy0L9pWwW5BB3Qv+xE/wIAD8+/4VMERMUfzr/84fjUu/TMv4Sw9b2Z58u/ugxkdR59zL9PVIcGFVLLv9cihO/yRMq/5TdS2NA3yb9tBk/BrirIvwVOclKl/8a/mpWV45vUxb+oqmPMecfEvzB5YLVXusO/WMAAhP5cxb9zTvUU9THEv/sc8v3SJMO/g+vu5rAXwr8LuuvPjgrBv1OQwMEKv7+/Yy26k8akvb9zyrNlgoq7v+jX41IBlL6/+HTdJL15vL8IEtf2eF+6vz4uwBhmCbi/Tsu56iHvtb9eaLO83dSzv20FrY6ZurG/VkMsYQ3Jrr91fR8FhZSqvzohE+42MrK/MMy/b8FTsL+ztgwkXfurvwfVmWg3T6e/PynSC68ao79Dj76gEt2cv+rL2CnHhJO/VIB+42w3hr/+OnGnPGOVv3xer95X9Im/E2CPwwMPbb80rnUEwRxzP5rubfKBYIo/proccIyIlj9mRjYonfGePxPpJ/BWraM/CZTUceHOoT/RP5zOaQOmP28hD4qPr6o/T+cb5hfkrj9x1yTRHsixP2E6K/9i4rM/UZ0xLaf8tT8nDusKulK4P1vyhKsc27c/S1WL2WD1uT87uJEHpQ+8P+upW5WGob4/bgaxYeVdwD/mN7R4B2vBP8epv+cQlsI/P9vC/jKjwz+3DMYVVbDEPwAqAck4L8E/eFsE4Fo8wj/wjAf3fEnDP1tF5GWGdMQ/STAWfaiBxT/BYRmUyo7GPzmTHKvsm8c/pEv5GfbGyD8cffwwGNTJPywa9gLUucc/l9LScd3kyD+JvQSJ//HJP/F14fcIHcs/aafkDisqzD/h2OclTTfNP9PDGT1vRM4/Pnz2q3hvzz/b1nxhTT7QP8ZK85RWYs4/Pnz2q3hvzz/b1nxhTT7QPxAz6xjS09A/iSiEJGNa0T9FwQUw9ODRPze29fIJ/dI/rquO/pqD0z83tvXyCf3SP66rjv6ag9M/akQQCiwK1D+goH7BsJ/UP1w5AM1BJtU/TPKFhMa71T8+53VH3NfWP8WRnwYXx9c/gSohEqhN2D89w6IdOdTYPy18KNW9adk/6RSq4E7w2T8lS6iA647VP+HjKYx8FdY/FkCYQwGr1j8J+R37hUDXP32YN33WS9k/OTG5iGfS2T+yJlKU+FjaP+iCwEt97to/pBtCVw512z+W1McOkwrcP1JtSRokkdw/DgbLJbUX3T9EYjndOa3dP14i2s3N+dw/1xdz2V6A3T+TsPTk7wbeP8kMY5x0nN4/haXkpwUj3z91XmpfirjfP5n7dbWNH+A/tCktEVBq4D8S9u2WmK3gP1ZdbIsHJ+A/tCktEVBq4D8S9u2WmK3gP4vSsPJa+OA/LD17oik04T9HazL+637hP6U384M0wuE/AwS0CX0F4j974HZlP1DiP6U384M0wuE/AwS0CX0F4j974HZlP1DiP5YOLsEBm+I/N3n4cNDW4j+wVbvMkiHjPw4ifFLbZOM/bO482COo4z+HHPQz5vLjP19XYarCguM/AMIrWpG+4z8b8OK1UwnkPzUemhEWVOQ/14hkweSP5D81VSVHLdPkP64x6KLvHeU/DP6oKDhh5T9qymmugKTlP/HP8cx1FuU/T5yyUr5Z5T9qymmugKTlP8iWKjTJ5+U/QXPtj4sy5j+fP64V1HXmP7ltZXGWwOY/Fzom994D5z/TtPJ8J0fnP9/wb0vO6eg/xYstuvQf6D8jWO4/PWPoP4Ekr8WFpug/",
          "dtype": "f8"
         },
         "z": {
          "bdata": "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",
          "dtype": "f8"
         }
        },
        {
         "marker": {
          "color": "blue",
          "opacity": 0.8,
          "size": 2
         },
         "mode": "markers",
         "name": "Label 1",
         "type": "scatter3d",
         "x": {
          "bdata": "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",
          "dtype": "f8"
         },
         "y": {
          "bdata": "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",
          "dtype": "f8"
         },
         "z": {
          "bdata": "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",
          "dtype": "f8"
         }
        }
       ],
       "layout": {
        "scene": {
         "xaxis": {
          "title": {
           "text": "X"
          }
         },
         "yaxis": {
          "title": {
           "text": "Y"
          }
         },
         "zaxis": {
          "title": {
           "text": "Z"
          }
         }
        },
        "showlegend": true,
        "template": {
         "data": {
          "bar": [
           {
            "error_x": {
             "color": "#2a3f5f"
            },
            "error_y": {
             "color": "#2a3f5f"
            },
            "marker": {
             "line": {
              "color": "#E5ECF6",
              "width": 0.5
             },
             "pattern": {
              "fillmode": "overlay",
              "size": 10,
              "solidity": 0.2
             }
            },
            "type": "bar"
           }
          ],
          "barpolar": [
           {
            "marker": {
             "line": {
              "color": "#E5ECF6",
              "width": 0.5
             },
             "pattern": {
              "fillmode": "overlay",
              "size": 10,
              "solidity": 0.2
             }
            },
            "type": "barpolar"
           }
          ],
          "carpet": [
           {
            "aaxis": {
             "endlinecolor": "#2a3f5f",
             "gridcolor": "white",
             "linecolor": "white",
             "minorgridcolor": "white",
             "startlinecolor": "#2a3f5f"
            },
            "baxis": {
             "endlinecolor": "#2a3f5f",
             "gridcolor": "white",
             "linecolor": "white",
             "minorgridcolor": "white",
             "startlinecolor": "#2a3f5f"
            },
            "type": "carpet"
           }
          ],
          "choropleth": [
           {
            "colorbar": {
             "outlinewidth": 0,
             "ticks": ""
            },
            "type": "choropleth"
           }
          ],
          "contour": [
           {
            "colorbar": {
             "outlinewidth": 0,
             "ticks": ""
            },
            "colorscale": [
             [
              0,
              "#0d0887"
             ],
             [
              0.1111111111111111,
              "#46039f"
             ],
             [
              0.2222222222222222,
              "#7201a8"
             ],
             [
              0.3333333333333333,
              "#9c179e"
             ],
             [
              0.4444444444444444,
              "#bd3786"
             ],
             [
              0.5555555555555556,
              "#d8576b"
             ],
             [
              0.6666666666666666,
              "#ed7953"
             ],
             [
              0.7777777777777778,
              "#fb9f3a"
             ],
             [
              0.8888888888888888,
              "#fdca26"
             ],
             [
              1,
              "#f0f921"
             ]
            ],
            "type": "contour"
           }
          ],
          "contourcarpet": [
           {
            "colorbar": {
             "outlinewidth": 0,
             "ticks": ""
            },
            "type": "contourcarpet"
           }
          ],
          "heatmap": [
           {
            "colorbar": {
             "outlinewidth": 0,
             "ticks": ""
            },
            "colorscale": [
             [
              0,
              "#0d0887"
             ],
             [
              0.1111111111111111,
              "#46039f"
             ],
             [
              0.2222222222222222,
              "#7201a8"
             ],
             [
              0.3333333333333333,
              "#9c179e"
             ],
             [
              0.4444444444444444,
              "#bd3786"
             ],
             [
              0.5555555555555556,
              "#d8576b"
             ],
             [
              0.6666666666666666,
              "#ed7953"
             ],
             [
              0.7777777777777778,
              "#fb9f3a"
             ],
             [
              0.8888888888888888,
              "#fdca26"
             ],
             [
              1,
              "#f0f921"
             ]
            ],
            "type": "heatmap"
           }
          ],
          "histogram": [
           {
            "marker": {
             "pattern": {
              "fillmode": "overlay",
              "size": 10,
              "solidity": 0.2
             }
            },
            "type": "histogram"
           }
          ],
          "histogram2d": [
           {
            "colorbar": {
             "outlinewidth": 0,
             "ticks": ""
            },
            "colorscale": [
             [
              0,
              "#0d0887"
             ],
             [
              0.1111111111111111,
              "#46039f"
             ],
             [
              0.2222222222222222,
              "#7201a8"
             ],
             [
              0.3333333333333333,
              "#9c179e"
             ],
             [
              0.4444444444444444,
              "#bd3786"
             ],
             [
              0.5555555555555556,
              "#d8576b"
             ],
             [
              0.6666666666666666,
              "#ed7953"
             ],
             [
              0.7777777777777778,
              "#fb9f3a"
             ],
             [
              0.8888888888888888,
              "#fdca26"
             ],
             [
              1,
              "#f0f921"
             ]
            ],
            "type": "histogram2d"
           }
          ],
          "histogram2dcontour": [
           {
            "colorbar": {
             "outlinewidth": 0,
             "ticks": ""
            },
            "colorscale": [
             [
              0,
              "#0d0887"
             ],
             [
              0.1111111111111111,
              "#46039f"
             ],
             [
              0.2222222222222222,
              "#7201a8"
             ],
             [
              0.3333333333333333,
              "#9c179e"
             ],
             [
              0.4444444444444444,
              "#bd3786"
             ],
             [
              0.5555555555555556,
              "#d8576b"
             ],
             [
              0.6666666666666666,
              "#ed7953"
             ],
             [
              0.7777777777777778,
              "#fb9f3a"
             ],
             [
              0.8888888888888888,
              "#fdca26"
             ],
             [
              1,
              "#f0f921"
             ]
            ],
            "type": "histogram2dcontour"
           }
          ],
          "mesh3d": [
           {
            "colorbar": {
             "outlinewidth": 0,
             "ticks": ""
            },
            "type": "mesh3d"
           }
          ],
          "parcoords": [
           {
            "line": {
             "colorbar": {
              "outlinewidth": 0,
              "ticks": ""
             }
            },
            "type": "parcoords"
           }
          ],
          "pie": [
           {
            "automargin": true,
            "type": "pie"
           }
          ],
          "scatter": [
           {
            "fillpattern": {
             "fillmode": "overlay",
             "size": 10,
             "solidity": 0.2
            },
            "type": "scatter"
           }
          ],
          "scatter3d": [
           {
            "line": {
             "colorbar": {
              "outlinewidth": 0,
              "ticks": ""
             }
            },
            "marker": {
             "colorbar": {
              "outlinewidth": 0,
              "ticks": ""
             }
            },
            "type": "scatter3d"
           }
          ],
          "scattercarpet": [
           {
            "marker": {
             "colorbar": {
              "outlinewidth": 0,
              "ticks": ""
             }
            },
            "type": "scattercarpet"
           }
          ],
          "scattergeo": [
           {
            "marker": {
             "colorbar": {
              "outlinewidth": 0,
              "ticks": ""
             }
            },
            "type": "scattergeo"
           }
          ],
          "scattergl": [
           {
            "marker": {
             "colorbar": {
              "outlinewidth": 0,
              "ticks": ""
             }
            },
            "type": "scattergl"
           }
          ],
          "scattermap": [
           {
            "marker": {
             "colorbar": {
              "outlinewidth": 0,
              "ticks": ""
             }
            },
            "type": "scattermap"
           }
          ],
          "scattermapbox": [
           {
            "marker": {
             "colorbar": {
              "outlinewidth": 0,
              "ticks": ""
             }
            },
            "type": "scattermapbox"
           }
          ],
          "scatterpolar": [
           {
            "marker": {
             "colorbar": {
              "outlinewidth": 0,
              "ticks": ""
             }
            },
            "type": "scatterpolar"
           }
          ],
          "scatterpolargl": [
           {
            "marker": {
             "colorbar": {
              "outlinewidth": 0,
              "ticks": ""
             }
            },
            "type": "scatterpolargl"
           }
          ],
          "scatterternary": [
           {
            "marker": {
             "colorbar": {
              "outlinewidth": 0,
              "ticks": ""
             }
            },
            "type": "scatterternary"
           }
          ],
          "surface": [
           {
            "colorbar": {
             "outlinewidth": 0,
             "ticks": ""
            },
            "colorscale": [
             [
              0,
              "#0d0887"
             ],
             [
              0.1111111111111111,
              "#46039f"
             ],
             [
              0.2222222222222222,
              "#7201a8"
             ],
             [
              0.3333333333333333,
              "#9c179e"
             ],
             [
              0.4444444444444444,
              "#bd3786"
             ],
             [
              0.5555555555555556,
              "#d8576b"
             ],
             [
              0.6666666666666666,
              "#ed7953"
             ],
             [
              0.7777777777777778,
              "#fb9f3a"
             ],
             [
              0.8888888888888888,
              "#fdca26"
             ],
             [
              1,
              "#f0f921"
             ]
            ],
            "type": "surface"
           }
          ],
          "table": [
           {
            "cells": {
             "fill": {
              "color": "#EBF0F8"
             },
             "line": {
              "color": "white"
             }
            },
            "header": {
             "fill": {
              "color": "#C8D4E3"
             },
             "line": {
              "color": "white"
             }
            },
            "type": "table"
           }
          ]
         },
         "layout": {
          "annotationdefaults": {
           "arrowcolor": "#2a3f5f",
           "arrowhead": 0,
           "arrowwidth": 1
          },
          "autotypenumbers": "strict",
          "coloraxis": {
           "colorbar": {
            "outlinewidth": 0,
            "ticks": ""
           }
          },
          "colorscale": {
           "diverging": [
            [
             0,
             "#8e0152"
            ],
            [
             0.1,
             "#c51b7d"
            ],
            [
             0.2,
             "#de77ae"
            ],
            [
             0.3,
             "#f1b6da"
            ],
            [
             0.4,
             "#fde0ef"
            ],
            [
             0.5,
             "#f7f7f7"
            ],
            [
             0.6,
             "#e6f5d0"
            ],
            [
             0.7,
             "#b8e186"
            ],
            [
             0.8,
             "#7fbc41"
            ],
            [
             0.9,
             "#4d9221"
            ],
            [
             1,
             "#276419"
            ]
           ],
           "sequential": [
            [
             0,
             "#0d0887"
            ],
            [
             0.1111111111111111,
             "#46039f"
            ],
            [
             0.2222222222222222,
             "#7201a8"
            ],
            [
             0.3333333333333333,
             "#9c179e"
            ],
            [
             0.4444444444444444,
             "#bd3786"
            ],
            [
             0.5555555555555556,
             "#d8576b"
            ],
            [
             0.6666666666666666,
             "#ed7953"
            ],
            [
             0.7777777777777778,
             "#fb9f3a"
            ],
            [
             0.8888888888888888,
             "#fdca26"
            ],
            [
             1,
             "#f0f921"
            ]
           ],
           "sequentialminus": [
            [
             0,
             "#0d0887"
            ],
            [
             0.1111111111111111,
             "#46039f"
            ],
            [
             0.2222222222222222,
             "#7201a8"
            ],
            [
             0.3333333333333333,
             "#9c179e"
            ],
            [
             0.4444444444444444,
             "#bd3786"
            ],
            [
             0.5555555555555556,
             "#d8576b"
            ],
            [
             0.6666666666666666,
             "#ed7953"
            ],
            [
             0.7777777777777778,
             "#fb9f3a"
            ],
            [
             0.8888888888888888,
             "#fdca26"
            ],
            [
             1,
             "#f0f921"
            ]
           ]
          },
          "colorway": [
           "#636efa",
           "#EF553B",
           "#00cc96",
           "#ab63fa",
           "#FFA15A",
           "#19d3f3",
           "#FF6692",
           "#B6E880",
           "#FF97FF",
           "#FECB52"
          ],
          "font": {
           "color": "#2a3f5f"
          },
          "geo": {
           "bgcolor": "white",
           "lakecolor": "white",
           "landcolor": "#E5ECF6",
           "showlakes": true,
           "showland": true,
           "subunitcolor": "white"
          },
          "hoverlabel": {
           "align": "left"
          },
          "hovermode": "closest",
          "mapbox": {
           "style": "light"
          },
          "paper_bgcolor": "white",
          "plot_bgcolor": "#E5ECF6",
          "polar": {
           "angularaxis": {
            "gridcolor": "white",
            "linecolor": "white",
            "ticks": ""
           },
           "bgcolor": "#E5ECF6",
           "radialaxis": {
            "gridcolor": "white",
            "linecolor": "white",
            "ticks": ""
           }
          },
          "scene": {
           "xaxis": {
            "backgroundcolor": "#E5ECF6",
            "gridcolor": "white",
            "gridwidth": 2,
            "linecolor": "white",
            "showbackground": true,
            "ticks": "",
            "zerolinecolor": "white"
           },
           "yaxis": {
            "backgroundcolor": "#E5ECF6",
            "gridcolor": "white",
            "gridwidth": 2,
            "linecolor": "white",
            "showbackground": true,
            "ticks": "",
            "zerolinecolor": "white"
           },
           "zaxis": {
            "backgroundcolor": "#E5ECF6",
            "gridcolor": "white",
            "gridwidth": 2,
            "linecolor": "white",
            "showbackground": true,
            "ticks": "",
            "zerolinecolor": "white"
           }
          },
          "shapedefaults": {
           "line": {
            "color": "#2a3f5f"
           }
          },
          "ternary": {
           "aaxis": {
            "gridcolor": "white",
            "linecolor": "white",
            "ticks": ""
           },
           "baxis": {
            "gridcolor": "white",
            "linecolor": "white",
            "ticks": ""
           },
           "bgcolor": "#E5ECF6",
           "caxis": {
            "gridcolor": "white",
            "linecolor": "white",
            "ticks": ""
           }
          },
          "title": {
           "x": 0.05
          },
          "xaxis": {
           "automargin": true,
           "gridcolor": "white",
           "linecolor": "white",
           "ticks": "",
           "title": {
            "standoff": 15
           },
           "zerolinecolor": "white",
           "zerolinewidth": 2
          },
          "yaxis": {
           "automargin": true,
           "gridcolor": "white",
           "linecolor": "white",
           "ticks": "",
           "title": {
            "standoff": 15
           },
           "zerolinecolor": "white",
           "zerolinewidth": 2
          }
         }
        },
        "title": {
         "text": "3D Scatter Plot of RoofNTNU Data (Colored by Labels)"
        }
       }
      }
     },
     "metadata": {},
     "output_type": "display_data"
    }
   ],
   "source": [
    "import plotly.graph_objs as go\n",
    "import numpy as np\n",
    "\n",
    "# Function to read and extract coordinates and labels from a txt file\n",
    "def read_data(file_path):\n",
    "    x, y, z, labels = [], [], [], []\n",
    "    \n",
    "    with open(file_path, 'r') as file:\n",
    "        for line in file:\n",
    "            values = line.split()\n",
    "            x.append(float(values[0]))   # X coordinate\n",
    "            y.append(float(values[1]))   # Y coordinate\n",
    "            z.append(float(values[2]))   # Z coordinate\n",
    "            labels.append(int(values[-2]))  # Label (2nd last value)\n",
    "    \n",
    "    return np.array(x), np.array(y), np.array(z), np.array(labels)\n",
    "\n",
    "# Example: Reading data from a txt file\n",
    "file_path = 'data/roofNTNU/roof_clouds_normed/10457866.txt'  # Replace with your file path\n",
    "x, y, z, labels = read_data(file_path)\n",
    "\n",
    "# Get unique labels\n",
    "unique_labels = np.unique(labels)\n",
    "\n",
    "# Assign colors for each unique label\n",
    "color_map = [\n",
    "    'red', 'blue', 'green', 'purple', 'orange', 'cyan', 'magenta', 'yellow'\n",
    "]  # Extend if more labels exist\n",
    "\n",
    "# Create traces for each unique label\n",
    "traces = []\n",
    "for i, label in enumerate(unique_labels):\n",
    "    mask = labels == label  # Filter points by label\n",
    "    trace = go.Scatter3d(\n",
    "        x=x[mask], \n",
    "        y=y[mask], \n",
    "        z=z[mask], \n",
    "        mode='markers', \n",
    "        marker=dict(\n",
    "            size=2,\n",
    "            color=color_map[i % len(color_map)],  # Assign color\n",
    "            opacity=0.8\n",
    "        ),\n",
    "        name=f'Label {label}'  # Legend entry\n",
    "    )\n",
    "    traces.append(trace)\n",
    "\n",
    "# Layout settings\n",
    "layout = go.Layout(\n",
    "    scene=dict(\n",
    "        xaxis_title='X', \n",
    "        yaxis_title='Y', \n",
    "        zaxis_title='Z'\n",
    "    ),\n",
    "    title='3D Scatter Plot of RoofNTNU Data (Colored by Labels)',\n",
    "    showlegend=True\n",
    ")\n",
    "\n",
    "# Create the figure and display it\n",
    "fig = go.Figure(data=traces, layout=layout)\n",
    "fig.show()"
   ]
  },
  {
   "cell_type": "code",
   "execution_count": 1,
   "metadata": {},
   "outputs": [
    {
     "name": "stdout",
     "output_type": "stream",
     "text": [
      "Number of .txt files: 1032\n",
      "Max lines in a file: 39172\n",
      "Min lines in a file: 31\n",
      "Average lines per file: 2177.60\n",
      "Median lines per file: 1789.0\n",
      "Standard deviation of lines: 2012.50\n"
     ]
    }
   ],
   "source": [
    "import os\n",
    "import numpy as np\n",
    "\n",
    "# Define the folder path containing the .xyz files\n",
    "folder_path = \"data/roofNTNU/roof_clouds_normed/\"  # Replace with your actual path\n",
    "\n",
    "# List all .xyz files in the folder\n",
    "xyz_files = [f for f in os.listdir(folder_path) if f.endswith(\".txt\")]\n",
    "\n",
    "# Count the number of files\n",
    "num_files = len(xyz_files)\n",
    "\n",
    "# List to store the number of lines in each file\n",
    "line_counts = []\n",
    "\n",
    "# Read each file and count the lines\n",
    "for file_name in xyz_files:\n",
    "    file_path = os.path.join(folder_path, file_name)\n",
    "    with open(file_path, 'r') as file:\n",
    "        num_lines = sum(1 for _ in file)  # Count lines\n",
    "        line_counts.append(num_lines)\n",
    "\n",
    "# Compute statistics\n",
    "max_lines = np.max(line_counts) if line_counts else 0\n",
    "min_lines = np.min(line_counts) if line_counts else 0\n",
    "avg_lines = np.mean(line_counts) if line_counts else 0\n",
    "median_lines = np.median(line_counts) if line_counts else 0\n",
    "std_dev_lines = np.std(line_counts) if line_counts else 0\n",
    "\n",
    "# Print summary results\n",
    "print(f\"Number of .txt files: {num_files}\")\n",
    "print(f\"Max lines in a file: {max_lines}\")\n",
    "print(f\"Min lines in a file: {min_lines}\")\n",
    "print(f\"Average lines per file: {avg_lines:.2f}\")\n",
    "print(f\"Median lines per file: {median_lines}\")\n",
    "print(f\"Standard deviation of lines: {std_dev_lines:.2f}\")"
   ]
  },
  {
   "cell_type": "code",
   "execution_count": 3,
   "metadata": {},
   "outputs": [
    {
     "name": "stdout",
     "output_type": "stream",
     "text": [
      "Selected 200 training files saved to data/roofNTNU/train/files_200_512_train.json\n",
      "Selected 20 testing files saved to data/roofNTNU/train/files_20_512_test.json\n"
     ]
    }
   ],
   "source": [
    "import os\n",
    "import json\n",
    "import random\n",
    "import numpy as np\n",
    "# Define the folder path containing the .txt files\n",
    "folder_path = \"data/roofNTNU/roof_clouds_normed/\"  # Replace with your actual path\n",
    "\n",
    "# List all .txt files in the folder\n",
    "xyz_files = [f for f in os.listdir(folder_path) if f.endswith(\".txt\")]\n",
    "\n",
    "# List to store files with at least 512 lines\n",
    "valid_files = []\n",
    "\n",
    "# Read each file and count the lines\n",
    "for file_name in xyz_files:\n",
    "    file_path = os.path.join(folder_path, file_name)\n",
    "    with open(file_path, 'r') as file:\n",
    "        num_lines = sum(1 for _ in file)  # Count lines\n",
    "        if num_lines >= 512:\n",
    "            valid_files.append(file_name)\n",
    "\n",
    "# Shuffle the valid files\n",
    "random.shuffle(valid_files)\n",
    "\n",
    "# Split into training (200 files) and testing (20 files)\n",
    "train_files = valid_files[:200]\n",
    "test_files = valid_files[200:220]\n",
    "\n",
    "# Save the training files to a JSON file\n",
    "train_output_file = \"data/roofNTNU/train/files_200_512_train.json\"\n",
    "with open(train_output_file, 'w') as json_file:\n",
    "    json.dump(train_files, json_file, indent=4)\n",
    "\n",
    "# Save the testing files to a JSON file\n",
    "test_output_file = \"data/roofNTNU/train/files_20_512_test.json\"\n",
    "with open(test_output_file, 'w') as json_file:\n",
    "    json.dump(test_files, json_file, indent=4)\n",
    "\n",
    "print(f\"Selected {len(train_files)} training files saved to {train_output_file}\")\n",
    "print(f\"Selected {len(test_files)} testing files saved to {test_output_file}\")"
   ]
  },
  {
   "cell_type": "code",
   "execution_count": 4,
   "metadata": {},
   "outputs": [
    {
     "name": "stdout",
     "output_type": "stream",
     "text": [
      "Processing complete. Files saved in the respective folders.\n"
     ]
    }
   ],
   "source": [
    "import os\n",
    "import json\n",
    "\n",
    "# Define paths\n",
    "base_folder = \"data/roofNTNU/\"\n",
    "source_folder = os.path.join(base_folder, \"roof_clouds_normed/\")\n",
    "output_folder = os.path.join(base_folder, \"train/\")\n",
    "train_json = os.path.join(output_folder, \"files_200_512_train.json\")\n",
    "test_json = os.path.join(output_folder, \"files_20_512_test.json\")\n",
    "\n",
    "# Create the required folder structure\n",
    "os.makedirs(os.path.join(output_folder, \"sample_points\"), exist_ok=True)\n",
    "os.makedirs(os.path.join(output_folder, \"sample_labels\"), exist_ok=True)\n",
    "os.makedirs(os.path.join(output_folder, \"sample_points_test\"), exist_ok=True)\n",
    "os.makedirs(os.path.join(output_folder, \"sample_labels_test\"), exist_ok=True)\n",
    "\n",
    "def process_files(file_list, points_folder, labels_folder):\n",
    "    \"\"\"\n",
    "    Process the files to extract points and labels and save them to the respective folders.\n",
    "    \"\"\"\n",
    "    for file_name in file_list:\n",
    "        input_file = os.path.join(source_folder, file_name)\n",
    "        \n",
    "        # Output file paths\n",
    "        points_file = os.path.join(points_folder, file_name)\n",
    "        labels_file = os.path.join(labels_folder, file_name)\n",
    "        \n",
    "        with open(input_file, 'r') as infile, \\\n",
    "             open(points_file, 'w') as points_out, \\\n",
    "             open(labels_file, 'w') as labels_out:\n",
    "            \n",
    "            for line in infile:\n",
    "                values = line.strip().split()\n",
    "                if len(values) >= 4:  # Ensure the line has enough values\n",
    "                    # Write the first 3 values to the points file\n",
    "                    points_out.write(\" \".join(values[:3]) + \"\\n\")\n",
    "                    # Write the second last value to the labels file\n",
    "                    labels_out.write(values[-2] + \"\\n\")\n",
    "\n",
    "# Load the JSON files\n",
    "with open(train_json, 'r') as f:\n",
    "    train_files = json.load(f)\n",
    "\n",
    "with open(test_json, 'r') as f:\n",
    "    test_files = json.load(f)\n",
    "\n",
    "# Process training files\n",
    "process_files(train_files, \n",
    "              os.path.join(output_folder, \"sample_points\"), \n",
    "              os.path.join(output_folder, \"sample_labels\"))\n",
    "\n",
    "# Process testing files\n",
    "process_files(test_files, \n",
    "              os.path.join(output_folder, \"sample_points_test\"), \n",
    "              os.path.join(output_folder, \"sample_labels_test\"))\n",
    "\n",
    "print(\"Processing complete. Files saved in the respective folders.\")"
   ]
  },
  {
   "cell_type": "code",
   "execution_count": 3,
   "metadata": {},
   "outputs": [
    {
     "name": "stdout",
     "output_type": "stream",
     "text": [
      "Processing complete. Files saved in the respective folders.\n"
     ]
    }
   ],
   "source": [
    "import os\n",
    "import json\n",
    "\n",
    "# Define paths\n",
    "base_folder = \"data/roofNTNU/\"\n",
    "source_folder = os.path.join(base_folder, \"roof_clouds_normed/\")\n",
    "output_folder = os.path.join(base_folder, \"train_test_split/\")\n",
    "train_json = os.path.join(output_folder, \"shuffled_train_file_list.json\")\n",
    "test_json = os.path.join(output_folder, \"shuffled_test_file_list.json\")\n",
    "\n",
    "# Create the required folder structure\n",
    "os.makedirs(os.path.join(output_folder, \"points_train_n\"), exist_ok=True)\n",
    "os.makedirs(os.path.join(output_folder, \"labels_train_n\"), exist_ok=True)\n",
    "os.makedirs(os.path.join(output_folder, \"points_test_n\"), exist_ok=True)\n",
    "os.makedirs(os.path.join(output_folder, \"labels_test_n\"), exist_ok=True)\n",
    "\n",
    "def process_files(file_list, points_folder, labels_folder):\n",
    "    \"\"\"\n",
    "    Process the files to extract points and labels and save them to the respective folders.\n",
    "    \"\"\"\n",
    "    for file_name in file_list:\n",
    "        input_file = os.path.join(source_folder, file_name+'.txt')\n",
    "        \n",
    "        # Output file paths\n",
    "        points_file = os.path.join(points_folder, file_name+'.txt')\n",
    "        labels_file = os.path.join(labels_folder, file_name+'.txt')\n",
    "        \n",
    "        with open(input_file, 'r') as infile, \\\n",
    "             open(points_file, 'w') as points_out, \\\n",
    "             open(labels_file, 'w') as labels_out:\n",
    "            \n",
    "            for line in infile:\n",
    "                values = line.strip().split()\n",
    "                if len(values) >= 4:  # Ensure the line has enough values\n",
    "                    # Write the first 3 values to the points file\n",
    "                    points_out.write(\" \".join(values[:3]) + \"\\n\")\n",
    "                    # Write the second last value to the labels file\n",
    "                    label = int(values[-2]) + 1\n",
    "                    labels_out.write(str(label) + \"\\n\")\n",
    "\n",
    "# Load the JSON files\n",
    "with open(train_json, 'r') as f:\n",
    "    train_files = json.load(f)\n",
    "\n",
    "with open(test_json, 'r') as f:\n",
    "    test_files = json.load(f)\n",
    "\n",
    "# Process training files\n",
    "process_files(train_files, \n",
    "              os.path.join(output_folder, \"points_train_n\"), \n",
    "              os.path.join(output_folder, \"labels_train_n\"))\n",
    "\n",
    "# Process testing files\n",
    "process_files(test_files, \n",
    "              os.path.join(output_folder, \"points_test_n\"), \n",
    "              os.path.join(output_folder, \"labels_test_n\"))\n",
    "\n",
    "print(\"Processing complete. Files saved in the respective folders.\")"
   ]
  }
 ],
 "metadata": {
  "kernelspec": {
   "display_name": "mypy312",
   "language": "python",
   "name": "python3"
  },
  "language_info": {
   "codemirror_mode": {
    "name": "ipython",
    "version": 3
   },
   "file_extension": ".py",
   "mimetype": "text/x-python",
   "name": "python",
   "nbconvert_exporter": "python",
   "pygments_lexer": "ipython3",
   "version": "3.12.9"
  }
 },
 "nbformat": 4,
 "nbformat_minor": 2
}
