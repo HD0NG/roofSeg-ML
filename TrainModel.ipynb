{
 "cells": [
  {
   "cell_type": "code",
   "execution_count": null,
   "id": "fc170b42",
   "metadata": {},
   "outputs": [],
   "source": [
    "from NetModel import *\n",
    "from AFunctions import *\n",
    "import torch.optim as optim\n",
    "import pickle\n",
    "import sys"
   ]
  },
  {
   "cell_type": "code",
   "execution_count": null,
   "id": "a38146df",
   "metadata": {},
   "outputs": [],
   "source": [
    "# Define dataset paths\n",
    "points_folder = \"data/roofNTNU/train_test_split/points_train\"\n",
    "labels_folder = \"data/roofNTNU/train_test_split/labels_train\"\n",
    "\n",
    "# Create dataset instance\n",
    "train_dataset = LiDARPointCloudDataset(points_folder, labels_folder, max_points=2048, mode=\"train\")\n",
    "\n",
    "# Create DataLoader\n",
    "# train_loader = DataLoader(train_dataset, batch_size=4, shuffle=True, collate_fn=collate_fn)\n",
    "\n",
    "train_loader = DataLoader(\n",
    "    train_dataset, batch_size=4, shuffle=True,\n",
    "    num_workers=8,  # Use multiple CPU cores for faster loading\n",
    "    pin_memory=True,  # Optimizes GPU transfers\n",
    "    collate_fn=collate_fn\n",
    ")\n",
    "\n",
    "# Check batch\n",
    "for points, labels in train_loader:\n",
    "    print(\"Batch Point Cloud Shape:\", points.shape)  # Expected: (batch_size, max_points, 3)\n",
    "    print(\"Batch Labels Shape:\", labels.shape)  # Expected: (batch_size, max_points)\n",
    "    break"
   ]
  },
  {
   "cell_type": "code",
   "execution_count": null,
   "id": "91b98cdb",
   "metadata": {},
   "outputs": [],
   "source": [
    "model = PointNetPPUNet(emb_dim=128, output_dim=64)\n",
    "# recon_head = ReconstructionHead(emb_dim=64)\n",
    "\n",
    "optimizer = optim.Adam(\n",
    "    model.parameters(), \n",
    "    lr=0.001, \n",
    "    weight_decay=1e-4)\n",
    "\n",
    "\n",
    "# loss_history = train_model(model, train_loader, optimizer, num_epochs=100, device='cuda', save_model=True, save_path=\"model/pointnetpp_unet_4.pth\")\n",
    "loss_history = train_model(\n",
    "    model=model,\n",
    "    train_loader=train_loader,\n",
    "    optimizer=optimizer,\n",
    "    recon_head=None,\n",
    "    lambda_recon=0.1,\n",
    "    num_epochs=50,\n",
    "    save_model=True,\n",
    "    save_path=\"model/pointnetpp_unet_6.pth\",\n",
    "    device='cuda'\n",
    ")\n",
    "print(\"✅ Model trained!\")\n",
    "# Save loss history\n",
    "with open(\"model/loss_history_pointnetpp_unet_6.pkl\", \"wb\") as f:\n",
    "    pickle.dump(loss_history, f)\n",
    "print(\"Loss history saved!\")\n",
    "\n",
    "# print(\"✅ Test complete!\")\n",
    "# add exit code\n",
    "sys.exit(0)"
   ]
  }
 ],
 "metadata": {
  "kernelspec": {
   "display_name": "mypy312",
   "language": "python",
   "name": "python3"
  },
  "language_info": {
   "codemirror_mode": {
    "name": "ipython",
    "version": 3
   },
   "file_extension": ".py",
   "mimetype": "text/x-python",
   "name": "python",
   "nbconvert_exporter": "python",
   "pygments_lexer": "ipython3",
   "version": "3.12.2"
  }
 },
 "nbformat": 4,
 "nbformat_minor": 5
}
