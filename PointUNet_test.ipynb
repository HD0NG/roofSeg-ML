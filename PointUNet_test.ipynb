{
 "cells": [
  {
   "cell_type": "code",
   "execution_count": 1,
   "metadata": {},
   "outputs": [],
   "source": [
    "# import libraries\n",
    "import os\n",
    "import numpy as np\n",
    "import pandas as pd\n",
    "import matplotlib.pyplot as plt\n",
    "import plotly.express as px\n",
    "import torch\n",
    "import torch.nn as nn\n",
    "import torch.nn.functional as F\n",
    "import torch.optim as optim\n",
    "# import open3d as o3d\n",
    "# import laspy\n",
    "from torch.utils.data import Dataset, DataLoader\n",
    "\n",
    "from tqdm import tqdm\n",
    "from sklearn.cluster import DBSCAN"
   ]
  },
  {
   "cell_type": "code",
   "execution_count": 2,
   "metadata": {},
   "outputs": [],
   "source": [
    "# PointNet Model\n",
    "class PointNetEncoder(nn.Module):\n",
    "    def __init__(self, input_dim=3, emb_dim=128):\n",
    "        super(PointNetEncoder, self).__init__()\n",
    "        self.conv1 = nn.Conv1d(input_dim, 64, 1)\n",
    "        self.conv2 = nn.Conv1d(64, 128, 1)\n",
    "        self.conv3 = nn.Conv1d(128, emb_dim, 1)\n",
    "        self.bn1 = nn.BatchNorm1d(64)\n",
    "        self.bn2 = nn.BatchNorm1d(128)\n",
    "        self.bn3 = nn.BatchNorm1d(emb_dim)\n",
    "\n",
    "    def forward(self, x):\n",
    "        x = x.permute(0, 2, 1)  # Convert to (B, C, N)\n",
    "        x = F.relu(self.bn1(self.conv1(x)))\n",
    "        x = F.relu(self.bn2(self.conv2(x)))\n",
    "        x = self.bn3(self.conv3(x))\n",
    "        global_feature = torch.max(x, 2, keepdim=True)[0]\n",
    "        global_feature = global_feature.repeat(1, 1, x.shape[2])\n",
    "        x = torch.cat([x, global_feature], dim=1)\n",
    "        return x.permute(0, 2, 1)  # Back to (B, N, C)"
   ]
  },
  {
   "cell_type": "code",
   "execution_count": 3,
   "metadata": {},
   "outputs": [],
   "source": [
    "# UNet Model\n",
    "class UNetDecoder(nn.Module):\n",
    "    def __init__(self, emb_dim=128, output_dim=64):\n",
    "        super(UNetDecoder, self).__init__()\n",
    "        self.conv1 = nn.Conv1d(emb_dim * 2, 128, 1)\n",
    "        self.conv2 = nn.Conv1d(128, 64, 1)\n",
    "        self.conv3 = nn.Conv1d(64, output_dim, 1)\n",
    "        self.bn1 = nn.BatchNorm1d(128)\n",
    "        self.bn2 = nn.BatchNorm1d(64)\n",
    "        self.bn3 = nn.BatchNorm1d(output_dim)\n",
    "\n",
    "    def forward(self, x):\n",
    "        x = x.permute(0, 2, 1)  # Convert to (B, C, N)\n",
    "        x = F.relu(self.bn1(self.conv1(x)))\n",
    "        x = F.relu(self.bn2(self.conv2(x)))\n",
    "        x = self.bn3(self.conv3(x))\n",
    "        return x.permute(0, 2, 1)  # Back to (B, N, C)"
   ]
  },
  {
   "cell_type": "code",
   "execution_count": 4,
   "metadata": {},
   "outputs": [],
   "source": [
    "# PointNet-UNet Model\n",
    "class PointUNet(nn.Module):\n",
    "    def __init__(self, input_dim=3, emb_dim=128, output_dim=64):\n",
    "        super(PointUNet, self).__init__()\n",
    "        self.encoder = PointNetEncoder(input_dim, emb_dim)\n",
    "        self.decoder = UNetDecoder(emb_dim, output_dim)\n",
    "\n",
    "    def forward(self, x):\n",
    "        x = self.encoder(x)\n",
    "        x = self.decoder(x)\n",
    "        return x"
   ]
  },
  {
   "cell_type": "code",
   "execution_count": 5,
   "metadata": {},
   "outputs": [],
   "source": [
    "\"\"\"\n",
    "Cluster Contrastive Loss\n",
    "Ensures same-face points are close, different faces are separated.\n",
    "\"\"\"\n",
    "# Contrastive Loss\n",
    "def contrastive_loss(embeddings, labels, margin=1.0):\n",
    "    \"\"\"\n",
    "    Contrastive loss to cluster points of the same roof face and separate different faces.\n",
    "    \"\"\"\n",
    "    batch_size, num_points, emb_dim = embeddings.shape\n",
    "    loss = 0.0\n",
    "    count = 0\n",
    "\n",
    "    for i in range(batch_size):\n",
    "        for j in range(num_points):\n",
    "            for k in range(num_points):\n",
    "                if j == k:\n",
    "                    continue\n",
    "                d = torch.norm(embeddings[i, j] - embeddings[i, k], p=2)\n",
    "                if labels[i, j] == labels[i, k]:  # Same face\n",
    "                    loss += d ** 2\n",
    "                else:  # Different faces\n",
    "                    loss += max(0, margin - d) ** 2\n",
    "                count += 1\n",
    "\n",
    "    return loss / count"
   ]
  },
  {
   "cell_type": "code",
   "execution_count": 6,
   "metadata": {},
   "outputs": [],
   "source": [
    "# Train PointNet-UNet model\n",
    "def train_model(model, train_loader, optimizer, num_epochs=10, device='cuda', save_model=False):\n",
    "    \"\"\"\n",
    "    Trains the PointNet-UNet model and visualizes training loss.\n",
    "\n",
    "    Args:\n",
    "        model: PointNet-UNet model.\n",
    "        train_loader: DataLoader for training data.\n",
    "        optimizer: Optimizer for training.\n",
    "        num_epochs: Number of training epochs.\n",
    "        device: 'cuda' or 'cpu'.\n",
    "        save_model: Whether to save the trained model after training.\n",
    "\n",
    "    Returns:\n",
    "        loss_history: List of loss values per epoch.\n",
    "    \"\"\"\n",
    "    model.to(device)\n",
    "    model.train()\n",
    "    loss_history = []\n",
    "\n",
    "    for epoch in range(num_epochs):\n",
    "        total_loss = 0\n",
    "        progress_bar = tqdm(train_loader, desc=f\"Epoch {epoch + 1}/{num_epochs}\")\n",
    "\n",
    "        for data, labels in progress_bar:\n",
    "            data, labels = data.to(device), labels.to(device)\n",
    "            optimizer.zero_grad()\n",
    "            outputs = model(data)\n",
    "            loss = contrastive_loss(outputs, labels)\n",
    "            loss.backward()\n",
    "            optimizer.step()\n",
    "            total_loss += loss.item()\n",
    "            progress_bar.set_postfix(loss=loss.item())  # Show live loss update\n",
    "\n",
    "        avg_loss = total_loss / len(train_loader)\n",
    "        loss_history.append(avg_loss)\n",
    "        print(f\"Epoch {epoch + 1}/{num_epochs}, Loss: {avg_loss:.4f}\")\n",
    "\n",
    "    # Save model after training\n",
    "    if save_model:\n",
    "        torch.save(model.state_dict(), \"pointnet_unet_trained.pth\")\n",
    "        print(\"Model saved successfully!\")\n",
    "\n",
    "    return loss_history"
   ]
  },
  {
   "cell_type": "code",
   "execution_count": 7,
   "metadata": {},
   "outputs": [],
   "source": [
    "# Post-Processing with DBSCAN for Instance Labels\n",
    "def cluster_instances(embeddings, eps=0.5, min_samples=5):\n",
    "    \"\"\"\n",
    "    Cluster points into roof faces using DBSCAN on embedding space.\n",
    "    \"\"\"\n",
    "    embeddings_np = embeddings.detach().cpu().numpy()\n",
    "    clustered_labels = []\n",
    "\n",
    "    for batch_emb in embeddings_np:\n",
    "        clustering = DBSCAN(eps=eps, min_samples=min_samples).fit(batch_emb)\n",
    "        clustered_labels.append(clustering.labels_)\n",
    "\n",
    "    return np.array(clustered_labels)"
   ]
  },
  {
   "cell_type": "code",
   "execution_count": 8,
   "metadata": {},
   "outputs": [],
   "source": [
    "# Test PointNet-UNet model\n",
    "def test(model, test_loader, device='cuda'):\n",
    "    model.eval()\n",
    "    with torch.no_grad():\n",
    "        for points, _ in test_loader:\n",
    "            points = points.to(device)\n",
    "            embeddings = model(points)  # (B, N, output_dim)\n",
    "            instance_labels = cluster_instances(embeddings)\n",
    "            print(\"Predicted Instance Labels:\", instance_labels[0])  # Print for one batch\n",
    "            break"
   ]
  },
  {
   "cell_type": "code",
   "execution_count": 9,
   "metadata": {},
   "outputs": [],
   "source": [
    "class LiDARPointCloudDataset(Dataset):\n",
    "    def __init__(self, point_folder, label_folder, max_points=2048, mode=\"train\"):\n",
    "        \"\"\"\n",
    "        Args:\n",
    "            point_folder (str): Path to the folder containing point cloud .txt files.\n",
    "            label_folder (str): Path to the folder containing corresponding label .txt files.\n",
    "            max_points (int): Maximum number of points per cloud (for subsampling or padding).\n",
    "            mode (str): \"train\" or \"test\".\n",
    "        \"\"\"\n",
    "        self.point_folder = point_folder\n",
    "        self.label_folder = label_folder\n",
    "        self.max_points = max_points\n",
    "        self.mode = mode  # 'train' or 'test'\n",
    "\n",
    "        # List all available point files\n",
    "        self.point_files = sorted([f for f in os.listdir(point_folder) if f.endswith(\".txt\")])\n",
    "        self.label_files = sorted([f for f in os.listdir(label_folder) if f.endswith(\".txt\")])\n",
    "\n",
    "        # Ensure matching point and label files\n",
    "        assert len(self.point_files) == len(self.label_files), \"Mismatch in points and labels count.\"\n",
    "\n",
    "    def load_txt_file(self, file_path, num_features=3):\n",
    "        \"\"\"\n",
    "        Loads a .txt file, converting string lines into a NumPy array of type float64.\n",
    "        Assumes space/comma-separated values.\n",
    "        \"\"\"\n",
    "        data = []\n",
    "        with open(file_path, \"r\") as file:\n",
    "            for line in file:\n",
    "                try:\n",
    "                    values = np.array(line.strip().replace(',', ' ').split(), dtype=np.float64)\n",
    "                    if len(values) == num_features:\n",
    "                        data.append(values)\n",
    "                except ValueError:\n",
    "                    continue  # Skip lines that cannot be converted\n",
    "\n",
    "        return np.array(data)\n",
    "\n",
    "    def load_point_cloud(self, file_path):\n",
    "        \"\"\"Loads point cloud (XYZ) from a .txt file and returns a NumPy array.\"\"\"\n",
    "        return self.load_txt_file(file_path, num_features=3)  # Expecting [x, y, z]\n",
    "\n",
    "    def load_labels(self, file_path, num_points):\n",
    "        \"\"\"Loads labels from a .txt file, ensuring it matches the number of points.\"\"\"\n",
    "        labels = self.load_txt_file(file_path, num_features=1).flatten()\n",
    "        if len(labels) != num_points:\n",
    "            print(f\"Warning: {file_path} has {len(labels)} labels, expected {num_points}. Using zero-padding.\")\n",
    "            labels = np.pad(labels, (0, max(0, num_points - len(labels))), 'constant', constant_values=0)\n",
    "        return labels\n",
    "\n",
    "    def pad_or_subsample(self, points, labels):\n",
    "        \"\"\"Ensures a fixed number of points per cloud using padding or subsampling.\"\"\"\n",
    "        num_points = points.shape[0]\n",
    "\n",
    "        if num_points > self.max_points:\n",
    "            # Randomly sample points\n",
    "            indices = np.random.choice(num_points, self.max_points, replace=False)\n",
    "            points, labels = points[indices], labels[indices]\n",
    "        elif num_points < self.max_points:\n",
    "            # Pad with zeros\n",
    "            pad_size = self.max_points - num_points\n",
    "            pad_points = np.zeros((pad_size, 3), dtype=np.float64)\n",
    "            pad_labels = np.zeros(pad_size, dtype=np.int64)\n",
    "            points = np.vstack((points, pad_points))\n",
    "            labels = np.hstack((labels, pad_labels))\n",
    "\n",
    "        return points, labels\n",
    "\n",
    "    def __len__(self):\n",
    "        return len(self.point_files)\n",
    "\n",
    "    def __getitem__(self, idx):\n",
    "        point_path = os.path.join(self.point_folder, self.point_files[idx])\n",
    "        label_path = os.path.join(self.label_folder, self.label_files[idx])\n",
    "\n",
    "        point_cloud = self.load_point_cloud(point_path)\n",
    "        labels = self.load_labels(label_path, num_points=point_cloud.shape[0])\n",
    "\n",
    "        # Apply padding or subsampling\n",
    "        point_cloud, labels = self.pad_or_subsample(point_cloud, labels)\n",
    "\n",
    "        return torch.tensor(point_cloud, dtype=torch.float32), torch.tensor(labels, dtype=torch.long)"
   ]
  },
  {
   "cell_type": "code",
   "execution_count": 10,
   "metadata": {},
   "outputs": [],
   "source": [
    "# Dynamic Batching with Collate Function\n",
    "def collate_fn(batch):\n",
    "    \"\"\"\n",
    "    Custom collate function to handle variable-length point clouds.\n",
    "    Stacks padded point clouds into a batch.\n",
    "    \"\"\"\n",
    "    point_clouds, labels = zip(*batch)\n",
    "\n",
    "    # Convert to PyTorch tensors\n",
    "    point_clouds = torch.stack(point_clouds)  # (batch_size, max_points, 3)\n",
    "    labels = torch.stack(labels)  # (batch_size, max_points)\n",
    "\n",
    "    return point_clouds, labels"
   ]
  },
  {
   "cell_type": "code",
   "execution_count": 13,
   "metadata": {},
   "outputs": [
    {
     "ename": "FileNotFoundError",
     "evalue": "[Errno 2] No such file or directory: 'data/sample_points_50'",
     "output_type": "error",
     "traceback": [
      "\u001b[0;31m---------------------------------------------------------------------------\u001b[0m",
      "\u001b[0;31mFileNotFoundError\u001b[0m                         Traceback (most recent call last)",
      "Cell \u001b[0;32mIn[13], line 6\u001b[0m\n\u001b[1;32m      3\u001b[0m labels_folder \u001b[38;5;241m=\u001b[39m \u001b[38;5;124m\"\u001b[39m\u001b[38;5;124mdata/sample_labels_50\u001b[39m\u001b[38;5;124m\"\u001b[39m\n\u001b[1;32m      5\u001b[0m \u001b[38;5;66;03m# Create dataset instance\u001b[39;00m\n\u001b[0;32m----> 6\u001b[0m train_dataset \u001b[38;5;241m=\u001b[39m \u001b[43mLiDARPointCloudDataset\u001b[49m\u001b[43m(\u001b[49m\u001b[43mpoints_folder\u001b[49m\u001b[43m,\u001b[49m\u001b[43m \u001b[49m\u001b[43mlabels_folder\u001b[49m\u001b[43m,\u001b[49m\u001b[43m \u001b[49m\u001b[43mmax_points\u001b[49m\u001b[38;5;241;43m=\u001b[39;49m\u001b[38;5;241;43m128\u001b[39;49m\u001b[43m,\u001b[49m\u001b[43m \u001b[49m\u001b[43mmode\u001b[49m\u001b[38;5;241;43m=\u001b[39;49m\u001b[38;5;124;43m\"\u001b[39;49m\u001b[38;5;124;43mtrain\u001b[39;49m\u001b[38;5;124;43m\"\u001b[39;49m\u001b[43m)\u001b[49m\n\u001b[1;32m      8\u001b[0m \u001b[38;5;66;03m# Create DataLoader\u001b[39;00m\n\u001b[1;32m      9\u001b[0m \u001b[38;5;66;03m# train_loader = DataLoader(train_dataset, batch_size=4, shuffle=True, collate_fn=collate_fn)\u001b[39;00m\n\u001b[1;32m     11\u001b[0m train_loader \u001b[38;5;241m=\u001b[39m DataLoader(\n\u001b[1;32m     12\u001b[0m     train_dataset, batch_size\u001b[38;5;241m=\u001b[39m\u001b[38;5;241m4\u001b[39m, shuffle\u001b[38;5;241m=\u001b[39m\u001b[38;5;28;01mTrue\u001b[39;00m,\n\u001b[1;32m     13\u001b[0m     num_workers\u001b[38;5;241m=\u001b[39m\u001b[38;5;241m4\u001b[39m,  \u001b[38;5;66;03m# Use multiple CPU cores for faster loading\u001b[39;00m\n\u001b[1;32m     14\u001b[0m     pin_memory\u001b[38;5;241m=\u001b[39m\u001b[38;5;28;01mTrue\u001b[39;00m,  \u001b[38;5;66;03m# Optimizes GPU transfers\u001b[39;00m\n\u001b[1;32m     15\u001b[0m     collate_fn\u001b[38;5;241m=\u001b[39mcollate_fn\n\u001b[1;32m     16\u001b[0m )\n",
      "Cell \u001b[0;32mIn[9], line 16\u001b[0m, in \u001b[0;36mLiDARPointCloudDataset.__init__\u001b[0;34m(self, point_folder, label_folder, max_points, mode)\u001b[0m\n\u001b[1;32m     13\u001b[0m \u001b[38;5;28mself\u001b[39m\u001b[38;5;241m.\u001b[39mmode \u001b[38;5;241m=\u001b[39m mode  \u001b[38;5;66;03m# 'train' or 'test'\u001b[39;00m\n\u001b[1;32m     15\u001b[0m \u001b[38;5;66;03m# List all available point files\u001b[39;00m\n\u001b[0;32m---> 16\u001b[0m \u001b[38;5;28mself\u001b[39m\u001b[38;5;241m.\u001b[39mpoint_files \u001b[38;5;241m=\u001b[39m \u001b[38;5;28msorted\u001b[39m([f \u001b[38;5;28;01mfor\u001b[39;00m f \u001b[38;5;129;01min\u001b[39;00m \u001b[43mos\u001b[49m\u001b[38;5;241;43m.\u001b[39;49m\u001b[43mlistdir\u001b[49m\u001b[43m(\u001b[49m\u001b[43mpoint_folder\u001b[49m\u001b[43m)\u001b[49m \u001b[38;5;28;01mif\u001b[39;00m f\u001b[38;5;241m.\u001b[39mendswith(\u001b[38;5;124m\"\u001b[39m\u001b[38;5;124m.txt\u001b[39m\u001b[38;5;124m\"\u001b[39m)])\n\u001b[1;32m     17\u001b[0m \u001b[38;5;28mself\u001b[39m\u001b[38;5;241m.\u001b[39mlabel_files \u001b[38;5;241m=\u001b[39m \u001b[38;5;28msorted\u001b[39m([f \u001b[38;5;28;01mfor\u001b[39;00m f \u001b[38;5;129;01min\u001b[39;00m os\u001b[38;5;241m.\u001b[39mlistdir(label_folder) \u001b[38;5;28;01mif\u001b[39;00m f\u001b[38;5;241m.\u001b[39mendswith(\u001b[38;5;124m\"\u001b[39m\u001b[38;5;124m.txt\u001b[39m\u001b[38;5;124m\"\u001b[39m)])\n\u001b[1;32m     19\u001b[0m \u001b[38;5;66;03m# Ensure matching point and label files\u001b[39;00m\n",
      "\u001b[0;31mFileNotFoundError\u001b[0m: [Errno 2] No such file or directory: 'data/sample_points_50'"
     ]
    }
   ],
   "source": [
    "# Define dataset paths\n",
    "points_folder = \"data/sample_points_50\"\n",
    "labels_folder = \"data/sample_labels_50\"\n",
    "\n",
    "# Create dataset instance\n",
    "train_dataset = LiDARPointCloudDataset(points_folder, labels_folder, max_points=128, mode=\"train\")\n",
    "\n",
    "# Create DataLoader\n",
    "# train_loader = DataLoader(train_dataset, batch_size=4, shuffle=True, collate_fn=collate_fn)\n",
    "\n",
    "train_loader = DataLoader(\n",
    "    train_dataset, batch_size=4, shuffle=True,\n",
    "    num_workers=4,  # Use multiple CPU cores for faster loading\n",
    "    pin_memory=True,  # Optimizes GPU transfers\n",
    "    collate_fn=collate_fn\n",
    ")\n",
    "\n",
    "# Check batch\n",
    "for points, labels in train_loader:\n",
    "    print(\"Batch Point Cloud Shape:\", points.shape)  # Expected: (batch_size, max_points, 3)\n",
    "    print(\"Batch Labels Shape:\", labels.shape)  # Expected: (batch_size, max_points)\n",
    "    break"
   ]
  },
  {
   "cell_type": "code",
   "execution_count": 11,
   "metadata": {},
   "outputs": [],
   "source": [
    "def visualize_lidar_with_plotly(points, labels, scatter_size=1):\n",
    "    \"\"\"\n",
    "    Visualizes a LiDAR point cloud with color-coded segmentation labels using Plotly.\n",
    "\n",
    "    Args:\n",
    "        points (numpy array): Shape (N, 3) - XYZ coordinates.\n",
    "        labels (numpy array): Shape (N,) - Segmentation labels.\n",
    "    \"\"\"\n",
    "    # Convert points and labels into a Pandas DataFrame\n",
    "    df = pd.DataFrame({\n",
    "        \"X\": points[:, 0],\n",
    "        \"Y\": points[:, 1],\n",
    "        \"Z\": points[:, 2],\n",
    "        \"Label\": labels\n",
    "    })\n",
    "\n",
    "    # Create 3D scatter plot\n",
    "    fig = px.scatter_3d(\n",
    "        df, x=\"X\", y=\"Y\", z=\"Z\",\n",
    "        color=df[\"Label\"].astype(str),  # Color by label\n",
    "        title=\"3D LiDAR Point Cloud Segmentation\",\n",
    "        labels={\"Label\": \"Segmentation Label\"},\n",
    "        opacity=0.7\n",
    "    )\n",
    "\n",
    "    # Update marker size\n",
    "    fig.update_traces(marker=dict(size=scatter_size))\n",
    "\n",
    "    # Hide XYZ planes, grids, and background\n",
    "    fig.update_layout(\n",
    "        scene=dict(\n",
    "            xaxis=dict(visible=False),  # Hide X-axis\n",
    "            yaxis=dict(visible=False),  # Hide Y-axis\n",
    "            zaxis=dict(visible=False),  # Hide Z-axis\n",
    "            bgcolor=\"rgba(0,0,0,0)\"  # Transparent background\n",
    "        ),\n",
    "        margin=dict(l=0, r=0, b=0, t=40),  # Reduce margin for better display\n",
    "        legend=dict(\n",
    "            title=\"Segmentation Label\",  # Ensure correct legend title\n",
    "            x=0.02,  # Move legend closer to the points\n",
    "            y=0.98\n",
    "        )\n",
    "    )\n",
    "\n",
    "    # Show figure\n",
    "    fig.show()"
   ]
  },
  {
   "cell_type": "code",
   "execution_count": 12,
   "metadata": {},
   "outputs": [
    {
     "ename": "NameError",
     "evalue": "name 'train_loader' is not defined",
     "output_type": "error",
     "traceback": [
      "\u001b[0;31m---------------------------------------------------------------------------\u001b[0m",
      "\u001b[0;31mNameError\u001b[0m                                 Traceback (most recent call last)",
      "Cell \u001b[0;32mIn[12], line 2\u001b[0m\n\u001b[1;32m      1\u001b[0m \u001b[38;5;66;03m# Get a batch from DataLoader\u001b[39;00m\n\u001b[0;32m----> 2\u001b[0m \u001b[38;5;28;01mfor\u001b[39;00m points, labels \u001b[38;5;129;01min\u001b[39;00m \u001b[43mtrain_loader\u001b[49m:\n\u001b[1;32m      3\u001b[0m     points_np \u001b[38;5;241m=\u001b[39m points[\u001b[38;5;241m0\u001b[39m]\u001b[38;5;241m.\u001b[39mcpu()\u001b[38;5;241m.\u001b[39mnumpy()  \u001b[38;5;66;03m# Convert first point cloud in batch to NumPy\u001b[39;00m\n\u001b[1;32m      4\u001b[0m     labels_np \u001b[38;5;241m=\u001b[39m labels[\u001b[38;5;241m0\u001b[39m]\u001b[38;5;241m.\u001b[39mcpu()\u001b[38;5;241m.\u001b[39mnumpy()  \u001b[38;5;66;03m# Convert first label set in batch to NumPy\u001b[39;00m\n",
      "\u001b[0;31mNameError\u001b[0m: name 'train_loader' is not defined"
     ]
    }
   ],
   "source": [
    "# Get a batch from DataLoader\n",
    "for points, labels in train_loader:\n",
    "    points_np = points[0].cpu().numpy()  # Convert first point cloud in batch to NumPy\n",
    "    labels_np = labels[0].cpu().numpy()  # Convert first label set in batch to NumPy\n",
    "    visualize_lidar_with_plotly(points_np, labels_np, scatter_size=4)  # Show visualization\n",
    "    break  # Only visualize one batch"
   ]
  },
  {
   "cell_type": "code",
   "execution_count": 27,
   "metadata": {},
   "outputs": [
    {
     "name": "stdout",
     "output_type": "stream",
     "text": [
      "Using device: cuda\n"
     ]
    },
    {
     "name": "stderr",
     "output_type": "stream",
     "text": [
      "Epoch 1/10: 100%|██████████| 13/13 [04:39<00:00, 21.48s/it, loss=12.9]\n"
     ]
    },
    {
     "name": "stdout",
     "output_type": "stream",
     "text": [
      "Epoch 1/10, Loss: 7.8373\n"
     ]
    },
    {
     "name": "stderr",
     "output_type": "stream",
     "text": [
      "Epoch 2/10: 100%|██████████| 13/13 [04:54<00:00, 22.68s/it, loss=7.56] \n"
     ]
    },
    {
     "name": "stdout",
     "output_type": "stream",
     "text": [
      "Epoch 2/10, Loss: 2.7162\n"
     ]
    },
    {
     "name": "stderr",
     "output_type": "stream",
     "text": [
      "Epoch 3/10: 100%|██████████| 13/13 [04:50<00:00, 22.37s/it, loss=0.811]\n"
     ]
    },
    {
     "name": "stdout",
     "output_type": "stream",
     "text": [
      "Epoch 3/10, Loss: 1.2486\n"
     ]
    },
    {
     "name": "stderr",
     "output_type": "stream",
     "text": [
      "Epoch 4/10: 100%|██████████| 13/13 [05:18<00:00, 24.54s/it, loss=1.39] \n"
     ]
    },
    {
     "name": "stdout",
     "output_type": "stream",
     "text": [
      "Epoch 4/10, Loss: 0.7412\n"
     ]
    },
    {
     "name": "stderr",
     "output_type": "stream",
     "text": [
      "Epoch 5/10: 100%|██████████| 13/13 [06:01<00:00, 27.80s/it, loss=1.92] \n"
     ]
    },
    {
     "name": "stdout",
     "output_type": "stream",
     "text": [
      "Epoch 5/10, Loss: 0.5260\n"
     ]
    },
    {
     "name": "stderr",
     "output_type": "stream",
     "text": [
      "Epoch 6/10: 100%|██████████| 13/13 [06:49<00:00, 31.47s/it, loss=0.418]\n"
     ]
    },
    {
     "name": "stdout",
     "output_type": "stream",
     "text": [
      "Epoch 6/10, Loss: 0.2855\n"
     ]
    },
    {
     "name": "stderr",
     "output_type": "stream",
     "text": [
      "Epoch 7/10: 100%|██████████| 13/13 [06:46<00:00, 31.24s/it, loss=1.7]  \n"
     ]
    },
    {
     "name": "stdout",
     "output_type": "stream",
     "text": [
      "Epoch 7/10, Loss: 0.3450\n"
     ]
    },
    {
     "name": "stderr",
     "output_type": "stream",
     "text": [
      "Epoch 8/10: 100%|██████████| 13/13 [06:13<00:00, 28.74s/it, loss=0.959]\n"
     ]
    },
    {
     "name": "stdout",
     "output_type": "stream",
     "text": [
      "Epoch 8/10, Loss: 0.3509\n"
     ]
    },
    {
     "name": "stderr",
     "output_type": "stream",
     "text": [
      "Epoch 9/10: 100%|██████████| 13/13 [06:32<00:00, 30.16s/it, loss=0.213]\n"
     ]
    },
    {
     "name": "stdout",
     "output_type": "stream",
     "text": [
      "Epoch 9/10, Loss: 0.2298\n"
     ]
    },
    {
     "name": "stderr",
     "output_type": "stream",
     "text": [
      "Epoch 10/10: 100%|██████████| 13/13 [07:06<00:00, 32.84s/it, loss=0.267]\n"
     ]
    },
    {
     "name": "stdout",
     "output_type": "stream",
     "text": [
      "Epoch 10/10, Loss: 0.1926\n"
     ]
    },
    {
     "data": {
      "image/png": "[encoded data removed]",
      "text/plain": [
       "<Figure size 800x500 with 1 Axes>"
      ]
     },
     "metadata": {},
     "output_type": "display_data"
    }
   ],
   "source": [
    "# Initialize model & optimizer\n",
    "device = torch.device(\"cuda\" if torch.cuda.is_available() else \"mps\")\n",
    "print(\"Using device:\", device)\n",
    "model = PointUNet(input_dim=3, emb_dim=128, output_dim=64).to(device)\n",
    "optimizer = optim.Adam(model.parameters(), lr=0.001, weight_decay=1e-4)\n",
    "\n",
    "# Train and visualize loss\n",
    "loss_history = train_model(model, train_loader, optimizer, num_epochs=10, device=device, save_model=False)\n",
    "\n",
    "# Plot loss curve\n",
    "plt.figure(figsize=(8, 5))\n",
    "plt.plot(range(1, len(loss_history) + 1), loss_history, marker='o', linestyle='-')\n",
    "plt.xlabel(\"Epoch\")\n",
    "plt.ylabel(\"Loss\")\n",
    "plt.title(\"Training Loss Over Epochs\")\n",
    "plt.grid()\n",
    "plt.show()"
   ]
  },
  {
   "cell_type": "code",
   "execution_count": 52,
   "metadata": {},
   "outputs": [],
   "source": [
    "def inference_on_point_cloud(model, point_cloud, device='cuda', eps=0.5, min_samples=3, scatter_size=3):\n",
    "    \"\"\"\n",
    "    Runs inference on a single point cloud and visualizes predictions in real-time.\n",
    "    \n",
    "    Args:\n",
    "        model: Trained Point-U-Net model.\n",
    "        point_cloud: Input point cloud (numpy array of shape (N, 3)).\n",
    "        device: 'cuda' or 'cpu' for inference.\n",
    "        eps: DBSCAN clustering epsilon (distance threshold).\n",
    "        min_samples: Minimum points in a cluster for DBSCAN.\n",
    "        scatter_size: Size of scatter points in visualization.\n",
    "    \"\"\"\n",
    "    model.eval()\n",
    "    point_cloud_tensor = torch.tensor(point_cloud, dtype=torch.float32).unsqueeze(0).to(device)\n",
    "\n",
    "    with torch.no_grad():\n",
    "        embeddings = model(point_cloud_tensor).squeeze(0).cpu().numpy()  # Run inference\n",
    "\n",
    "    # Normalize embeddings before DBSCAN\n",
    "    # embeddings = StandardScaler().fit_transform(embeddings)\n",
    "\n",
    "    # Apply DBSCAN clustering\n",
    "    clustering = DBSCAN(eps=eps, min_samples=min_samples).fit(embeddings)\n",
    "    predicted_labels = clustering.labels_\n",
    "\n",
    "    # Prepare data for visualization\n",
    "    df = pd.DataFrame({\n",
    "        \"X\": point_cloud[:, 0],\n",
    "        \"Y\": point_cloud[:, 1],\n",
    "        \"Z\": point_cloud[:, 2],\n",
    "        \"Predicted Instance\": predicted_labels.astype(str)  # Convert labels to string for coloring\n",
    "    })\n",
    "\n",
    "    # Create 3D scatter plot\n",
    "    fig = px.scatter_3d(\n",
    "        df, x=\"X\", y=\"Y\", z=\"Z\",\n",
    "        color=\"Predicted Instance\",\n",
    "        title=\"Real-Time Roof Segmentation\",\n",
    "        opacity=1.0\n",
    "    )\n",
    "\n",
    "    # Update marker size for better visibility\n",
    "    fig.update_traces(marker=dict(size=scatter_size))\n",
    "\n",
    "    # Hide XYZ planes, grids, and background\n",
    "    fig.update_layout(\n",
    "        scene=dict(\n",
    "            xaxis=dict(visible=False),\n",
    "            yaxis=dict(visible=False),\n",
    "            zaxis=dict(visible=False),\n",
    "            bgcolor=\"rgba(0,0,0,0)\"\n",
    "        ),\n",
    "        margin=dict(l=0, r=0, b=0, t=40),\n",
    "        legend=dict(\n",
    "            title=\"Segmentation Label\",\n",
    "            x=0.2,  # Moves legend closer to the points\n",
    "            y=0.90,\n",
    "            font=dict(size=12)  # Adjust legend font size\n",
    "        )\n",
    "    )\n",
    "\n",
    "    fig.show()"
   ]
  },
  {
   "cell_type": "code",
   "execution_count": 18,
   "metadata": {},
   "outputs": [],
   "source": [
    "def load_clean_point_cloud(file_path, max_points=128):\n",
    "    \"\"\"\n",
    "    Reads a point cloud file, removes non-numeric lines, and ensures exactly 128 points.\n",
    "    \n",
    "    Args:\n",
    "        file_path (str): Path to the .txt file containing point cloud data.\n",
    "        max_points (int): Fixed number of points per cloud (default: 128).\n",
    "    \n",
    "    Returns:\n",
    "        numpy array: (128, 3) shape point cloud with valid XYZ values.\n",
    "    \"\"\"\n",
    "    valid_points = []\n",
    "\n",
    "    with open(file_path, \"r\") as file:\n",
    "        for line in file:\n",
    "            try:\n",
    "                # Convert to float, handling both spaces & commas as delimiters\n",
    "                values = np.array(line.strip().replace(',', ' ').split(), dtype=np.float64)\n",
    "                if len(values) == 3:  # Ensure it's an (X, Y, Z) point\n",
    "                    valid_points.append(values)\n",
    "            except ValueError:\n",
    "                continue  # Skip invalid lines\n",
    "\n",
    "    valid_points = np.array(valid_points)\n",
    "\n",
    "    num_points = valid_points.shape[0]\n",
    "\n",
    "    if num_points > max_points:\n",
    "        # Subsample to 128 points randomly\n",
    "        indices = np.random.choice(num_points, max_points, replace=False)\n",
    "        valid_points = valid_points[indices]\n",
    "    elif num_points < max_points:\n",
    "        # Pad with zeros to reach 128 points\n",
    "        pad_size = max_points - num_points\n",
    "        pad_points = np.zeros((pad_size, 3), dtype=np.float64)\n",
    "        valid_points = np.vstack((valid_points, pad_points))\n",
    "\n",
    "    return valid_points"
   ]
  },
  {
   "cell_type": "code",
   "execution_count": 29,
   "metadata": {},
   "outputs": [
    {
     "name": "stdout",
     "output_type": "stream",
     "text": [
      "✅ Model loaded successfully!\n"
     ]
    }
   ],
   "source": [
    "# Initialize model\n",
    "device = torch.device(\"cuda\" if torch.cuda.is_available() else \"mps\")\n",
    "model = PointUNet(input_dim=3, emb_dim=128, output_dim=64).to(device)\n",
    "\n",
    "# Load trained weights\n",
    "model.load_state_dict(torch.load(\"model/pointnet_unet_checkpoint.pth\", map_location=device))\n",
    "model.eval()  # Set model to evaluation mode\n",
    "print(\"✅ Model loaded successfully!\")"
   ]
  },
  {
   "cell_type": "code",
   "execution_count": 53,
   "metadata": {},
   "outputs": [
    {
     "data": {
      "application/vnd.plotly.v1+json": {
       "config": {
        "plotlyServerURL": "https://plot.ly"
       },
       "data": [
        {
         "hovertemplate": "Predicted Instance=0<br>X=%{x}<br>Y=%{y}<br>Z=%{z}<extra></extra>",
         "legendgroup": "0",
         "marker": {
          "color": "#636efa",
          "opacity": 1,
          "size": 3,
          "symbol": "circle"
         },
         "mode": "markers",
         "name": "0",
         "scene": "scene",
         "showlegend": true,
         "type": "scatter3d",
         "x": [
          -0.27815,
          0.87185,
          1.53185,
          0.03185,
          -0.13815,
          -0.50815,
          0.01185,
          0.56185,
          0.62185,
          0.20185
         ],
         "y": [
          -0.7899,
          -0.7599,
          -0.6899,
          -0.4099,
          -0.5399,
          -1.0699,
          -0.2799,
          -0.8099,
          -0.9799,
          -0.6099
         ],
         "z": [
          0.99201,
          1.03201,
          0.80201,
          1.06201,
          0.99201,
          0.74201,
          1.14201,
          0.91201,
          1.09201,
          1.10201
         ]
        },
        {
         "hovertemplate": "Predicted Instance=1<br>X=%{x}<br>Y=%{y}<br>Z=%{z}<extra></extra>",
         "legendgroup": "1",
         "marker": {
          "color": "#EF553B",
          "opacity": 1,
          "size": 3,
          "symbol": "circle"
         },
         "mode": "markers",
         "name": "1",
         "scene": "scene",
         "showlegend": true,
         "type": "scatter3d",
         "x": [
          1.39185,
          1.28185,
          -3.42815,
          0.51185,
          -1.23815,
          0.78185,
          -0.28815,
          1.13185,
          -0.09815,
          -1.01815,
          -2.40815,
          -0.30815,
          0.54185,
          -0.59815,
          -2.16815,
          -3.63815,
          -2.75815,
          0.08185,
          0.03185,
          -3.19815,
          -0.75815,
          -0.32815,
          -0.88815,
          -2.01815,
          0.86185,
          -2.01815,
          0.12185,
          -1.24815,
          0.44185,
          2.12185,
          -0.46815,
          0.50185,
          -1.61815,
          -1.17815,
          -1.04815,
          -2.70815,
          -1.75815,
          -2.95815,
          -1.15815,
          -1.37815,
          -0.28815,
          0.66185,
          -1.53815,
          -1.68815,
          0.68185,
          0.18185,
          -1.05815,
          -0.08815,
          -1.18815,
          -1.41815,
          -2.13815,
          0.24185
         ],
         "y": [
          2.6901,
          3.5501,
          0.8801,
          2.8901,
          2.2601,
          1.7101,
          0.4701,
          2.8201,
          1.2501,
          -2.0499,
          -0.0099,
          1.9101,
          3.0701,
          1.0801,
          -0.7499,
          0.7201,
          -1.3699,
          0.8201,
          1.5401,
          -0.0299,
          2.2201,
          0.0101,
          0.6701,
          -0.1099,
          3.1201,
          1.9601,
          1.6101,
          0.6501,
          3.4101,
          4.0601,
          1.8901,
          1.2101,
          -0.9799,
          0.9101,
          -0.9499,
          -0.2299,
          -0.8999,
          0.1201,
          -1.4499,
          1.8801,
          1.8001,
          2.6801,
          -0.2099,
          0.9501,
          3.1201,
          1.2101,
          1.4701,
          0.1701,
          2.5001,
          0.6001,
          0.7701,
          0.8801
         ],
         "z": [
          0.21201,
          -0.08799,
          -0.12799,
          -0.01799,
          0.05201,
          0.47201,
          0.93201,
          0.05201,
          0.36201,
          0.44201,
          0.10201,
          0.24201,
          -0.10799,
          0.33201,
          0.05201,
          -0.23799,
          -0.23799,
          0.80201,
          0.41201,
          -0.26799,
          0.09201,
          0.91201,
          0.63201,
          0.34201,
          -0.11799,
          0.05201,
          0.45201,
          0.67201,
          -0.48799,
          -0.51799,
          0.32201,
          0.58201,
          0.35201,
          0.66201,
          0.58201,
          -0.09799,
          0.17201,
          -0.01799,
          0.36201,
          -0.03799,
          0.23201,
          -0.16799,
          0.45201,
          0.44201,
          -0.13799,
          0.54201,
          0.12201,
          0.96201,
          -0.19799,
          0.54201,
          0.39201,
          0.59201
         ]
        },
        {
         "hovertemplate": "Predicted Instance=-1<br>X=%{x}<br>Y=%{y}<br>Z=%{z}<extra></extra>",
         "legendgroup": "-1",
         "marker": {
          "color": "#00cc96",
          "opacity": 1,
          "size": 3,
          "symbol": "circle"
         },
         "mode": "markers",
         "name": "-1",
         "scene": "scene",
         "showlegend": true,
         "type": "scatter3d",
         "x": [
          0.35185,
          -0.59815,
          -3.32815,
          -2.77815,
          -2.42815,
          -0.18815,
          -3.30815,
          0.25185,
          0.14185,
          -1.43815,
          -1.78815,
          -3.05815,
          -2.41815
         ],
         "y": [
          3.2701,
          -2.8799,
          0.3401,
          -1.7899,
          1.9101,
          -2.4399,
          -0.1899,
          -1.5599,
          3.3001,
          2.5601,
          -4.0299,
          0.0001,
          -2.1799
         ],
         "z": [
          -2.55799,
          0.27201,
          -2.73799,
          -0.87799,
          -2.72799,
          0.36201,
          -2.83799,
          0.70201,
          -2.58799,
          -1.58799,
          -2.60799,
          -2.61799,
          -0.11799
         ]
        },
        {
         "hovertemplate": "Predicted Instance=2<br>X=%{x}<br>Y=%{y}<br>Z=%{z}<extra></extra>",
         "legendgroup": "2",
         "marker": {
          "color": "#ab63fa",
          "opacity": 1,
          "size": 3,
          "symbol": "circle"
         },
         "mode": "markers",
         "name": "2",
         "scene": "scene",
         "showlegend": true,
         "type": "scatter3d",
         "x": [
          1.01185,
          1.60185,
          1.22185,
          3.10185,
          2.61185,
          1.42185,
          1.06185,
          0.99185,
          1.76185,
          1.27185,
          2.72185,
          2.11185
         ],
         "y": [
          -3.0699,
          -1.4299,
          -3.0899,
          -2.4599,
          -2.2099,
          -2.9899,
          -2.6599,
          -2.4999,
          -2.7299,
          -1.6199,
          -2.4599,
          -1.8299
         ],
         "z": [
          -0.16799,
          0.46201,
          -0.19799,
          -0.24799,
          -0.08799,
          -0.14799,
          0.15201,
          0.18201,
          -0.10799,
          0.54201,
          -0.13799,
          0.17201
         ]
        },
        {
         "hovertemplate": "Predicted Instance=3<br>X=%{x}<br>Y=%{y}<br>Z=%{z}<extra></extra>",
         "legendgroup": "3",
         "marker": {
          "color": "#FFA15A",
          "opacity": 1,
          "size": 3,
          "symbol": "circle"
         },
         "mode": "markers",
         "name": "3",
         "scene": "scene",
         "showlegend": true,
         "type": "scatter3d",
         "x": [
          2.78185,
          3.09185,
          3.42185,
          2.91185,
          2.77185,
          2.07185,
          3.01185,
          0.95185,
          2.75185,
          2.64185,
          4.01185,
          1.99185,
          2.56185,
          2.45185,
          1.13185,
          3.57185,
          1.79185,
          3.15185,
          3.09185,
          3.13185,
          2.16185,
          2.44185,
          1.49185,
          1.99185,
          2.08185,
          3.15185,
          2.91185
         ],
         "y": [
          1.6201,
          1.2301,
          -1.0199,
          -0.4299,
          2.0801,
          2.1401,
          -0.6399,
          0.9101,
          0.2801,
          -1.3699,
          -1.3799,
          0.1301,
          1.6201,
          -0.0799,
          0.6901,
          -1.3299,
          1.6601,
          0.5601,
          0.6001,
          -1.1899,
          0.5001,
          0.6701,
          0.5201,
          0.8101,
          2.4501,
          0.3101,
          0.0201
         ],
         "z": [
          -0.18799,
          -0.11799,
          0.11201,
          0.17201,
          -0.25799,
          0.15201,
          0.17201,
          0.84201,
          0.13201,
          0.27201,
          -0.07799,
          0.52201,
          0.03201,
          0.31201,
          0.69201,
          0.02201,
          0.20201,
          -0.13799,
          -0.13799,
          0.11201,
          0.24201,
          0.18201,
          0.53201,
          0.23201,
          0.13201,
          -0.11799,
          0.05201
         ]
        },
        {
         "hovertemplate": "Predicted Instance=4<br>X=%{x}<br>Y=%{y}<br>Z=%{z}<extra></extra>",
         "legendgroup": "4",
         "marker": {
          "color": "#19d3f3",
          "opacity": 1,
          "size": 3,
          "symbol": "circle"
         },
         "mode": "markers",
         "name": "4",
         "scene": "scene",
         "showlegend": true,
         "type": "scatter3d",
         "x": [
          -1.52815,
          -1.96815,
          -0.73815,
          -1.34815,
          -1.14815,
          -1.82815,
          -0.87815,
          -1.04815,
          -1.62815,
          -1.68815
         ],
         "y": [
          -3.1699,
          -2.8799,
          -3.6099,
          -2.5199,
          -3.5899,
          -3.6499,
          -3.8599,
          -3.5299,
          -3.2499,
          -2.7899
         ],
         "z": [
          -0.03799,
          -0.26799,
          -0.02799,
          0.18201,
          -0.04799,
          -0.08799,
          -0.13799,
          -0.10799,
          -0.16799,
          0.05201
         ]
        },
        {
         "hovertemplate": "Predicted Instance=5<br>X=%{x}<br>Y=%{y}<br>Z=%{z}<extra></extra>",
         "legendgroup": "5",
         "marker": {
          "color": "#FF6692",
          "opacity": 1,
          "size": 3,
          "symbol": "circle"
         },
         "mode": "markers",
         "name": "5",
         "scene": "scene",
         "showlegend": true,
         "type": "scatter3d",
         "x": [
          -3.20815,
          -3.04815,
          -2.90815,
          -3.39815
         ],
         "y": [
          1.6601,
          1.8801,
          1.6201,
          1.9401
         ],
         "z": [
          -0.24799,
          -0.17799,
          0.01201,
          -0.30799
         ]
        }
       ],
       "layout": {
        "legend": {
         "font": {
          "size": 12
         },
         "title": {
          "text": "Segmentation Label"
         },
         "tracegroupgap": 0,
         "x": 0.2,
         "y": 0.9
        },
        "margin": {
         "b": 0,
         "l": 0,
         "r": 0,
         "t": 40
        },
        "scene": {
         "bgcolor": "rgba(0,0,0,0)",
         "domain": {
          "x": [
           0,
           1
          ],
          "y": [
           0,
           1
          ]
         },
         "xaxis": {
          "title": {
           "text": "X"
          },
          "visible": false
         },
         "yaxis": {
          "title": {
           "text": "Y"
          },
          "visible": false
         },
         "zaxis": {
          "title": {
           "text": "Z"
          },
          "visible": false
         }
        },
        "template": {
         "data": {
          "bar": [
           {
            "error_x": {
             "color": "#2a3f5f"
            },
            "error_y": {
             "color": "#2a3f5f"
            },
            "marker": {
             "line": {
              "color": "#E5ECF6",
              "width": 0.5
             },
             "pattern": {
              "fillmode": "overlay",
              "size": 10,
              "solidity": 0.2
             }
            },
            "type": "bar"
           }
          ],
          "barpolar": [
           {
            "marker": {
             "line": {
              "color": "#E5ECF6",
              "width": 0.5
             },
             "pattern": {
              "fillmode": "overlay",
              "size": 10,
              "solidity": 0.2
             }
            },
            "type": "barpolar"
           }
          ],
          "carpet": [
           {
            "aaxis": {
             "endlinecolor": "#2a3f5f",
             "gridcolor": "white",
             "linecolor": "white",
             "minorgridcolor": "white",
             "startlinecolor": "#2a3f5f"
            },
            "baxis": {
             "endlinecolor": "#2a3f5f",
             "gridcolor": "white",
             "linecolor": "white",
             "minorgridcolor": "white",
             "startlinecolor": "#2a3f5f"
            },
            "type": "carpet"
           }
          ],
          "choropleth": [
           {
            "colorbar": {
             "outlinewidth": 0,
             "ticks": ""
            },
            "type": "choropleth"
           }
          ],
          "contour": [
           {
            "colorbar": {
             "outlinewidth": 0,
             "ticks": ""
            },
            "colorscale": [
             [
              0,
              "#0d0887"
             ],
             [
              0.1111111111111111,
              "#46039f"
             ],
             [
              0.2222222222222222,
              "#7201a8"
             ],
             [
              0.3333333333333333,
              "#9c179e"
             ],
             [
              0.4444444444444444,
              "#bd3786"
             ],
             [
              0.5555555555555556,
              "#d8576b"
             ],
             [
              0.6666666666666666,
              "#ed7953"
             ],
             [
              0.7777777777777778,
              "#fb9f3a"
             ],
             [
              0.8888888888888888,
              "#fdca26"
             ],
             [
              1,
              "#f0f921"
             ]
            ],
            "type": "contour"
           }
          ],
          "contourcarpet": [
           {
            "colorbar": {
             "outlinewidth": 0,
             "ticks": ""
            },
            "type": "contourcarpet"
           }
          ],
          "heatmap": [
           {
            "colorbar": {
             "outlinewidth": 0,
             "ticks": ""
            },
            "colorscale": [
             [
              0,
              "#0d0887"
             ],
             [
              0.1111111111111111,
              "#46039f"
             ],
             [
              0.2222222222222222,
              "#7201a8"
             ],
             [
              0.3333333333333333,
              "#9c179e"
             ],
             [
              0.4444444444444444,
              "#bd3786"
             ],
             [
              0.5555555555555556,
              "#d8576b"
             ],
             [
              0.6666666666666666,
              "#ed7953"
             ],
             [
              0.7777777777777778,
              "#fb9f3a"
             ],
             [
              0.8888888888888888,
              "#fdca26"
             ],
             [
              1,
              "#f0f921"
             ]
            ],
            "type": "heatmap"
           }
          ],
          "heatmapgl": [
           {
            "colorbar": {
             "outlinewidth": 0,
             "ticks": ""
            },
            "colorscale": [
             [
              0,
              "#0d0887"
             ],
             [
              0.1111111111111111,
              "#46039f"
             ],
             [
              0.2222222222222222,
              "#7201a8"
             ],
             [
              0.3333333333333333,
              "#9c179e"
             ],
             [
              0.4444444444444444,
              "#bd3786"
             ],
             [
              0.5555555555555556,
              "#d8576b"
             ],
             [
              0.6666666666666666,
              "#ed7953"
             ],
             [
              0.7777777777777778,
              "#fb9f3a"
             ],
             [
              0.8888888888888888,
              "#fdca26"
             ],
             [
              1,
              "#f0f921"
             ]
            ],
            "type": "heatmapgl"
           }
          ],
          "histogram": [
           {
            "marker": {
             "pattern": {
              "fillmode": "overlay",
              "size": 10,
              "solidity": 0.2
             }
            },
            "type": "histogram"
           }
          ],
          "histogram2d": [
           {
            "colorbar": {
             "outlinewidth": 0,
             "ticks": ""
            },
            "colorscale": [
             [
              0,
              "#0d0887"
             ],
             [
              0.1111111111111111,
              "#46039f"
             ],
             [
              0.2222222222222222,
              "#7201a8"
             ],
             [
              0.3333333333333333,
              "#9c179e"
             ],
             [
              0.4444444444444444,
              "#bd3786"
             ],
             [
              0.5555555555555556,
              "#d8576b"
             ],
             [
              0.6666666666666666,
              "#ed7953"
             ],
             [
              0.7777777777777778,
              "#fb9f3a"
             ],
             [
              0.8888888888888888,
              "#fdca26"
             ],
             [
              1,
              "#f0f921"
             ]
            ],
            "type": "histogram2d"
           }
          ],
          "histogram2dcontour": [
           {
            "colorbar": {
             "outlinewidth": 0,
             "ticks": ""
            },
            "colorscale": [
             [
              0,
              "#0d0887"
             ],
             [
              0.1111111111111111,
              "#46039f"
             ],
             [
              0.2222222222222222,
              "#7201a8"
             ],
             [
              0.3333333333333333,
              "#9c179e"
             ],
             [
              0.4444444444444444,
              "#bd3786"
             ],
             [
              0.5555555555555556,
              "#d8576b"
             ],
             [
              0.6666666666666666,
              "#ed7953"
             ],
             [
              0.7777777777777778,
              "#fb9f3a"
             ],
             [
              0.8888888888888888,
              "#fdca26"
             ],
             [
              1,
              "#f0f921"
             ]
            ],
            "type": "histogram2dcontour"
           }
          ],
          "mesh3d": [
           {
            "colorbar": {
             "outlinewidth": 0,
             "ticks": ""
            },
            "type": "mesh3d"
           }
          ],
          "parcoords": [
           {
            "line": {
             "colorbar": {
              "outlinewidth": 0,
              "ticks": ""
             }
            },
            "type": "parcoords"
           }
          ],
          "pie": [
           {
            "automargin": true,
            "type": "pie"
           }
          ],
          "scatter": [
           {
            "fillpattern": {
             "fillmode": "overlay",
             "size": 10,
             "solidity": 0.2
            },
            "type": "scatter"
           }
          ],
          "scatter3d": [
           {
            "line": {
             "colorbar": {
              "outlinewidth": 0,
              "ticks": ""
             }
            },
            "marker": {
             "colorbar": {
              "outlinewidth": 0,
              "ticks": ""
             }
            },
            "type": "scatter3d"
           }
          ],
          "scattercarpet": [
           {
            "marker": {
             "colorbar": {
              "outlinewidth": 0,
              "ticks": ""
             }
            },
            "type": "scattercarpet"
           }
          ],
          "scattergeo": [
           {
            "marker": {
             "colorbar": {
              "outlinewidth": 0,
              "ticks": ""
             }
            },
            "type": "scattergeo"
           }
          ],
          "scattergl": [
           {
            "marker": {
             "colorbar": {
              "outlinewidth": 0,
              "ticks": ""
             }
            },
            "type": "scattergl"
           }
          ],
          "scattermapbox": [
           {
            "marker": {
             "colorbar": {
              "outlinewidth": 0,
              "ticks": ""
             }
            },
            "type": "scattermapbox"
           }
          ],
          "scatterpolar": [
           {
            "marker": {
             "colorbar": {
              "outlinewidth": 0,
              "ticks": ""
             }
            },
            "type": "scatterpolar"
           }
          ],
          "scatterpolargl": [
           {
            "marker": {
             "colorbar": {
              "outlinewidth": 0,
              "ticks": ""
             }
            },
            "type": "scatterpolargl"
           }
          ],
          "scatterternary": [
           {
            "marker": {
             "colorbar": {
              "outlinewidth": 0,
              "ticks": ""
             }
            },
            "type": "scatterternary"
           }
          ],
          "surface": [
           {
            "colorbar": {
             "outlinewidth": 0,
             "ticks": ""
            },
            "colorscale": [
             [
              0,
              "#0d0887"
             ],
             [
              0.1111111111111111,
              "#46039f"
             ],
             [
              0.2222222222222222,
              "#7201a8"
             ],
             [
              0.3333333333333333,
              "#9c179e"
             ],
             [
              0.4444444444444444,
              "#bd3786"
             ],
             [
              0.5555555555555556,
              "#d8576b"
             ],
             [
              0.6666666666666666,
              "#ed7953"
             ],
             [
              0.7777777777777778,
              "#fb9f3a"
             ],
             [
              0.8888888888888888,
              "#fdca26"
             ],
             [
              1,
              "#f0f921"
             ]
            ],
            "type": "surface"
           }
          ],
          "table": [
           {
            "cells": {
             "fill": {
              "color": "#EBF0F8"
             },
             "line": {
              "color": "white"
             }
            },
            "header": {
             "fill": {
              "color": "#C8D4E3"
             },
             "line": {
              "color": "white"
             }
            },
            "type": "table"
           }
          ]
         },
         "layout": {
          "annotationdefaults": {
           "arrowcolor": "#2a3f5f",
           "arrowhead": 0,
           "arrowwidth": 1
          },
          "autotypenumbers": "strict",
          "coloraxis": {
           "colorbar": {
            "outlinewidth": 0,
            "ticks": ""
           }
          },
          "colorscale": {
           "diverging": [
            [
             0,
             "#8e0152"
            ],
            [
             0.1,
             "#c51b7d"
            ],
            [
             0.2,
             "#de77ae"
            ],
            [
             0.3,
             "#f1b6da"
            ],
            [
             0.4,
             "#fde0ef"
            ],
            [
             0.5,
             "#f7f7f7"
            ],
            [
             0.6,
             "#e6f5d0"
            ],
            [
             0.7,
             "#b8e186"
            ],
            [
             0.8,
             "#7fbc41"
            ],
            [
             0.9,
             "#4d9221"
            ],
            [
             1,
             "#276419"
            ]
           ],
           "sequential": [
            [
             0,
             "#0d0887"
            ],
            [
             0.1111111111111111,
             "#46039f"
            ],
            [
             0.2222222222222222,
             "#7201a8"
            ],
            [
             0.3333333333333333,
             "#9c179e"
            ],
            [
             0.4444444444444444,
             "#bd3786"
            ],
            [
             0.5555555555555556,
             "#d8576b"
            ],
            [
             0.6666666666666666,
             "#ed7953"
            ],
            [
             0.7777777777777778,
             "#fb9f3a"
            ],
            [
             0.8888888888888888,
             "#fdca26"
            ],
            [
             1,
             "#f0f921"
            ]
           ],
           "sequentialminus": [
            [
             0,
             "#0d0887"
            ],
            [
             0.1111111111111111,
             "#46039f"
            ],
            [
             0.2222222222222222,
             "#7201a8"
            ],
            [
             0.3333333333333333,
             "#9c179e"
            ],
            [
             0.4444444444444444,
             "#bd3786"
            ],
            [
             0.5555555555555556,
             "#d8576b"
            ],
            [
             0.6666666666666666,
             "#ed7953"
            ],
            [
             0.7777777777777778,
             "#fb9f3a"
            ],
            [
             0.8888888888888888,
             "#fdca26"
            ],
            [
             1,
             "#f0f921"
            ]
           ]
          },
          "colorway": [
           "#636efa",
           "#EF553B",
           "#00cc96",
           "#ab63fa",
           "#FFA15A",
           "#19d3f3",
           "#FF6692",
           "#B6E880",
           "#FF97FF",
           "#FECB52"
          ],
          "font": {
           "color": "#2a3f5f"
          },
          "geo": {
           "bgcolor": "white",
           "lakecolor": "white",
           "landcolor": "#E5ECF6",
           "showlakes": true,
           "showland": true,
           "subunitcolor": "white"
          },
          "hoverlabel": {
           "align": "left"
          },
          "hovermode": "closest",
          "mapbox": {
           "style": "light"
          },
          "paper_bgcolor": "white",
          "plot_bgcolor": "#E5ECF6",
          "polar": {
           "angularaxis": {
            "gridcolor": "white",
            "linecolor": "white",
            "ticks": ""
           },
           "bgcolor": "#E5ECF6",
           "radialaxis": {
            "gridcolor": "white",
            "linecolor": "white",
            "ticks": ""
           }
          },
          "scene": {
           "xaxis": {
            "backgroundcolor": "#E5ECF6",
            "gridcolor": "white",
            "gridwidth": 2,
            "linecolor": "white",
            "showbackground": true,
            "ticks": "",
            "zerolinecolor": "white"
           },
           "yaxis": {
            "backgroundcolor": "#E5ECF6",
            "gridcolor": "white",
            "gridwidth": 2,
            "linecolor": "white",
            "showbackground": true,
            "ticks": "",
            "zerolinecolor": "white"
           },
           "zaxis": {
            "backgroundcolor": "#E5ECF6",
            "gridcolor": "white",
            "gridwidth": 2,
            "linecolor": "white",
            "showbackground": true,
            "ticks": "",
            "zerolinecolor": "white"
           }
          },
          "shapedefaults": {
           "line": {
            "color": "#2a3f5f"
           }
          },
          "ternary": {
           "aaxis": {
            "gridcolor": "white",
            "linecolor": "white",
            "ticks": ""
           },
           "baxis": {
            "gridcolor": "white",
            "linecolor": "white",
            "ticks": ""
           },
           "bgcolor": "#E5ECF6",
           "caxis": {
            "gridcolor": "white",
            "linecolor": "white",
            "ticks": ""
           }
          },
          "title": {
           "x": 0.05
          },
          "xaxis": {
           "automargin": true,
           "gridcolor": "white",
           "linecolor": "white",
           "ticks": "",
           "title": {
            "standoff": 15
           },
           "zerolinecolor": "white",
           "zerolinewidth": 2
          },
          "yaxis": {
           "automargin": true,
           "gridcolor": "white",
           "linecolor": "white",
           "ticks": "",
           "title": {
            "standoff": 15
           },
           "zerolinecolor": "white",
           "zerolinewidth": 2
          }
         }
        },
        "title": {
         "text": "Real-Time Roof Segmentation"
        }
       }
      }
     },
     "metadata": {},
     "output_type": "display_data"
    }
   ],
   "source": [
    "# model.eval()\n",
    "\n",
    "# Load a test point cloud\n",
    "test_point_cloud = load_clean_point_cloud(\"data/points/94939.txt\")  # Assuming XYZ format\n",
    "\n",
    "# Run real-time inference & visualization\n",
    "inference_on_point_cloud(model, test_point_cloud, device, eps=0.18, min_samples=3)"
   ]
  },
  {
   "cell_type": "code",
   "execution_count": 43,
   "metadata": {},
   "outputs": [
    {
     "name": "stdout",
     "output_type": "stream",
     "text": [
      "Model checkpoint saved!\n"
     ]
    }
   ],
   "source": [
    "torch.save(model.state_dict(), \"model/pointnet_unet_checkpoint.pth\")\n",
    "print(\"Model checkpoint saved!\")"
   ]
  }
 ],
 "metadata": {
  "kernelspec": {
   "display_name": "my312",
   "language": "python",
   "name": "python3"
  },
  "language_info": {
   "codemirror_mode": {
    "name": "ipython",
    "version": 3
   },
   "file_extension": ".py",
   "mimetype": "text/x-python",
   "name": "python",
   "nbconvert_exporter": "python",
   "pygments_lexer": "ipython3",
   "version": "3.12.2"
  }
 },
 "nbformat": 4,
 "nbformat_minor": 2
}
