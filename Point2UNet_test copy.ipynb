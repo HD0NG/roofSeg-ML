{
 "cells": [
  {
   "cell_type": "code",
   "execution_count": 70,
   "metadata": {},
   "outputs": [],
   "source": [
    "from PointNet2FPUNet import *\n",
    "import numpy as np\n",
    "from sklearn.cluster import MeanShift, estimate_bandwidth\n",
    "import plotly.express as px\n",
    "import pandas as pd\n",
    "from sklearn.decomposition import PCA\n",
    "from sklearn.manifold import TSNE\n",
    "import matplotlib.pyplot as plt\n",
    "import pickle\n",
    "from sklearn.cluster import AgglomerativeClustering"
   ]
  },
  {
   "cell_type": "code",
   "execution_count": 71,
   "metadata": {},
   "outputs": [],
   "source": [
    "def normalize_embeddings(embeddings):\n",
    "    \"\"\"\n",
    "    Normalize embeddings to unit L2 norm per point.\n",
    "    Input: embeddings (N, D)\n",
    "    Output: normalized (N, D)\n",
    "    \"\"\"\n",
    "    norms = np.linalg.norm(embeddings, axis=1, keepdims=True) + 1e-8\n",
    "    return embeddings / norms"
   ]
  },
  {
   "cell_type": "code",
   "execution_count": 90,
   "metadata": {},
   "outputs": [],
   "source": [
    "def inference_on_point_cloud(model, point_cloud, device='cuda', clustering='meanshift'):\n",
    "    \"\"\"\n",
    "    Args:\n",
    "        model: trained PointNet++ U-Net model\n",
    "        point_cloud: (N, 3) numpy array of point cloud\n",
    "        clustering: 'meanshift' or 'dbscan'\n",
    "    Returns:\n",
    "        predicted_labels: (N,) instance labels\n",
    "        embeddings: (N, D) per-point feature embeddings\n",
    "    \"\"\"\n",
    "    model.eval()\n",
    "    point_cloud_tensor = torch.tensor(point_cloud, dtype=torch.float32).unsqueeze(0).to(device)  # (1, N, 3)\n",
    "\n",
    "    with torch.no_grad():\n",
    "        pe = add_positional_encoding(point_cloud_tensor)  # (1, N, 6)\n",
    "        embeddings, skip = model.encoder(point_cloud_tensor, return_skips=True)  # (1, N, D)\n",
    "        embeddings = embeddings.squeeze(0).cpu().numpy()  # → (N, D)\n",
    "        embeddings = normalize_embeddings(embeddings)\n",
    "\n",
    "    # Clustering\n",
    "    if clustering == 'meanshift':\n",
    "        bandwidth = estimate_bandwidth(embeddings, quantile=0.1)\n",
    "        # clustering = MeanShift(bandwidth=bandwidth, bin_seeding=True).fit(embeddings)\n",
    "        try:\n",
    "            clustering = MeanShift(bandwidth=bandwidth, bin_seeding=True).fit(embeddings)\n",
    "        except ValueError as e:\n",
    "            print(\"Falling back to bin_seeding=False due to error:\", e)\n",
    "            clustering = MeanShift(bandwidth=bandwidth, bin_seeding=False).fit(embeddings)\n",
    "    elif clustering == 'dbscan':\n",
    "        from sklearn.cluster import DBSCAN\n",
    "        clustering = DBSCAN(eps=2, min_samples=5).fit(embeddings)\n",
    "    elif clustering == 'agglomerative':\n",
    "        clustering = AgglomerativeClustering(n_clusters=None, distance_threshold=1.0).fit(embeddings)\n",
    "    else:\n",
    "        raise ValueError(\"Clustering method must be 'meanshift', 'dbscan', or 'agglomerative'.\")\n",
    "\n",
    "    predicted_labels = clustering.labels_  # shape: (N,)\n",
    "    return predicted_labels, embeddings\n"
   ]
  },
  {
   "cell_type": "code",
   "execution_count": 73,
   "metadata": {},
   "outputs": [],
   "source": [
    "def filter_clusters(labels, min_cluster_size=20):\n",
    "    \"\"\"\n",
    "    Removes small clusters by relabeling them as -1 (noise).\n",
    "    \"\"\"\n",
    "    labels = np.array(labels)\n",
    "    final_labels = labels.copy()\n",
    "    for cluster_id in np.unique(labels):\n",
    "        if cluster_id == -1:\n",
    "            continue\n",
    "        mask = labels == cluster_id\n",
    "        if np.sum(mask) < min_cluster_size:\n",
    "            final_labels[mask] = -1\n",
    "    return final_labels\n"
   ]
  },
  {
   "cell_type": "code",
   "execution_count": 74,
   "metadata": {},
   "outputs": [],
   "source": [
    "def load_clean_point_cloud(file_path, max_points=512):\n",
    "    \"\"\"\n",
    "    Reads a point cloud file, removes non-numeric lines, and ensures exactly 128 points.\n",
    "    \n",
    "    Args:\n",
    "        file_path (str): Path to the .txt file containing point cloud data.\n",
    "        max_points (int): Fixed number of points per cloud (default: 128).\n",
    "    \n",
    "    Returns:\n",
    "        numpy array: (128, 3) shape point cloud with valid XYZ values.\n",
    "    \"\"\"\n",
    "    valid_points = []\n",
    "\n",
    "    with open(file_path, \"r\") as file:\n",
    "        for line in file:\n",
    "            try:\n",
    "                # Convert to float, handling both spaces & commas as delimiters\n",
    "                values = np.array(line.strip().replace(',', ' ').split(), dtype=np.float64)\n",
    "                if len(values) == 3:  # Ensure it's an (X, Y, Z) point\n",
    "                    valid_points.append(values)\n",
    "            except ValueError:\n",
    "                continue  # Skip invalid lines\n",
    "\n",
    "    valid_points = np.array(valid_points)\n",
    "\n",
    "    num_points = valid_points.shape[0]\n",
    "\n",
    "    if num_points > max_points:\n",
    "        # Subsample to 128 points randomly\n",
    "        indices = np.random.choice(num_points, max_points, replace=False)\n",
    "        valid_points = valid_points[indices]\n",
    "    elif num_points < max_points:\n",
    "        # Pad with zeros to reach 128 points\n",
    "        pad_size = max_points - num_points\n",
    "        pad_points = np.zeros((pad_size, 3), dtype=np.float64)\n",
    "        valid_points = np.vstack((valid_points, pad_points))\n",
    "\n",
    "    return valid_points"
   ]
  },
  {
   "cell_type": "code",
   "execution_count": 75,
   "metadata": {},
   "outputs": [],
   "source": [
    "def visualize_embeddings(embeddings, labels=None, method='pca'):\n",
    "    \"\"\"\n",
    "    Visualize 2D projection of embeddings via PCA or t-SNE.\n",
    "    \"\"\"\n",
    "    if method == 'pca':\n",
    "        reducer = PCA(n_components=2)\n",
    "    elif method == 'tsne':\n",
    "        reducer = TSNE(n_components=2, perplexity=30)\n",
    "    else:\n",
    "        raise ValueError(\"Method must be 'pca' or 'tsne'.\")\n",
    "\n",
    "    projected = reducer.fit_transform(embeddings)\n",
    "\n",
    "    plt.figure(figsize=(8, 6))\n",
    "    if labels is not None:\n",
    "        plt.scatter(projected[:, 0], projected[:, 1], c=labels, cmap='jet', s=3)\n",
    "    else:\n",
    "        plt.scatter(projected[:, 0], projected[:, 1], s=3)\n",
    "    plt.title(f'Embedding Projection ({method.upper()})')\n",
    "    plt.axis('off')\n",
    "    plt.tight_layout()\n",
    "    plt.show()"
   ]
  },
  {
   "cell_type": "code",
   "execution_count": 76,
   "metadata": {},
   "outputs": [],
   "source": [
    "def visualize_clusters_plotly(points, labels, title=\"3D Instance Segmentation\"):\n",
    "    \"\"\"\n",
    "    Plot point cloud with instance labels using Plotly.\n",
    "    Args:\n",
    "        points: (N, 3)\n",
    "        labels: (N,) array of ints\n",
    "    \"\"\"\n",
    "    df = pd.DataFrame(points, columns=['x', 'y', 'z'])\n",
    "    df['label'] = labels.astype(str)\n",
    "\n",
    "    fig = px.scatter_3d(df, x='x', y='y', z='z', color='label',\n",
    "                        title=title,\n",
    "                        size_max=1, opacity=0.8)\n",
    "    fig.update_traces(marker=dict(size=2))\n",
    "    fig.update_layout(scene=dict(xaxis_visible=False, yaxis_visible=False, zaxis_visible=False))\n",
    "    fig.show()\n"
   ]
  },
  {
   "cell_type": "code",
   "execution_count": 77,
   "metadata": {},
   "outputs": [],
   "source": [
    "def plot_loss_from_pkl(pkl_path):\n",
    "    with open(pkl_path, 'rb') as f:\n",
    "        loss_history = pickle.load(f)\n",
    "\n",
    "    plt.figure(figsize=(8, 5))\n",
    "    plt.plot(loss_history, marker='o', linewidth=2)\n",
    "    plt.title(\"Training Loss Over Epochs\")\n",
    "    plt.xlabel(\"Epoch\")\n",
    "    plt.ylabel(\"Loss\")\n",
    "    plt.grid(True)\n",
    "    plt.tight_layout()\n",
    "    plt.show()"
   ]
  },
  {
   "cell_type": "code",
   "execution_count": 78,
   "metadata": {},
   "outputs": [
    {
     "data": {
      "image/png": "[encoded data removed]",
      "text/plain": [
       "<Figure size 800x500 with 1 Axes>"
      ]
     },
     "metadata": {},
     "output_type": "display_data"
    }
   ],
   "source": [
    "plot_loss_from_pkl(\"model/loss_history_pointnetpp_unet.pkl\")"
   ]
  },
  {
   "cell_type": "code",
   "execution_count": 79,
   "metadata": {},
   "outputs": [
    {
     "name": "stdout",
     "output_type": "stream",
     "text": [
      "✅ Model loaded successfully!\n"
     ]
    }
   ],
   "source": [
    "# Initialize model\n",
    "device = torch.device(\"cuda\" if torch.cuda.is_available() else \"mps\")\n",
    "model = PointNetPPUNet(emb_dim=128, output_dim=64).to(device)\n",
    "\n",
    "# Load trained weights\n",
    "model.load_state_dict(torch.load(\"model/pointnetpp_unet.pth\", map_location=device))\n",
    "model.eval()  # Set model to evaluation mode\n",
    "print(\"✅ Model loaded successfully!\")"
   ]
  },
  {
   "cell_type": "code",
   "execution_count": 91,
   "metadata": {},
   "outputs": [
    {
     "name": "stdout",
     "output_type": "stream",
     "text": [
      "Falling back to bin_seeding=False due to error: No point was within bandwidth=0.733025 of any seed. Try a different seeding strategy                              or increase the bandwidth.\n",
      "New predicted labels: [0 1 2 3 4]\n"
     ]
    },
    {
     "data": {
      "image/png": "[encoded data removed]",
      "text/plain": [
       "<Figure size 800x600 with 1 Axes>"
      ]
     },
     "metadata": {},
     "output_type": "display_data"
    },
    {
     "data": {
      "application/vnd.plotly.v1+json": {
       "config": {
        "plotlyServerURL": "https://plot.ly"
       },
       "data": [
        {
         "hovertemplate": "label=1<br>x=%{x}<br>y=%{y}<br>z=%{z}<extra></extra>",
         "legendgroup": "1",
         "marker": {
          "color": "#636efa",
          "opacity": 0.8,
          "size": 2,
          "symbol": "circle"
         },
         "mode": "markers",
         "name": "1",
         "scene": "scene",
         "showlegend": true,
         "type": "scatter3d",
         "x": {
          "bdata": "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",
          "dtype": "f8"
         },
         "y": {
          "bdata": "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",
          "dtype": "f8"
         },
         "z": {
          "bdata": "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",
          "dtype": "f8"
         }
        },
        {
         "hovertemplate": "label=0<br>x=%{x}<br>y=%{y}<br>z=%{z}<extra></extra>",
         "legendgroup": "0",
         "marker": {
          "color": "#EF553B",
          "opacity": 0.8,
          "size": 2,
          "symbol": "circle"
         },
         "mode": "markers",
         "name": "0",
         "scene": "scene",
         "showlegend": true,
         "type": "scatter3d",
         "x": {
          "bdata": "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",
          "dtype": "f8"
         },
         "y": {
          "bdata": "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",
          "dtype": "f8"
         },
         "z": {
          "bdata": "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",
          "dtype": "f8"
         }
        },
        {
         "hovertemplate": "label=2<br>x=%{x}<br>y=%{y}<br>z=%{z}<extra></extra>",
         "legendgroup": "2",
         "marker": {
          "color": "#00cc96",
          "opacity": 0.8,
          "size": 2,
          "symbol": "circle"
         },
         "mode": "markers",
         "name": "2",
         "scene": "scene",
         "showlegend": true,
         "type": "scatter3d",
         "x": {
          "bdata": "ieFxZ7n9qD8G4vs8XHzeP6ELG/Nw0NY/N87WuecR1z+U4Q+6xVO7P+mtxuBx4KM/vyJB/qaEzT9Fk9pV3vvLP49tmU+Gi9s/ygzTrDYZsT8CRUNEA/q+v805fCP7osc/Rdcgn+pNuj+hCxvzcNDWP5di4ibOVcU/pWKAedqrx78BR+gdFP6iv6H9KbMf7r8/3cgqtjYdxb+BrzQdozLXP0mayOj3t90/P7yAJxxL0D/jXkRFfA7EP+x6Xj7WqMg/5MPnngwM1j+dK/6BaeTfPxauUa+Qt8m/lHsmTLPY3T92k+KRARZ8P088EyKBdt0/eoajZYNN1j9RuFNOWTy3Pw==",
          "dtype": "f8"
         },
         "y": {
          "bdata": "tmfLUUrusD+Tz4Ot9ibDvyKfnbl5I92/E9W4tVYW1D+or42YBlCwv0Mo3kJmJ+o/fmK7DmM4cT9ra5tL9Y/YP//E5sOhNMM/AfNDzwB5nr8ZogWuqz7gP4/tJzopc7a/XrAIjusowT8ObEgBLHLmP3+g5J7vJL+/88Ik6UZa0L9RJBWtx63lPy3pi+Z4Geu/LEP1HfB62j+NWCJYM8O/P96WcHn5984/syTJAnK5qz/UeapJDI3lP4V5LjvkqcO/sTqEfCqcpj9eJStRj7fDP180fZeoXdU/XrAIjusowT/4ThhkCs7Tv73qrCl0JNw/BzZfxaCIrL+jLgTIorPmPw==",
          "dtype": "f8"
         },
         "z": {
          "bdata": "+KlSZ5v+vD9Km1QBTbPAv9fkciQb0r2/1jAGaB2pVj+lv8SxQzuxP38/sSZm65c/tFvb8K/flT/cBOaqndW1P6dfcgau7qu/rd2m+y7nuD/CVlup1GZlv0gNXZLSApw/jD3yvtJ1uz+lv8SxQzuxP0gNXZLSApw/VfjQxXjbtj/JNrJiQLJrP3E4M1c/AK+/2jhabfqfgb9U40T5HrShv8Fth+vS6Kq/2/CvW9Uygz9IcUZTZl63P8k2smJAsms/ExUIURtFnb/OxpDaLya2v5hNXOWuLZm/g2hFF4yXs78fs6/MHkGyP8L43YbRUJ+/95TGmkHXp7+5Rk8kVriwPw==",
          "dtype": "f8"
         }
        },
        {
         "hovertemplate": "label=3<br>x=%{x}<br>y=%{y}<br>z=%{z}<extra></extra>",
         "legendgroup": "3",
         "marker": {
          "color": "#ab63fa",
          "opacity": 0.8,
          "size": 2,
          "symbol": "circle"
         },
         "mode": "markers",
         "name": "3",
         "scene": "scene",
         "showlegend": true,
         "type": "scatter3d",
         "x": {
          "bdata": "weC6SqhH1T/XVZYcVT3MPxoOY8jweMs/kprBiQS6479UqhV7MhrGP5gdcYU8l90/0LOvJvAT0b9+a+7TluDYv6z5xGClCdA/oMJCaTRCuD8t3OPFn3BnP8lMTDdSAdm/JjPcwGu5tj8ZlQ2KqzTRv93IKrY2HcW/Lh7/gzEG1T92/1zn7CbVP0Zj+V2xsNu/JTBVFv3M2z+aq1Zt5k7PPwlAAC3Z6N+/oMJCaTRCuD9S8zqYROi+P0zznttofdM/Y/w36nHkxz8=",
          "dtype": "f8"
         },
         "y": {
          "bdata": "VD8ZaLpF5D/eTiuEoYnlv+2gTfPgU+e/yaZo2ene4L8jIvzqL13jv96WcHn5984/qQ83EbGa278FP51ZkmLCv/iGX9y1xdY/Qid9O5nB4D+C2dezjvTeP/1NhW7e0K8/1ZeZPVi9vj9s4L0OmR7bP3//d6Xze8Q/+46THvaZ6j+C4+btx1mkv34rwttLlry/tuCESHPkzb+iZAzYJ9zbvzlCzFmRtdq/wQhRtqZw37+SJbrhmtXkv5+9FAjS1+E/PVVRCd4V4r8=",
          "dtype": "f8"
         },
         "z": {
          "bdata": "d5iFAtVMtD8nrGYQ5jG4v9xNG01Co7W/pQj6U+gIsb+NUV0hifSsv7KPhMb6hbC/hB8QdefJsz+YTVzlri2Zv93QB8JkU6w/wmQxbkFkuD+ApsgS9mSvP5pGSDxk+q2/J9GRFgrtuT+R78+JnhSzv38/sSZm65c/ai/d2a17vD9U40T5HrShv8YWDzkNA7C/PFHTzONav79xODNXPwCvv8L43YbRUJ+/zMOwCPkHdj861S8U+rmivwosJVoMxLI/6nuc0Pfiqb8=",
          "dtype": "f8"
         }
        },
        {
         "hovertemplate": "label=4<br>x=%{x}<br>y=%{y}<br>z=%{z}<extra></extra>",
         "legendgroup": "4",
         "marker": {
          "color": "#FFA15A",
          "opacity": 0.8,
          "size": 2,
          "symbol": "circle"
         },
         "mode": "markers",
         "name": "4",
         "scene": "scene",
         "showlegend": true,
         "type": "scatter3d",
         "x": {
          "bdata": "UeX8xB3GzT9bsQMOTNbXPw==",
          "dtype": "f8"
         },
         "y": {
          "bdata": "0glnwM6BxT99tp8YqAe6vw==",
          "dtype": "f8"
         },
         "z": {
          "bdata": "LSqbBWcqpT8e/ORuww6yvw==",
          "dtype": "f8"
         }
        }
       ],
       "layout": {
        "legend": {
         "title": {
          "text": "label"
         },
         "tracegroupgap": 0
        },
        "scene": {
         "domain": {
          "x": [
           0,
           1
          ],
          "y": [
           0,
           1
          ]
         },
         "xaxis": {
          "title": {
           "text": "x"
          },
          "visible": false
         },
         "yaxis": {
          "title": {
           "text": "y"
          },
          "visible": false
         },
         "zaxis": {
          "title": {
           "text": "z"
          },
          "visible": false
         }
        },
        "template": {
         "data": {
          "bar": [
           {
            "error_x": {
             "color": "#2a3f5f"
            },
            "error_y": {
             "color": "#2a3f5f"
            },
            "marker": {
             "line": {
              "color": "#E5ECF6",
              "width": 0.5
             },
             "pattern": {
              "fillmode": "overlay",
              "size": 10,
              "solidity": 0.2
             }
            },
            "type": "bar"
           }
          ],
          "barpolar": [
           {
            "marker": {
             "line": {
              "color": "#E5ECF6",
              "width": 0.5
             },
             "pattern": {
              "fillmode": "overlay",
              "size": 10,
              "solidity": 0.2
             }
            },
            "type": "barpolar"
           }
          ],
          "carpet": [
           {
            "aaxis": {
             "endlinecolor": "#2a3f5f",
             "gridcolor": "white",
             "linecolor": "white",
             "minorgridcolor": "white",
             "startlinecolor": "#2a3f5f"
            },
            "baxis": {
             "endlinecolor": "#2a3f5f",
             "gridcolor": "white",
             "linecolor": "white",
             "minorgridcolor": "white",
             "startlinecolor": "#2a3f5f"
            },
            "type": "carpet"
           }
          ],
          "choropleth": [
           {
            "colorbar": {
             "outlinewidth": 0,
             "ticks": ""
            },
            "type": "choropleth"
           }
          ],
          "contour": [
           {
            "colorbar": {
             "outlinewidth": 0,
             "ticks": ""
            },
            "colorscale": [
             [
              0,
              "#0d0887"
             ],
             [
              0.1111111111111111,
              "#46039f"
             ],
             [
              0.2222222222222222,
              "#7201a8"
             ],
             [
              0.3333333333333333,
              "#9c179e"
             ],
             [
              0.4444444444444444,
              "#bd3786"
             ],
             [
              0.5555555555555556,
              "#d8576b"
             ],
             [
              0.6666666666666666,
              "#ed7953"
             ],
             [
              0.7777777777777778,
              "#fb9f3a"
             ],
             [
              0.8888888888888888,
              "#fdca26"
             ],
             [
              1,
              "#f0f921"
             ]
            ],
            "type": "contour"
           }
          ],
          "contourcarpet": [
           {
            "colorbar": {
             "outlinewidth": 0,
             "ticks": ""
            },
            "type": "contourcarpet"
           }
          ],
          "heatmap": [
           {
            "colorbar": {
             "outlinewidth": 0,
             "ticks": ""
            },
            "colorscale": [
             [
              0,
              "#0d0887"
             ],
             [
              0.1111111111111111,
              "#46039f"
             ],
             [
              0.2222222222222222,
              "#7201a8"
             ],
             [
              0.3333333333333333,
              "#9c179e"
             ],
             [
              0.4444444444444444,
              "#bd3786"
             ],
             [
              0.5555555555555556,
              "#d8576b"
             ],
             [
              0.6666666666666666,
              "#ed7953"
             ],
             [
              0.7777777777777778,
              "#fb9f3a"
             ],
             [
              0.8888888888888888,
              "#fdca26"
             ],
             [
              1,
              "#f0f921"
             ]
            ],
            "type": "heatmap"
           }
          ],
          "histogram": [
           {
            "marker": {
             "pattern": {
              "fillmode": "overlay",
              "size": 10,
              "solidity": 0.2
             }
            },
            "type": "histogram"
           }
          ],
          "histogram2d": [
           {
            "colorbar": {
             "outlinewidth": 0,
             "ticks": ""
            },
            "colorscale": [
             [
              0,
              "#0d0887"
             ],
             [
              0.1111111111111111,
              "#46039f"
             ],
             [
              0.2222222222222222,
              "#7201a8"
             ],
             [
              0.3333333333333333,
              "#9c179e"
             ],
             [
              0.4444444444444444,
              "#bd3786"
             ],
             [
              0.5555555555555556,
              "#d8576b"
             ],
             [
              0.6666666666666666,
              "#ed7953"
             ],
             [
              0.7777777777777778,
              "#fb9f3a"
             ],
             [
              0.8888888888888888,
              "#fdca26"
             ],
             [
              1,
              "#f0f921"
             ]
            ],
            "type": "histogram2d"
           }
          ],
          "histogram2dcontour": [
           {
            "colorbar": {
             "outlinewidth": 0,
             "ticks": ""
            },
            "colorscale": [
             [
              0,
              "#0d0887"
             ],
             [
              0.1111111111111111,
              "#46039f"
             ],
             [
              0.2222222222222222,
              "#7201a8"
             ],
             [
              0.3333333333333333,
              "#9c179e"
             ],
             [
              0.4444444444444444,
              "#bd3786"
             ],
             [
              0.5555555555555556,
              "#d8576b"
             ],
             [
              0.6666666666666666,
              "#ed7953"
             ],
             [
              0.7777777777777778,
              "#fb9f3a"
             ],
             [
              0.8888888888888888,
              "#fdca26"
             ],
             [
              1,
              "#f0f921"
             ]
            ],
            "type": "histogram2dcontour"
           }
          ],
          "mesh3d": [
           {
            "colorbar": {
             "outlinewidth": 0,
             "ticks": ""
            },
            "type": "mesh3d"
           }
          ],
          "parcoords": [
           {
            "line": {
             "colorbar": {
              "outlinewidth": 0,
              "ticks": ""
             }
            },
            "type": "parcoords"
           }
          ],
          "pie": [
           {
            "automargin": true,
            "type": "pie"
           }
          ],
          "scatter": [
           {
            "fillpattern": {
             "fillmode": "overlay",
             "size": 10,
             "solidity": 0.2
            },
            "type": "scatter"
           }
          ],
          "scatter3d": [
           {
            "line": {
             "colorbar": {
              "outlinewidth": 0,
              "ticks": ""
             }
            },
            "marker": {
             "colorbar": {
              "outlinewidth": 0,
              "ticks": ""
             }
            },
            "type": "scatter3d"
           }
          ],
          "scattercarpet": [
           {
            "marker": {
             "colorbar": {
              "outlinewidth": 0,
              "ticks": ""
             }
            },
            "type": "scattercarpet"
           }
          ],
          "scattergeo": [
           {
            "marker": {
             "colorbar": {
              "outlinewidth": 0,
              "ticks": ""
             }
            },
            "type": "scattergeo"
           }
          ],
          "scattergl": [
           {
            "marker": {
             "colorbar": {
              "outlinewidth": 0,
              "ticks": ""
             }
            },
            "type": "scattergl"
           }
          ],
          "scattermap": [
           {
            "marker": {
             "colorbar": {
              "outlinewidth": 0,
              "ticks": ""
             }
            },
            "type": "scattermap"
           }
          ],
          "scattermapbox": [
           {
            "marker": {
             "colorbar": {
              "outlinewidth": 0,
              "ticks": ""
             }
            },
            "type": "scattermapbox"
           }
          ],
          "scatterpolar": [
           {
            "marker": {
             "colorbar": {
              "outlinewidth": 0,
              "ticks": ""
             }
            },
            "type": "scatterpolar"
           }
          ],
          "scatterpolargl": [
           {
            "marker": {
             "colorbar": {
              "outlinewidth": 0,
              "ticks": ""
             }
            },
            "type": "scatterpolargl"
           }
          ],
          "scatterternary": [
           {
            "marker": {
             "colorbar": {
              "outlinewidth": 0,
              "ticks": ""
             }
            },
            "type": "scatterternary"
           }
          ],
          "surface": [
           {
            "colorbar": {
             "outlinewidth": 0,
             "ticks": ""
            },
            "colorscale": [
             [
              0,
              "#0d0887"
             ],
             [
              0.1111111111111111,
              "#46039f"
             ],
             [
              0.2222222222222222,
              "#7201a8"
             ],
             [
              0.3333333333333333,
              "#9c179e"
             ],
             [
              0.4444444444444444,
              "#bd3786"
             ],
             [
              0.5555555555555556,
              "#d8576b"
             ],
             [
              0.6666666666666666,
              "#ed7953"
             ],
             [
              0.7777777777777778,
              "#fb9f3a"
             ],
             [
              0.8888888888888888,
              "#fdca26"
             ],
             [
              1,
              "#f0f921"
             ]
            ],
            "type": "surface"
           }
          ],
          "table": [
           {
            "cells": {
             "fill": {
              "color": "#EBF0F8"
             },
             "line": {
              "color": "white"
             }
            },
            "header": {
             "fill": {
              "color": "#C8D4E3"
             },
             "line": {
              "color": "white"
             }
            },
            "type": "table"
           }
          ]
         },
         "layout": {
          "annotationdefaults": {
           "arrowcolor": "#2a3f5f",
           "arrowhead": 0,
           "arrowwidth": 1
          },
          "autotypenumbers": "strict",
          "coloraxis": {
           "colorbar": {
            "outlinewidth": 0,
            "ticks": ""
           }
          },
          "colorscale": {
           "diverging": [
            [
             0,
             "#8e0152"
            ],
            [
             0.1,
             "#c51b7d"
            ],
            [
             0.2,
             "#de77ae"
            ],
            [
             0.3,
             "#f1b6da"
            ],
            [
             0.4,
             "#fde0ef"
            ],
            [
             0.5,
             "#f7f7f7"
            ],
            [
             0.6,
             "#e6f5d0"
            ],
            [
             0.7,
             "#b8e186"
            ],
            [
             0.8,
             "#7fbc41"
            ],
            [
             0.9,
             "#4d9221"
            ],
            [
             1,
             "#276419"
            ]
           ],
           "sequential": [
            [
             0,
             "#0d0887"
            ],
            [
             0.1111111111111111,
             "#46039f"
            ],
            [
             0.2222222222222222,
             "#7201a8"
            ],
            [
             0.3333333333333333,
             "#9c179e"
            ],
            [
             0.4444444444444444,
             "#bd3786"
            ],
            [
             0.5555555555555556,
             "#d8576b"
            ],
            [
             0.6666666666666666,
             "#ed7953"
            ],
            [
             0.7777777777777778,
             "#fb9f3a"
            ],
            [
             0.8888888888888888,
             "#fdca26"
            ],
            [
             1,
             "#f0f921"
            ]
           ],
           "sequentialminus": [
            [
             0,
             "#0d0887"
            ],
            [
             0.1111111111111111,
             "#46039f"
            ],
            [
             0.2222222222222222,
             "#7201a8"
            ],
            [
             0.3333333333333333,
             "#9c179e"
            ],
            [
             0.4444444444444444,
             "#bd3786"
            ],
            [
             0.5555555555555556,
             "#d8576b"
            ],
            [
             0.6666666666666666,
             "#ed7953"
            ],
            [
             0.7777777777777778,
             "#fb9f3a"
            ],
            [
             0.8888888888888888,
             "#fdca26"
            ],
            [
             1,
             "#f0f921"
            ]
           ]
          },
          "colorway": [
           "#636efa",
           "#EF553B",
           "#00cc96",
           "#ab63fa",
           "#FFA15A",
           "#19d3f3",
           "#FF6692",
           "#B6E880",
           "#FF97FF",
           "#FECB52"
          ],
          "font": {
           "color": "#2a3f5f"
          },
          "geo": {
           "bgcolor": "white",
           "lakecolor": "white",
           "landcolor": "#E5ECF6",
           "showlakes": true,
           "showland": true,
           "subunitcolor": "white"
          },
          "hoverlabel": {
           "align": "left"
          },
          "hovermode": "closest",
          "mapbox": {
           "style": "light"
          },
          "paper_bgcolor": "white",
          "plot_bgcolor": "#E5ECF6",
          "polar": {
           "angularaxis": {
            "gridcolor": "white",
            "linecolor": "white",
            "ticks": ""
           },
           "bgcolor": "#E5ECF6",
           "radialaxis": {
            "gridcolor": "white",
            "linecolor": "white",
            "ticks": ""
           }
          },
          "scene": {
           "xaxis": {
            "backgroundcolor": "#E5ECF6",
            "gridcolor": "white",
            "gridwidth": 2,
            "linecolor": "white",
            "showbackground": true,
            "ticks": "",
            "zerolinecolor": "white"
           },
           "yaxis": {
            "backgroundcolor": "#E5ECF6",
            "gridcolor": "white",
            "gridwidth": 2,
            "linecolor": "white",
            "showbackground": true,
            "ticks": "",
            "zerolinecolor": "white"
           },
           "zaxis": {
            "backgroundcolor": "#E5ECF6",
            "gridcolor": "white",
            "gridwidth": 2,
            "linecolor": "white",
            "showbackground": true,
            "ticks": "",
            "zerolinecolor": "white"
           }
          },
          "shapedefaults": {
           "line": {
            "color": "#2a3f5f"
           }
          },
          "ternary": {
           "aaxis": {
            "gridcolor": "white",
            "linecolor": "white",
            "ticks": ""
           },
           "baxis": {
            "gridcolor": "white",
            "linecolor": "white",
            "ticks": ""
           },
           "bgcolor": "#E5ECF6",
           "caxis": {
            "gridcolor": "white",
            "linecolor": "white",
            "ticks": ""
           }
          },
          "title": {
           "x": 0.05
          },
          "xaxis": {
           "automargin": true,
           "gridcolor": "white",
           "linecolor": "white",
           "ticks": "",
           "title": {
            "standoff": 15
           },
           "zerolinecolor": "white",
           "zerolinewidth": 2
          },
          "yaxis": {
           "automargin": true,
           "gridcolor": "white",
           "linecolor": "white",
           "ticks": "",
           "title": {
            "standoff": 15
           },
           "zerolinecolor": "white",
           "zerolinewidth": 2
          }
         }
        },
        "title": {
         "text": "3D Instance Segmentation"
        }
       }
      }
     },
     "metadata": {},
     "output_type": "display_data"
    }
   ],
   "source": [
    "# Load a test point cloud\n",
    "test_point_cloud = load_clean_point_cloud(\"data/roofNTNU/train_test_split/points_test/182371181-2.txt\")  # Assuming XYZ format\n",
    "\n",
    "# Run real-time inference & visualization\n",
    "labels, embeddings = inference_on_point_cloud(model, test_point_cloud, device=device, clustering='meanshift')\n",
    "\n",
    "# labels = filter_clusters(labels)\n",
    "\n",
    "print(\"New predicted labels:\", np.unique(labels))\n",
    "visualize_embeddings(embeddings, labels, method='tsne')\n",
    "visualize_clusters_plotly(test_point_cloud, labels)"
   ]
  },
  {
   "cell_type": "code",
   "execution_count": 17,
   "metadata": {},
   "outputs": [
    {
     "name": "stdout",
     "output_type": "stream",
     "text": [
      "Predicted label counts: (array([-1]), array([512]))\n",
      "Embedding variance: 0.35818487\n"
     ]
    }
   ],
   "source": [
    "print(\"Predicted label counts:\", np.unique(labels, return_counts=True))\n",
    "print(\"Embedding variance:\", np.var(embeddings, axis=0).mean())"
   ]
  }
 ],
 "metadata": {
  "kernelspec": {
   "display_name": "my312",
   "language": "python",
   "name": "python3"
  },
  "language_info": {
   "codemirror_mode": {
    "name": "ipython",
    "version": 3
   },
   "file_extension": ".py",
   "mimetype": "text/x-python",
   "name": "python",
   "nbconvert_exporter": "python",
   "pygments_lexer": "ipython3",
   "version": "3.12.9"
  }
 },
 "nbformat": 4,
 "nbformat_minor": 2
}
